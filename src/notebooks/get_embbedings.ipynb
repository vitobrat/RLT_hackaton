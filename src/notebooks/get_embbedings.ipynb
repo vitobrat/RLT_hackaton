{
 "cells": [
  {
   "cell_type": "code",
   "execution_count": 2,
   "outputs": [],
   "source": [
    "import pandas as pd\n",
    "\n",
    "df = pd.read_csv(\"C:\\\\Users\\\\bratk\\\\DataScience\\\\hackaton_RLT\\\\data\\\\data_items\")"
   ],
   "metadata": {
    "collapsed": false,
    "ExecuteTime": {
     "end_time": "2024-09-07T10:20:12.718759900Z",
     "start_time": "2024-09-07T10:20:05.550497300Z"
    }
   },
   "id": "b2d263ee2ee6422d"
  },
  {
   "cell_type": "code",
   "execution_count": 5,
   "outputs": [
    {
     "data": {
      "text/plain": "         Unnamed: 0                                          item_name  \\\n0                 0              Стакан в сборе ПН-40АЦ-2,5-40(433362)   \n1                 1                   Колодки тормозные АЦ-2,5-40(131)   \n2                 2           Головка блока цилиндра АЦ-2,5-40(433362)   \n3                 3                Маховик с ободом ЯМЗАЦ-6,0-40(5557)   \n4                 4              Задвижка боковая ПН-40АЦ-3,0-40(4334)   \n...             ...                                                ...   \n3326939     8095341  Модель для катетеризации мужского мочевого пузыря   \n3326940     8095342            Набор муляжей ран для судебной медицины   \n3326941     8095343  Интерактивный тренажерный комплекс для эндоскопии   \n3326942     8095344  Интерактивный лапароскопический тренажер для о...   \n3326943     8095345  Тренажер для отработки навыков внутримышечных ...   \n\n           okpd2_code  \n0        29.32.30.390  \n1        29.32.30.132  \n2        29.32.30.390  \n3        29.32.30.390  \n4        29.32.30.390  \n...               ...  \n3326939  32.99.53.190  \n3326940  32.99.53.190  \n3326941  32.99.53.190  \n3326942  32.99.53.190  \n3326943  32.99.53.190  \n\n[3326944 rows x 3 columns]",
      "text/html": "<div>\n<style scoped>\n    .dataframe tbody tr th:only-of-type {\n        vertical-align: middle;\n    }\n\n    .dataframe tbody tr th {\n        vertical-align: top;\n    }\n\n    .dataframe thead th {\n        text-align: right;\n    }\n</style>\n<table border=\"1\" class=\"dataframe\">\n  <thead>\n    <tr style=\"text-align: right;\">\n      <th></th>\n      <th>Unnamed: 0</th>\n      <th>item_name</th>\n      <th>okpd2_code</th>\n    </tr>\n  </thead>\n  <tbody>\n    <tr>\n      <th>0</th>\n      <td>0</td>\n      <td>Стакан в сборе ПН-40АЦ-2,5-40(433362)</td>\n      <td>29.32.30.390</td>\n    </tr>\n    <tr>\n      <th>1</th>\n      <td>1</td>\n      <td>Колодки тормозные АЦ-2,5-40(131)</td>\n      <td>29.32.30.132</td>\n    </tr>\n    <tr>\n      <th>2</th>\n      <td>2</td>\n      <td>Головка блока цилиндра АЦ-2,5-40(433362)</td>\n      <td>29.32.30.390</td>\n    </tr>\n    <tr>\n      <th>3</th>\n      <td>3</td>\n      <td>Маховик с ободом ЯМЗАЦ-6,0-40(5557)</td>\n      <td>29.32.30.390</td>\n    </tr>\n    <tr>\n      <th>4</th>\n      <td>4</td>\n      <td>Задвижка боковая ПН-40АЦ-3,0-40(4334)</td>\n      <td>29.32.30.390</td>\n    </tr>\n    <tr>\n      <th>...</th>\n      <td>...</td>\n      <td>...</td>\n      <td>...</td>\n    </tr>\n    <tr>\n      <th>3326939</th>\n      <td>8095341</td>\n      <td>Модель для катетеризации мужского мочевого пузыря</td>\n      <td>32.99.53.190</td>\n    </tr>\n    <tr>\n      <th>3326940</th>\n      <td>8095342</td>\n      <td>Набор муляжей ран для судебной медицины</td>\n      <td>32.99.53.190</td>\n    </tr>\n    <tr>\n      <th>3326941</th>\n      <td>8095343</td>\n      <td>Интерактивный тренажерный комплекс для эндоскопии</td>\n      <td>32.99.53.190</td>\n    </tr>\n    <tr>\n      <th>3326942</th>\n      <td>8095344</td>\n      <td>Интерактивный лапароскопический тренажер для о...</td>\n      <td>32.99.53.190</td>\n    </tr>\n    <tr>\n      <th>3326943</th>\n      <td>8095345</td>\n      <td>Тренажер для отработки навыков внутримышечных ...</td>\n      <td>32.99.53.190</td>\n    </tr>\n  </tbody>\n</table>\n<p>3326944 rows × 3 columns</p>\n</div>"
     },
     "execution_count": 5,
     "metadata": {},
     "output_type": "execute_result"
    }
   ],
   "source": [
    "df"
   ],
   "metadata": {
    "collapsed": false,
    "ExecuteTime": {
     "end_time": "2024-09-07T10:29:18.312594200Z",
     "start_time": "2024-09-07T10:29:18.309406900Z"
    }
   },
   "id": "5c2f8050f34e169c"
  },
  {
   "cell_type": "code",
   "execution_count": 17,
   "id": "initial_id",
   "metadata": {
    "collapsed": true,
    "ExecuteTime": {
     "end_time": "2024-09-07T11:21:41.888125800Z",
     "start_time": "2024-09-07T11:08:11.748218300Z"
    }
   },
   "outputs": [],
   "source": [
    "from sentence_transformers import SentenceTransformer\n",
    "\n",
    "# Load the model\n",
    "model = SentenceTransformer('sergeyzh/rubert-tiny-turbo')\n",
    "\n",
    "# Move the model to GPU (if available)\n",
    "model = model.to('cuda')\n",
    "\n",
    "# Extract the sentences\n",
    "sentences = df[\"item_name\"]\n",
    "\n",
    "# Encode the sentences on GPU\n",
    "embeddings = model.encode(sentences, device='cuda')"
   ]
  },
  {
   "cell_type": "code",
   "execution_count": 23,
   "outputs": [
    {
     "data": {
      "text/plain": "(3326944, 312)"
     },
     "execution_count": 23,
     "metadata": {},
     "output_type": "execute_result"
    }
   ],
   "source": [
    "embeddings.shape"
   ],
   "metadata": {
    "collapsed": false,
    "ExecuteTime": {
     "end_time": "2024-09-07T11:34:45.759116800Z",
     "start_time": "2024-09-07T11:34:45.753282400Z"
    }
   },
   "id": "89c82d4031e2cdc"
  },
  {
   "cell_type": "code",
   "execution_count": 37,
   "outputs": [
    {
     "name": "stdout",
     "output_type": "stream",
     "text": [
      "^C\n"
     ]
    }
   ],
   "source": [
    "!pip uninstall umap"
   ],
   "metadata": {
    "collapsed": false,
    "ExecuteTime": {
     "end_time": "2024-09-07T11:56:02.392751100Z",
     "start_time": "2024-09-07T11:54:52.765248400Z"
    }
   },
   "id": "d1777f4dc27c0c56"
  },
  {
   "cell_type": "code",
   "execution_count": 39,
   "outputs": [
    {
     "name": "stdout",
     "output_type": "stream",
     "text": [
      "Requirement already satisfied: umap-learn in c:\\users\\bratk\\anaconda3\\lib\\site-packages (0.5.6)\n",
      "Requirement already satisfied: numpy>=1.17 in c:\\users\\bratk\\anaconda3\\lib\\site-packages (from umap-learn) (1.26.4)\n",
      "Requirement already satisfied: scipy>=1.3.1 in c:\\users\\bratk\\anaconda3\\lib\\site-packages (from umap-learn) (1.11.4)\n",
      "Requirement already satisfied: scikit-learn>=0.22 in c:\\users\\bratk\\anaconda3\\lib\\site-packages (from umap-learn) (1.2.2)\n",
      "Requirement already satisfied: numba>=0.51.2 in c:\\users\\bratk\\anaconda3\\lib\\site-packages (from umap-learn) (0.59.0)\n",
      "Requirement already satisfied: pynndescent>=0.5 in c:\\users\\bratk\\anaconda3\\lib\\site-packages (from umap-learn) (0.5.13)\n",
      "Requirement already satisfied: tqdm in c:\\users\\bratk\\anaconda3\\lib\\site-packages (from umap-learn) (4.65.0)\n",
      "Requirement already satisfied: llvmlite<0.43,>=0.42.0dev0 in c:\\users\\bratk\\anaconda3\\lib\\site-packages (from numba>=0.51.2->umap-learn) (0.42.0)\n",
      "Requirement already satisfied: joblib>=0.11 in c:\\users\\bratk\\anaconda3\\lib\\site-packages (from pynndescent>=0.5->umap-learn) (1.2.0)\n",
      "Requirement already satisfied: threadpoolctl>=2.0.0 in c:\\users\\bratk\\anaconda3\\lib\\site-packages (from scikit-learn>=0.22->umap-learn) (2.2.0)\n",
      "Requirement already satisfied: colorama in c:\\users\\bratk\\anaconda3\\lib\\site-packages (from tqdm->umap-learn) (0.4.6)\n"
     ]
    }
   ],
   "source": [
    "!pip install umap-learn"
   ],
   "metadata": {
    "collapsed": false,
    "ExecuteTime": {
     "end_time": "2024-09-07T11:56:34.349643200Z",
     "start_time": "2024-09-07T11:56:30.390025400Z"
    }
   },
   "id": "7155eb42269aaf01"
  },
  {
   "cell_type": "code",
   "execution_count": 40,
   "outputs": [
    {
     "ename": "MemoryError",
     "evalue": "Unable to allocate memory to append item",
     "output_type": "error",
     "traceback": [
      "\u001B[1;31m---------------------------------------------------------------------------\u001B[0m",
      "\u001B[1;31mMemoryError\u001B[0m                               Traceback (most recent call last)",
      "Cell \u001B[1;32mIn[40], line 5\u001B[0m\n\u001B[0;32m      3\u001B[0m \u001B[38;5;66;03m# UMAP reduction\u001B[39;00m\n\u001B[0;32m      4\u001B[0m umap_reducer \u001B[38;5;241m=\u001B[39m umap\u001B[38;5;241m.\u001B[39mUMAP(n_components\u001B[38;5;241m=\u001B[39m\u001B[38;5;241m50\u001B[39m)  \u001B[38;5;66;03m# Choose the number of dimensions\u001B[39;00m\n\u001B[1;32m----> 5\u001B[0m reduced_embeddings \u001B[38;5;241m=\u001B[39m umap_reducer\u001B[38;5;241m.\u001B[39mfit_transform(embeddings)\n",
      "File \u001B[1;32m~\\anaconda3\\Lib\\site-packages\\umap\\umap_.py:2891\u001B[0m, in \u001B[0;36mUMAP.fit_transform\u001B[1;34m(self, X, y, force_all_finite)\u001B[0m\n\u001B[0;32m   2855\u001B[0m \u001B[38;5;28;01mdef\u001B[39;00m \u001B[38;5;21mfit_transform\u001B[39m(\u001B[38;5;28mself\u001B[39m, X, y\u001B[38;5;241m=\u001B[39m\u001B[38;5;28;01mNone\u001B[39;00m, force_all_finite\u001B[38;5;241m=\u001B[39m\u001B[38;5;28;01mTrue\u001B[39;00m):\n\u001B[0;32m   2856\u001B[0m \u001B[38;5;250m    \u001B[39m\u001B[38;5;124;03m\"\"\"Fit X into an embedded space and return that transformed\u001B[39;00m\n\u001B[0;32m   2857\u001B[0m \u001B[38;5;124;03m    output.\u001B[39;00m\n\u001B[0;32m   2858\u001B[0m \n\u001B[1;32m   (...)\u001B[0m\n\u001B[0;32m   2889\u001B[0m \u001B[38;5;124;03m        Local radii of data points in the embedding (log-transformed).\u001B[39;00m\n\u001B[0;32m   2890\u001B[0m \u001B[38;5;124;03m    \"\"\"\u001B[39;00m\n\u001B[1;32m-> 2891\u001B[0m     \u001B[38;5;28mself\u001B[39m\u001B[38;5;241m.\u001B[39mfit(X, y, force_all_finite)\n\u001B[0;32m   2892\u001B[0m     \u001B[38;5;28;01mif\u001B[39;00m \u001B[38;5;28mself\u001B[39m\u001B[38;5;241m.\u001B[39mtransform_mode \u001B[38;5;241m==\u001B[39m \u001B[38;5;124m\"\u001B[39m\u001B[38;5;124membedding\u001B[39m\u001B[38;5;124m\"\u001B[39m:\n\u001B[0;32m   2893\u001B[0m         \u001B[38;5;28;01mif\u001B[39;00m \u001B[38;5;28mself\u001B[39m\u001B[38;5;241m.\u001B[39moutput_dens:\n",
      "File \u001B[1;32m~\\anaconda3\\Lib\\site-packages\\umap\\umap_.py:2612\u001B[0m, in \u001B[0;36mUMAP.fit\u001B[1;34m(self, X, y, force_all_finite)\u001B[0m\n\u001B[0;32m   2606\u001B[0m     nn_metric \u001B[38;5;241m=\u001B[39m \u001B[38;5;28mself\u001B[39m\u001B[38;5;241m.\u001B[39m_input_distance_func\n\u001B[0;32m   2607\u001B[0m \u001B[38;5;28;01mif\u001B[39;00m \u001B[38;5;28mself\u001B[39m\u001B[38;5;241m.\u001B[39mknn_dists \u001B[38;5;129;01mis\u001B[39;00m \u001B[38;5;28;01mNone\u001B[39;00m:\n\u001B[0;32m   2608\u001B[0m     (\n\u001B[0;32m   2609\u001B[0m         \u001B[38;5;28mself\u001B[39m\u001B[38;5;241m.\u001B[39m_knn_indices,\n\u001B[0;32m   2610\u001B[0m         \u001B[38;5;28mself\u001B[39m\u001B[38;5;241m.\u001B[39m_knn_dists,\n\u001B[0;32m   2611\u001B[0m         \u001B[38;5;28mself\u001B[39m\u001B[38;5;241m.\u001B[39m_knn_search_index,\n\u001B[1;32m-> 2612\u001B[0m     ) \u001B[38;5;241m=\u001B[39m nearest_neighbors(\n\u001B[0;32m   2613\u001B[0m         X[index],\n\u001B[0;32m   2614\u001B[0m         \u001B[38;5;28mself\u001B[39m\u001B[38;5;241m.\u001B[39m_n_neighbors,\n\u001B[0;32m   2615\u001B[0m         nn_metric,\n\u001B[0;32m   2616\u001B[0m         \u001B[38;5;28mself\u001B[39m\u001B[38;5;241m.\u001B[39m_metric_kwds,\n\u001B[0;32m   2617\u001B[0m         \u001B[38;5;28mself\u001B[39m\u001B[38;5;241m.\u001B[39mangular_rp_forest,\n\u001B[0;32m   2618\u001B[0m         random_state,\n\u001B[0;32m   2619\u001B[0m         \u001B[38;5;28mself\u001B[39m\u001B[38;5;241m.\u001B[39mlow_memory,\n\u001B[0;32m   2620\u001B[0m         use_pynndescent\u001B[38;5;241m=\u001B[39m\u001B[38;5;28;01mTrue\u001B[39;00m,\n\u001B[0;32m   2621\u001B[0m         n_jobs\u001B[38;5;241m=\u001B[39m\u001B[38;5;28mself\u001B[39m\u001B[38;5;241m.\u001B[39mn_jobs,\n\u001B[0;32m   2622\u001B[0m         verbose\u001B[38;5;241m=\u001B[39m\u001B[38;5;28mself\u001B[39m\u001B[38;5;241m.\u001B[39mverbose,\n\u001B[0;32m   2623\u001B[0m     )\n\u001B[0;32m   2624\u001B[0m \u001B[38;5;28;01melse\u001B[39;00m:\n\u001B[0;32m   2625\u001B[0m     \u001B[38;5;28mself\u001B[39m\u001B[38;5;241m.\u001B[39m_knn_indices \u001B[38;5;241m=\u001B[39m \u001B[38;5;28mself\u001B[39m\u001B[38;5;241m.\u001B[39mknn_indices\n",
      "File \u001B[1;32m~\\anaconda3\\Lib\\site-packages\\umap\\umap_.py:330\u001B[0m, in \u001B[0;36mnearest_neighbors\u001B[1;34m(X, n_neighbors, metric, metric_kwds, angular, random_state, low_memory, use_pynndescent, n_jobs, verbose)\u001B[0m\n\u001B[0;32m    327\u001B[0m     n_trees \u001B[38;5;241m=\u001B[39m \u001B[38;5;28mmin\u001B[39m(\u001B[38;5;241m64\u001B[39m, \u001B[38;5;241m5\u001B[39m \u001B[38;5;241m+\u001B[39m \u001B[38;5;28mint\u001B[39m(\u001B[38;5;28mround\u001B[39m((X\u001B[38;5;241m.\u001B[39mshape[\u001B[38;5;241m0\u001B[39m]) \u001B[38;5;241m*\u001B[39m\u001B[38;5;241m*\u001B[39m \u001B[38;5;241m0.5\u001B[39m \u001B[38;5;241m/\u001B[39m \u001B[38;5;241m20.0\u001B[39m)))\n\u001B[0;32m    328\u001B[0m     n_iters \u001B[38;5;241m=\u001B[39m \u001B[38;5;28mmax\u001B[39m(\u001B[38;5;241m5\u001B[39m, \u001B[38;5;28mint\u001B[39m(\u001B[38;5;28mround\u001B[39m(np\u001B[38;5;241m.\u001B[39mlog2(X\u001B[38;5;241m.\u001B[39mshape[\u001B[38;5;241m0\u001B[39m]))))\n\u001B[1;32m--> 330\u001B[0m     knn_search_index \u001B[38;5;241m=\u001B[39m NNDescent(\n\u001B[0;32m    331\u001B[0m         X,\n\u001B[0;32m    332\u001B[0m         n_neighbors\u001B[38;5;241m=\u001B[39mn_neighbors,\n\u001B[0;32m    333\u001B[0m         metric\u001B[38;5;241m=\u001B[39mmetric,\n\u001B[0;32m    334\u001B[0m         metric_kwds\u001B[38;5;241m=\u001B[39mmetric_kwds,\n\u001B[0;32m    335\u001B[0m         random_state\u001B[38;5;241m=\u001B[39mrandom_state,\n\u001B[0;32m    336\u001B[0m         n_trees\u001B[38;5;241m=\u001B[39mn_trees,\n\u001B[0;32m    337\u001B[0m         n_iters\u001B[38;5;241m=\u001B[39mn_iters,\n\u001B[0;32m    338\u001B[0m         max_candidates\u001B[38;5;241m=\u001B[39m\u001B[38;5;241m60\u001B[39m,\n\u001B[0;32m    339\u001B[0m         low_memory\u001B[38;5;241m=\u001B[39mlow_memory,\n\u001B[0;32m    340\u001B[0m         n_jobs\u001B[38;5;241m=\u001B[39mn_jobs,\n\u001B[0;32m    341\u001B[0m         verbose\u001B[38;5;241m=\u001B[39mverbose,\n\u001B[0;32m    342\u001B[0m         compressed\u001B[38;5;241m=\u001B[39m\u001B[38;5;28;01mFalse\u001B[39;00m,\n\u001B[0;32m    343\u001B[0m     )\n\u001B[0;32m    344\u001B[0m     knn_indices, knn_dists \u001B[38;5;241m=\u001B[39m knn_search_index\u001B[38;5;241m.\u001B[39mneighbor_graph\n\u001B[0;32m    346\u001B[0m \u001B[38;5;28;01mif\u001B[39;00m verbose:\n",
      "File \u001B[1;32m~\\anaconda3\\Lib\\site-packages\\pynndescent\\pynndescent_.py:794\u001B[0m, in \u001B[0;36mNNDescent.__init__\u001B[1;34m(self, data, metric, metric_kwds, n_neighbors, n_trees, leaf_size, pruning_degree_multiplier, diversify_prob, n_search_trees, tree_init, init_graph, init_dist, random_state, low_memory, max_candidates, max_rptree_depth, n_iters, delta, n_jobs, compressed, parallel_batch_queries, verbose)\u001B[0m\n\u001B[0;32m    792\u001B[0m     \u001B[38;5;28;01mif\u001B[39;00m verbose:\n\u001B[0;32m    793\u001B[0m         \u001B[38;5;28mprint\u001B[39m(ts(), \u001B[38;5;124m\"\u001B[39m\u001B[38;5;124mBuilding RP forest with\u001B[39m\u001B[38;5;124m\"\u001B[39m, \u001B[38;5;28mstr\u001B[39m(n_trees), \u001B[38;5;124m\"\u001B[39m\u001B[38;5;124mtrees\u001B[39m\u001B[38;5;124m\"\u001B[39m)\n\u001B[1;32m--> 794\u001B[0m     \u001B[38;5;28mself\u001B[39m\u001B[38;5;241m.\u001B[39m_rp_forest \u001B[38;5;241m=\u001B[39m make_forest(\n\u001B[0;32m    795\u001B[0m         data,\n\u001B[0;32m    796\u001B[0m         n_neighbors,\n\u001B[0;32m    797\u001B[0m         n_trees,\n\u001B[0;32m    798\u001B[0m         leaf_size,\n\u001B[0;32m    799\u001B[0m         \u001B[38;5;28mself\u001B[39m\u001B[38;5;241m.\u001B[39mrng_state,\n\u001B[0;32m    800\u001B[0m         current_random_state,\n\u001B[0;32m    801\u001B[0m         \u001B[38;5;28mself\u001B[39m\u001B[38;5;241m.\u001B[39mn_jobs,\n\u001B[0;32m    802\u001B[0m         \u001B[38;5;28mself\u001B[39m\u001B[38;5;241m.\u001B[39m_angular_trees,\n\u001B[0;32m    803\u001B[0m         \u001B[38;5;28mself\u001B[39m\u001B[38;5;241m.\u001B[39m_bit_trees,\n\u001B[0;32m    804\u001B[0m         max_depth\u001B[38;5;241m=\u001B[39m\u001B[38;5;28mself\u001B[39m\u001B[38;5;241m.\u001B[39mmax_rptree_depth,\n\u001B[0;32m    805\u001B[0m     )\n\u001B[0;32m    806\u001B[0m     leaf_array \u001B[38;5;241m=\u001B[39m rptree_leaf_array(\u001B[38;5;28mself\u001B[39m\u001B[38;5;241m.\u001B[39m_rp_forest)\n\u001B[0;32m    807\u001B[0m \u001B[38;5;28;01melse\u001B[39;00m:\n",
      "File \u001B[1;32m~\\anaconda3\\Lib\\site-packages\\pynndescent\\rp_trees.py:1388\u001B[0m, in \u001B[0;36mmake_forest\u001B[1;34m(data, n_neighbors, n_trees, leaf_size, rng_state, random_state, n_jobs, angular, bit_tree, max_depth)\u001B[0m\n\u001B[0;32m   1377\u001B[0m         result \u001B[38;5;241m=\u001B[39m joblib\u001B[38;5;241m.\u001B[39mParallel(n_jobs\u001B[38;5;241m=\u001B[39mn_jobs, require\u001B[38;5;241m=\u001B[39m\u001B[38;5;124m\"\u001B[39m\u001B[38;5;124msharedmem\u001B[39m\u001B[38;5;124m\"\u001B[39m)(\n\u001B[0;32m   1378\u001B[0m             joblib\u001B[38;5;241m.\u001B[39mdelayed(make_dense_bit_tree)(\n\u001B[0;32m   1379\u001B[0m                 data,\n\u001B[1;32m   (...)\u001B[0m\n\u001B[0;32m   1385\u001B[0m             \u001B[38;5;28;01mfor\u001B[39;00m i \u001B[38;5;129;01min\u001B[39;00m \u001B[38;5;28mrange\u001B[39m(n_trees)\n\u001B[0;32m   1386\u001B[0m         )\n\u001B[0;32m   1387\u001B[0m     \u001B[38;5;28;01melse\u001B[39;00m:\n\u001B[1;32m-> 1388\u001B[0m         result \u001B[38;5;241m=\u001B[39m joblib\u001B[38;5;241m.\u001B[39mParallel(n_jobs\u001B[38;5;241m=\u001B[39mn_jobs, require\u001B[38;5;241m=\u001B[39m\u001B[38;5;124m\"\u001B[39m\u001B[38;5;124msharedmem\u001B[39m\u001B[38;5;124m\"\u001B[39m)(\n\u001B[0;32m   1389\u001B[0m             joblib\u001B[38;5;241m.\u001B[39mdelayed(make_dense_tree)(\n\u001B[0;32m   1390\u001B[0m                 data,\n\u001B[0;32m   1391\u001B[0m                 rng_states[i],\n\u001B[0;32m   1392\u001B[0m                 leaf_size,\n\u001B[0;32m   1393\u001B[0m                 angular,\n\u001B[0;32m   1394\u001B[0m                 max_depth\u001B[38;5;241m=\u001B[39mmax_depth\n\u001B[0;32m   1395\u001B[0m             )\n\u001B[0;32m   1396\u001B[0m             \u001B[38;5;28;01mfor\u001B[39;00m i \u001B[38;5;129;01min\u001B[39;00m \u001B[38;5;28mrange\u001B[39m(n_trees)\n\u001B[0;32m   1397\u001B[0m         )\n\u001B[0;32m   1398\u001B[0m \u001B[38;5;28;01mexcept\u001B[39;00m (\u001B[38;5;167;01mRuntimeError\u001B[39;00m, \u001B[38;5;167;01mRecursionError\u001B[39;00m, \u001B[38;5;167;01mSystemError\u001B[39;00m):\n\u001B[0;32m   1399\u001B[0m     warn(\n\u001B[0;32m   1400\u001B[0m         \u001B[38;5;124m\"\u001B[39m\u001B[38;5;124mRandom Projection forest initialisation failed due to recursion\u001B[39m\u001B[38;5;124m\"\u001B[39m\n\u001B[0;32m   1401\u001B[0m         \u001B[38;5;124m\"\u001B[39m\u001B[38;5;124mlimit being reached. Something is a little strange with your \u001B[39m\u001B[38;5;124m\"\u001B[39m\n\u001B[0;32m   1402\u001B[0m         \u001B[38;5;124m\"\u001B[39m\u001B[38;5;124mgraph_data, and this may take longer than normal to compute.\u001B[39m\u001B[38;5;124m\"\u001B[39m\n\u001B[0;32m   1403\u001B[0m     )\n",
      "File \u001B[1;32m~\\anaconda3\\Lib\\site-packages\\joblib\\parallel.py:1098\u001B[0m, in \u001B[0;36mParallel.__call__\u001B[1;34m(self, iterable)\u001B[0m\n\u001B[0;32m   1095\u001B[0m     \u001B[38;5;28mself\u001B[39m\u001B[38;5;241m.\u001B[39m_iterating \u001B[38;5;241m=\u001B[39m \u001B[38;5;28;01mFalse\u001B[39;00m\n\u001B[0;32m   1097\u001B[0m \u001B[38;5;28;01mwith\u001B[39;00m \u001B[38;5;28mself\u001B[39m\u001B[38;5;241m.\u001B[39m_backend\u001B[38;5;241m.\u001B[39mretrieval_context():\n\u001B[1;32m-> 1098\u001B[0m     \u001B[38;5;28mself\u001B[39m\u001B[38;5;241m.\u001B[39mretrieve()\n\u001B[0;32m   1099\u001B[0m \u001B[38;5;66;03m# Make sure that we get a last message telling us we are done\u001B[39;00m\n\u001B[0;32m   1100\u001B[0m elapsed_time \u001B[38;5;241m=\u001B[39m time\u001B[38;5;241m.\u001B[39mtime() \u001B[38;5;241m-\u001B[39m \u001B[38;5;28mself\u001B[39m\u001B[38;5;241m.\u001B[39m_start_time\n",
      "File \u001B[1;32m~\\anaconda3\\Lib\\site-packages\\joblib\\parallel.py:975\u001B[0m, in \u001B[0;36mParallel.retrieve\u001B[1;34m(self)\u001B[0m\n\u001B[0;32m    973\u001B[0m \u001B[38;5;28;01mtry\u001B[39;00m:\n\u001B[0;32m    974\u001B[0m     \u001B[38;5;28;01mif\u001B[39;00m \u001B[38;5;28mgetattr\u001B[39m(\u001B[38;5;28mself\u001B[39m\u001B[38;5;241m.\u001B[39m_backend, \u001B[38;5;124m'\u001B[39m\u001B[38;5;124msupports_timeout\u001B[39m\u001B[38;5;124m'\u001B[39m, \u001B[38;5;28;01mFalse\u001B[39;00m):\n\u001B[1;32m--> 975\u001B[0m         \u001B[38;5;28mself\u001B[39m\u001B[38;5;241m.\u001B[39m_output\u001B[38;5;241m.\u001B[39mextend(job\u001B[38;5;241m.\u001B[39mget(timeout\u001B[38;5;241m=\u001B[39m\u001B[38;5;28mself\u001B[39m\u001B[38;5;241m.\u001B[39mtimeout))\n\u001B[0;32m    976\u001B[0m     \u001B[38;5;28;01melse\u001B[39;00m:\n\u001B[0;32m    977\u001B[0m         \u001B[38;5;28mself\u001B[39m\u001B[38;5;241m.\u001B[39m_output\u001B[38;5;241m.\u001B[39mextend(job\u001B[38;5;241m.\u001B[39mget())\n",
      "File \u001B[1;32m~\\anaconda3\\Lib\\multiprocessing\\pool.py:774\u001B[0m, in \u001B[0;36mApplyResult.get\u001B[1;34m(self, timeout)\u001B[0m\n\u001B[0;32m    772\u001B[0m     \u001B[38;5;28;01mreturn\u001B[39;00m \u001B[38;5;28mself\u001B[39m\u001B[38;5;241m.\u001B[39m_value\n\u001B[0;32m    773\u001B[0m \u001B[38;5;28;01melse\u001B[39;00m:\n\u001B[1;32m--> 774\u001B[0m     \u001B[38;5;28;01mraise\u001B[39;00m \u001B[38;5;28mself\u001B[39m\u001B[38;5;241m.\u001B[39m_value\n",
      "File \u001B[1;32m~\\anaconda3\\Lib\\multiprocessing\\pool.py:125\u001B[0m, in \u001B[0;36mworker\u001B[1;34m(inqueue, outqueue, initializer, initargs, maxtasks, wrap_exception)\u001B[0m\n\u001B[0;32m    123\u001B[0m job, i, func, args, kwds \u001B[38;5;241m=\u001B[39m task\n\u001B[0;32m    124\u001B[0m \u001B[38;5;28;01mtry\u001B[39;00m:\n\u001B[1;32m--> 125\u001B[0m     result \u001B[38;5;241m=\u001B[39m (\u001B[38;5;28;01mTrue\u001B[39;00m, func(\u001B[38;5;241m*\u001B[39margs, \u001B[38;5;241m*\u001B[39m\u001B[38;5;241m*\u001B[39mkwds))\n\u001B[0;32m    126\u001B[0m \u001B[38;5;28;01mexcept\u001B[39;00m \u001B[38;5;167;01mException\u001B[39;00m \u001B[38;5;28;01mas\u001B[39;00m e:\n\u001B[0;32m    127\u001B[0m     \u001B[38;5;28;01mif\u001B[39;00m wrap_exception \u001B[38;5;129;01mand\u001B[39;00m func \u001B[38;5;129;01mis\u001B[39;00m \u001B[38;5;129;01mnot\u001B[39;00m _helper_reraises_exception:\n",
      "File \u001B[1;32m~\\anaconda3\\Lib\\site-packages\\joblib\\_parallel_backends.py:620\u001B[0m, in \u001B[0;36mSafeFunction.__call__\u001B[1;34m(self, *args, **kwargs)\u001B[0m\n\u001B[0;32m    618\u001B[0m \u001B[38;5;28;01mdef\u001B[39;00m \u001B[38;5;21m__call__\u001B[39m(\u001B[38;5;28mself\u001B[39m, \u001B[38;5;241m*\u001B[39margs, \u001B[38;5;241m*\u001B[39m\u001B[38;5;241m*\u001B[39mkwargs):\n\u001B[0;32m    619\u001B[0m     \u001B[38;5;28;01mtry\u001B[39;00m:\n\u001B[1;32m--> 620\u001B[0m         \u001B[38;5;28;01mreturn\u001B[39;00m \u001B[38;5;28mself\u001B[39m\u001B[38;5;241m.\u001B[39mfunc(\u001B[38;5;241m*\u001B[39margs, \u001B[38;5;241m*\u001B[39m\u001B[38;5;241m*\u001B[39mkwargs)\n\u001B[0;32m    621\u001B[0m     \u001B[38;5;28;01mexcept\u001B[39;00m \u001B[38;5;167;01mKeyboardInterrupt\u001B[39;00m \u001B[38;5;28;01mas\u001B[39;00m e:\n\u001B[0;32m    622\u001B[0m         \u001B[38;5;66;03m# We capture the KeyboardInterrupt and reraise it as\u001B[39;00m\n\u001B[0;32m    623\u001B[0m         \u001B[38;5;66;03m# something different, as multiprocessing does not\u001B[39;00m\n\u001B[0;32m    624\u001B[0m         \u001B[38;5;66;03m# interrupt processing for a KeyboardInterrupt\u001B[39;00m\n\u001B[0;32m    625\u001B[0m         \u001B[38;5;28;01mraise\u001B[39;00m WorkerInterrupt() \u001B[38;5;28;01mfrom\u001B[39;00m \u001B[38;5;21;01me\u001B[39;00m\n",
      "File \u001B[1;32m~\\anaconda3\\Lib\\site-packages\\joblib\\parallel.py:288\u001B[0m, in \u001B[0;36mBatchedCalls.__call__\u001B[1;34m(self)\u001B[0m\n\u001B[0;32m    284\u001B[0m \u001B[38;5;28;01mdef\u001B[39;00m \u001B[38;5;21m__call__\u001B[39m(\u001B[38;5;28mself\u001B[39m):\n\u001B[0;32m    285\u001B[0m     \u001B[38;5;66;03m# Set the default nested backend to self._backend but do not set the\u001B[39;00m\n\u001B[0;32m    286\u001B[0m     \u001B[38;5;66;03m# change the default number of processes to -1\u001B[39;00m\n\u001B[0;32m    287\u001B[0m     \u001B[38;5;28;01mwith\u001B[39;00m parallel_backend(\u001B[38;5;28mself\u001B[39m\u001B[38;5;241m.\u001B[39m_backend, n_jobs\u001B[38;5;241m=\u001B[39m\u001B[38;5;28mself\u001B[39m\u001B[38;5;241m.\u001B[39m_n_jobs):\n\u001B[1;32m--> 288\u001B[0m         \u001B[38;5;28;01mreturn\u001B[39;00m [func(\u001B[38;5;241m*\u001B[39margs, \u001B[38;5;241m*\u001B[39m\u001B[38;5;241m*\u001B[39mkwargs)\n\u001B[0;32m    289\u001B[0m                 \u001B[38;5;28;01mfor\u001B[39;00m func, args, kwargs \u001B[38;5;129;01min\u001B[39;00m \u001B[38;5;28mself\u001B[39m\u001B[38;5;241m.\u001B[39mitems]\n",
      "File \u001B[1;32m~\\anaconda3\\Lib\\site-packages\\joblib\\parallel.py:288\u001B[0m, in \u001B[0;36m<listcomp>\u001B[1;34m(.0)\u001B[0m\n\u001B[0;32m    284\u001B[0m \u001B[38;5;28;01mdef\u001B[39;00m \u001B[38;5;21m__call__\u001B[39m(\u001B[38;5;28mself\u001B[39m):\n\u001B[0;32m    285\u001B[0m     \u001B[38;5;66;03m# Set the default nested backend to self._backend but do not set the\u001B[39;00m\n\u001B[0;32m    286\u001B[0m     \u001B[38;5;66;03m# change the default number of processes to -1\u001B[39;00m\n\u001B[0;32m    287\u001B[0m     \u001B[38;5;28;01mwith\u001B[39;00m parallel_backend(\u001B[38;5;28mself\u001B[39m\u001B[38;5;241m.\u001B[39m_backend, n_jobs\u001B[38;5;241m=\u001B[39m\u001B[38;5;28mself\u001B[39m\u001B[38;5;241m.\u001B[39m_n_jobs):\n\u001B[1;32m--> 288\u001B[0m         \u001B[38;5;28;01mreturn\u001B[39;00m [func(\u001B[38;5;241m*\u001B[39margs, \u001B[38;5;241m*\u001B[39m\u001B[38;5;241m*\u001B[39mkwargs)\n\u001B[0;32m    289\u001B[0m                 \u001B[38;5;28;01mfor\u001B[39;00m func, args, kwargs \u001B[38;5;129;01min\u001B[39;00m \u001B[38;5;28mself\u001B[39m\u001B[38;5;241m.\u001B[39mitems]\n",
      "File \u001B[1;32m~\\anaconda3\\Lib\\site-packages\\numba\\typed\\listobject.py:607\u001B[0m, in \u001B[0;36mimpl\u001B[1;34m()\u001B[0m\n\u001B[0;32m    605\u001B[0m     \u001B[38;5;28;01mraise\u001B[39;00m \u001B[38;5;167;01mValueError\u001B[39;00m(\u001B[38;5;124m'\u001B[39m\u001B[38;5;124mlist is immutable\u001B[39m\u001B[38;5;124m'\u001B[39m)\n\u001B[0;32m    606\u001B[0m \u001B[38;5;28;01melif\u001B[39;00m status \u001B[38;5;241m==\u001B[39m ListStatus\u001B[38;5;241m.\u001B[39mLIST_ERR_NO_MEMORY:\n\u001B[1;32m--> 607\u001B[0m     \u001B[38;5;28;01mraise\u001B[39;00m \u001B[38;5;167;01mMemoryError\u001B[39;00m(\u001B[38;5;124m'\u001B[39m\u001B[38;5;124mUnable to allocate memory to append item\u001B[39m\u001B[38;5;124m'\u001B[39m)\n\u001B[0;32m    608\u001B[0m \u001B[38;5;28;01melse\u001B[39;00m:\n\u001B[0;32m    609\u001B[0m     \u001B[38;5;28;01mraise\u001B[39;00m \u001B[38;5;167;01mRuntimeError\u001B[39;00m(\u001B[38;5;124m'\u001B[39m\u001B[38;5;124mlist.append failed unexpectedly\u001B[39m\u001B[38;5;124m'\u001B[39m)\n",
      "\u001B[1;31mMemoryError\u001B[0m: Unable to allocate memory to append item"
     ]
    }
   ],
   "source": [
    "import umap.umap_ as umap\n",
    "\n",
    "# UMAP reduction\n",
    "umap_reducer = umap.UMAP(n_components=50)  # Choose the number of dimensions\n",
    "reduced_embeddings = umap_reducer.fit_transform(embeddings)"
   ],
   "metadata": {
    "collapsed": false,
    "ExecuteTime": {
     "end_time": "2024-09-07T12:16:36.973180700Z",
     "start_time": "2024-09-07T11:56:49.461271500Z"
    }
   },
   "id": "1bc44d2c1002e316"
  },
  {
   "cell_type": "code",
   "execution_count": 30,
   "outputs": [
    {
     "data": {
      "text/plain": "         Unnamed: 0                                          item_name  \\\n0                 0              Стакан в сборе ПН-40АЦ-2,5-40(433362)   \n1                 1                   Колодки тормозные АЦ-2,5-40(131)   \n2                 2           Головка блока цилиндра АЦ-2,5-40(433362)   \n3                 3                Маховик с ободом ЯМЗАЦ-6,0-40(5557)   \n4                 4              Задвижка боковая ПН-40АЦ-3,0-40(4334)   \n...             ...                                                ...   \n3326939     8095341  Модель для катетеризации мужского мочевого пузыря   \n3326940     8095342            Набор муляжей ран для судебной медицины   \n3326941     8095343  Интерактивный тренажерный комплекс для эндоскопии   \n3326942     8095344  Интерактивный лапароскопический тренажер для о...   \n3326943     8095345  Тренажер для отработки навыков внутримышечных ...   \n\n           okpd2_code  embedding_0  embedding_1  embedding_2  embedding_3  \\\n0        29.32.30.390    -0.030550     0.044142     0.088174    -0.095492   \n1        29.32.30.132    -0.101913     0.146078    -0.087388    -0.146050   \n2        29.32.30.390    -0.134190     0.078557     0.092137    -0.113383   \n3        29.32.30.390    -0.081609     0.107156    -0.029594    -0.132391   \n4        29.32.30.390    -0.041932     0.089922    -0.005092    -0.144109   \n...               ...          ...          ...          ...          ...   \n3326939  32.99.53.190    -0.027499    -0.025616     0.121056     0.060640   \n3326940  32.99.53.190     0.024230    -0.145448     0.035590     0.042214   \n3326941  32.99.53.190     0.029743    -0.044397     0.043001     0.096596   \n3326942  32.99.53.190     0.030245    -0.022067     0.005487     0.098522   \n3326943  32.99.53.190     0.117341    -0.113946     0.014747     0.072702   \n\n         embedding_4  embedding_5  embedding_6  ...  embedding_40  \\\n0          -0.003121     0.084103     0.052140  ...      0.019856   \n1           0.094004    -0.011365     0.041022  ...     -0.015478   \n2           0.069181     0.104025     0.046042  ...     -0.003136   \n3           0.053961     0.052272     0.016727  ...      0.098706   \n4          -0.030656     0.042659     0.054375  ...      0.019787   \n...              ...          ...          ...  ...           ...   \n3326939     0.149666    -0.014492    -0.021161  ...     -0.049448   \n3326940     0.053629    -0.050293    -0.121016  ...      0.014646   \n3326941     0.075311    -0.112517     0.066830  ...      0.031470   \n3326942     0.014827    -0.094994     0.007494  ...     -0.020284   \n3326943     0.095686    -0.020894    -0.089134  ...      0.031202   \n\n         embedding_41  embedding_42  embedding_43  embedding_44  embedding_45  \\\n0            0.092533     -0.003701      0.047575     -0.119288     -0.040383   \n1           -0.010093     -0.060806      0.006682      0.040172     -0.020474   \n2           -0.070927      0.010735     -0.030390      0.007849     -0.078535   \n3           -0.048271      0.034361     -0.029871     -0.001077     -0.066073   \n4            0.074386      0.031919      0.002162     -0.035039      0.031511   \n...               ...           ...           ...           ...           ...   \n3326939      0.041708     -0.049569     -0.060323     -0.094308     -0.034444   \n3326940      0.049644     -0.071242      0.007376     -0.036168     -0.002222   \n3326941      0.025454     -0.000764     -0.009774     -0.038763     -0.000650   \n3326942      0.018719      0.017162     -0.079488     -0.005173     -0.058286   \n3326943      0.028454      0.006033     -0.039658      0.017654     -0.091499   \n\n         embedding_46  embedding_47  embedding_48  embedding_49  \n0           -0.032855      0.027140      0.004683      0.059783  \n1            0.000549      0.013239     -0.060412     -0.017059  \n2           -0.033735      0.050014     -0.011298      0.043738  \n3            0.034066     -0.028487     -0.022937     -0.041126  \n4            0.004884      0.046071      0.002176      0.106296  \n...               ...           ...           ...           ...  \n3326939     -0.000612     -0.042573     -0.023823     -0.036046  \n3326940     -0.046171     -0.053319      0.017402     -0.035957  \n3326941     -0.016358     -0.011641      0.053049      0.046733  \n3326942      0.119991     -0.074769      0.042813      0.060973  \n3326943      0.036193     -0.027024      0.037641      0.068237  \n\n[3326944 rows x 53 columns]",
      "text/html": "<div>\n<style scoped>\n    .dataframe tbody tr th:only-of-type {\n        vertical-align: middle;\n    }\n\n    .dataframe tbody tr th {\n        vertical-align: top;\n    }\n\n    .dataframe thead th {\n        text-align: right;\n    }\n</style>\n<table border=\"1\" class=\"dataframe\">\n  <thead>\n    <tr style=\"text-align: right;\">\n      <th></th>\n      <th>Unnamed: 0</th>\n      <th>item_name</th>\n      <th>okpd2_code</th>\n      <th>embedding_0</th>\n      <th>embedding_1</th>\n      <th>embedding_2</th>\n      <th>embedding_3</th>\n      <th>embedding_4</th>\n      <th>embedding_5</th>\n      <th>embedding_6</th>\n      <th>...</th>\n      <th>embedding_40</th>\n      <th>embedding_41</th>\n      <th>embedding_42</th>\n      <th>embedding_43</th>\n      <th>embedding_44</th>\n      <th>embedding_45</th>\n      <th>embedding_46</th>\n      <th>embedding_47</th>\n      <th>embedding_48</th>\n      <th>embedding_49</th>\n    </tr>\n  </thead>\n  <tbody>\n    <tr>\n      <th>0</th>\n      <td>0</td>\n      <td>Стакан в сборе ПН-40АЦ-2,5-40(433362)</td>\n      <td>29.32.30.390</td>\n      <td>-0.030550</td>\n      <td>0.044142</td>\n      <td>0.088174</td>\n      <td>-0.095492</td>\n      <td>-0.003121</td>\n      <td>0.084103</td>\n      <td>0.052140</td>\n      <td>...</td>\n      <td>0.019856</td>\n      <td>0.092533</td>\n      <td>-0.003701</td>\n      <td>0.047575</td>\n      <td>-0.119288</td>\n      <td>-0.040383</td>\n      <td>-0.032855</td>\n      <td>0.027140</td>\n      <td>0.004683</td>\n      <td>0.059783</td>\n    </tr>\n    <tr>\n      <th>1</th>\n      <td>1</td>\n      <td>Колодки тормозные АЦ-2,5-40(131)</td>\n      <td>29.32.30.132</td>\n      <td>-0.101913</td>\n      <td>0.146078</td>\n      <td>-0.087388</td>\n      <td>-0.146050</td>\n      <td>0.094004</td>\n      <td>-0.011365</td>\n      <td>0.041022</td>\n      <td>...</td>\n      <td>-0.015478</td>\n      <td>-0.010093</td>\n      <td>-0.060806</td>\n      <td>0.006682</td>\n      <td>0.040172</td>\n      <td>-0.020474</td>\n      <td>0.000549</td>\n      <td>0.013239</td>\n      <td>-0.060412</td>\n      <td>-0.017059</td>\n    </tr>\n    <tr>\n      <th>2</th>\n      <td>2</td>\n      <td>Головка блока цилиндра АЦ-2,5-40(433362)</td>\n      <td>29.32.30.390</td>\n      <td>-0.134190</td>\n      <td>0.078557</td>\n      <td>0.092137</td>\n      <td>-0.113383</td>\n      <td>0.069181</td>\n      <td>0.104025</td>\n      <td>0.046042</td>\n      <td>...</td>\n      <td>-0.003136</td>\n      <td>-0.070927</td>\n      <td>0.010735</td>\n      <td>-0.030390</td>\n      <td>0.007849</td>\n      <td>-0.078535</td>\n      <td>-0.033735</td>\n      <td>0.050014</td>\n      <td>-0.011298</td>\n      <td>0.043738</td>\n    </tr>\n    <tr>\n      <th>3</th>\n      <td>3</td>\n      <td>Маховик с ободом ЯМЗАЦ-6,0-40(5557)</td>\n      <td>29.32.30.390</td>\n      <td>-0.081609</td>\n      <td>0.107156</td>\n      <td>-0.029594</td>\n      <td>-0.132391</td>\n      <td>0.053961</td>\n      <td>0.052272</td>\n      <td>0.016727</td>\n      <td>...</td>\n      <td>0.098706</td>\n      <td>-0.048271</td>\n      <td>0.034361</td>\n      <td>-0.029871</td>\n      <td>-0.001077</td>\n      <td>-0.066073</td>\n      <td>0.034066</td>\n      <td>-0.028487</td>\n      <td>-0.022937</td>\n      <td>-0.041126</td>\n    </tr>\n    <tr>\n      <th>4</th>\n      <td>4</td>\n      <td>Задвижка боковая ПН-40АЦ-3,0-40(4334)</td>\n      <td>29.32.30.390</td>\n      <td>-0.041932</td>\n      <td>0.089922</td>\n      <td>-0.005092</td>\n      <td>-0.144109</td>\n      <td>-0.030656</td>\n      <td>0.042659</td>\n      <td>0.054375</td>\n      <td>...</td>\n      <td>0.019787</td>\n      <td>0.074386</td>\n      <td>0.031919</td>\n      <td>0.002162</td>\n      <td>-0.035039</td>\n      <td>0.031511</td>\n      <td>0.004884</td>\n      <td>0.046071</td>\n      <td>0.002176</td>\n      <td>0.106296</td>\n    </tr>\n    <tr>\n      <th>...</th>\n      <td>...</td>\n      <td>...</td>\n      <td>...</td>\n      <td>...</td>\n      <td>...</td>\n      <td>...</td>\n      <td>...</td>\n      <td>...</td>\n      <td>...</td>\n      <td>...</td>\n      <td>...</td>\n      <td>...</td>\n      <td>...</td>\n      <td>...</td>\n      <td>...</td>\n      <td>...</td>\n      <td>...</td>\n      <td>...</td>\n      <td>...</td>\n      <td>...</td>\n      <td>...</td>\n    </tr>\n    <tr>\n      <th>3326939</th>\n      <td>8095341</td>\n      <td>Модель для катетеризации мужского мочевого пузыря</td>\n      <td>32.99.53.190</td>\n      <td>-0.027499</td>\n      <td>-0.025616</td>\n      <td>0.121056</td>\n      <td>0.060640</td>\n      <td>0.149666</td>\n      <td>-0.014492</td>\n      <td>-0.021161</td>\n      <td>...</td>\n      <td>-0.049448</td>\n      <td>0.041708</td>\n      <td>-0.049569</td>\n      <td>-0.060323</td>\n      <td>-0.094308</td>\n      <td>-0.034444</td>\n      <td>-0.000612</td>\n      <td>-0.042573</td>\n      <td>-0.023823</td>\n      <td>-0.036046</td>\n    </tr>\n    <tr>\n      <th>3326940</th>\n      <td>8095342</td>\n      <td>Набор муляжей ран для судебной медицины</td>\n      <td>32.99.53.190</td>\n      <td>0.024230</td>\n      <td>-0.145448</td>\n      <td>0.035590</td>\n      <td>0.042214</td>\n      <td>0.053629</td>\n      <td>-0.050293</td>\n      <td>-0.121016</td>\n      <td>...</td>\n      <td>0.014646</td>\n      <td>0.049644</td>\n      <td>-0.071242</td>\n      <td>0.007376</td>\n      <td>-0.036168</td>\n      <td>-0.002222</td>\n      <td>-0.046171</td>\n      <td>-0.053319</td>\n      <td>0.017402</td>\n      <td>-0.035957</td>\n    </tr>\n    <tr>\n      <th>3326941</th>\n      <td>8095343</td>\n      <td>Интерактивный тренажерный комплекс для эндоскопии</td>\n      <td>32.99.53.190</td>\n      <td>0.029743</td>\n      <td>-0.044397</td>\n      <td>0.043001</td>\n      <td>0.096596</td>\n      <td>0.075311</td>\n      <td>-0.112517</td>\n      <td>0.066830</td>\n      <td>...</td>\n      <td>0.031470</td>\n      <td>0.025454</td>\n      <td>-0.000764</td>\n      <td>-0.009774</td>\n      <td>-0.038763</td>\n      <td>-0.000650</td>\n      <td>-0.016358</td>\n      <td>-0.011641</td>\n      <td>0.053049</td>\n      <td>0.046733</td>\n    </tr>\n    <tr>\n      <th>3326942</th>\n      <td>8095344</td>\n      <td>Интерактивный лапароскопический тренажер для о...</td>\n      <td>32.99.53.190</td>\n      <td>0.030245</td>\n      <td>-0.022067</td>\n      <td>0.005487</td>\n      <td>0.098522</td>\n      <td>0.014827</td>\n      <td>-0.094994</td>\n      <td>0.007494</td>\n      <td>...</td>\n      <td>-0.020284</td>\n      <td>0.018719</td>\n      <td>0.017162</td>\n      <td>-0.079488</td>\n      <td>-0.005173</td>\n      <td>-0.058286</td>\n      <td>0.119991</td>\n      <td>-0.074769</td>\n      <td>0.042813</td>\n      <td>0.060973</td>\n    </tr>\n    <tr>\n      <th>3326943</th>\n      <td>8095345</td>\n      <td>Тренажер для отработки навыков внутримышечных ...</td>\n      <td>32.99.53.190</td>\n      <td>0.117341</td>\n      <td>-0.113946</td>\n      <td>0.014747</td>\n      <td>0.072702</td>\n      <td>0.095686</td>\n      <td>-0.020894</td>\n      <td>-0.089134</td>\n      <td>...</td>\n      <td>0.031202</td>\n      <td>0.028454</td>\n      <td>0.006033</td>\n      <td>-0.039658</td>\n      <td>0.017654</td>\n      <td>-0.091499</td>\n      <td>0.036193</td>\n      <td>-0.027024</td>\n      <td>0.037641</td>\n      <td>0.068237</td>\n    </tr>\n  </tbody>\n</table>\n<p>3326944 rows × 53 columns</p>\n</div>"
     },
     "execution_count": 30,
     "metadata": {},
     "output_type": "execute_result"
    }
   ],
   "source": [
    "embeddings_df = pd.DataFrame(reduced_embeddings)\n",
    "\n",
    "# Optional: Rename the embedding columns (e.g., embedding_0, embedding_1, ..., embedding_311)\n",
    "embeddings_df.columns = [f\"embedding_{i}\" for i in range(reduced_embeddings.shape[1])]\n",
    "\n",
    "# Concatenate the embeddings DataFrame with the original DataFrame\n",
    "df_with_embeddings = pd.concat([df, embeddings_df], axis=1)\n",
    "\n",
    "# Display the updated DataFrame with embeddings\n",
    "df_with_embeddings"
   ],
   "metadata": {
    "collapsed": false,
    "ExecuteTime": {
     "end_time": "2024-09-07T11:45:27.344932Z",
     "start_time": "2024-09-07T11:45:24.666209700Z"
    }
   },
   "id": "4154e36e4be15c78"
  },
  {
   "cell_type": "code",
   "execution_count": 41,
   "outputs": [],
   "source": [
    "df_with_embeddings.to_csv(\"df_with_embeddings\")"
   ],
   "metadata": {
    "collapsed": false,
    "ExecuteTime": {
     "end_time": "2024-09-07T12:23:27.310664100Z",
     "start_time": "2024-09-07T12:18:58.040005500Z"
    }
   },
   "id": "9670140a75c64402"
  }
 ],
 "metadata": {
  "kernelspec": {
   "display_name": "Python 3",
   "language": "python",
   "name": "python3"
  },
  "language_info": {
   "codemirror_mode": {
    "name": "ipython",
    "version": 2
   },
   "file_extension": ".py",
   "mimetype": "text/x-python",
   "name": "python",
   "nbconvert_exporter": "python",
   "pygments_lexer": "ipython2",
   "version": "2.7.6"
  }
 },
 "nbformat": 4,
 "nbformat_minor": 5
}
