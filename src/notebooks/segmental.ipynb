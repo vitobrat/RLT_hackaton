{
 "cells": [
  {
   "cell_type": "code",
   "execution_count": 1,
   "id": "initial_id",
   "metadata": {
    "collapsed": true,
    "ExecuteTime": {
     "end_time": "2024-09-07T13:09:40.609421200Z",
     "start_time": "2024-09-07T13:09:38.582031900Z"
    }
   },
   "outputs": [],
   "source": [
    "import pandas as pd\n",
    "from clyent import color\n",
    "from sklearn.preprocessing import StandardScaler\n",
    "from sklearn.neighbors import NearestNeighbors\n",
    "from sklearn.preprocessing import OneHotEncoder"
   ]
  },
  {
   "cell_type": "code",
   "execution_count": 2,
   "outputs": [],
   "source": [
    "df = pd.read_csv(\"C:\\\\Users\\\\bratk\\\\DataScience\\\\hackaton_RLT\\\\data\\\\data_result\")"
   ],
   "metadata": {
    "collapsed": false,
    "ExecuteTime": {
     "end_time": "2024-09-07T13:09:41.714087Z",
     "start_time": "2024-09-07T13:09:40.609421200Z"
    }
   },
   "id": "5f31e4ea250f676b"
  },
  {
   "cell_type": "code",
   "execution_count": 3,
   "outputs": [
    {
     "data": {
      "text/plain": "                supplier  region_code    okpd2_code  win_count  product_count\n0            Поставщик_1           23  23.31.10.000          1              1\n1            Поставщик_1           23  23.31.10.120          1              1\n2            Поставщик_1           23  23.51.10.000          1              1\n3            Поставщик_1           23  23.61.12.210          1              1\n4            Поставщик_1           23  23.62.10.000          1              1\n...                  ...          ...           ...        ...            ...\n1642624  Поставщик_99999           74  71.12.39.114          1              1\n1642625  Поставщик_99999           75  71.12.39.114          1              1\n1642626  Поставщик_99999           77  71.12.39.119          0              2\n1642627  Поставщик_99999           77  74.90.13.000          0              1\n1642628  Поставщик_99999           86  72.19.15.000          1              1\n\n[1642629 rows x 5 columns]",
      "text/html": "<div>\n<style scoped>\n    .dataframe tbody tr th:only-of-type {\n        vertical-align: middle;\n    }\n\n    .dataframe tbody tr th {\n        vertical-align: top;\n    }\n\n    .dataframe thead th {\n        text-align: right;\n    }\n</style>\n<table border=\"1\" class=\"dataframe\">\n  <thead>\n    <tr style=\"text-align: right;\">\n      <th></th>\n      <th>supplier</th>\n      <th>region_code</th>\n      <th>okpd2_code</th>\n      <th>win_count</th>\n      <th>product_count</th>\n    </tr>\n  </thead>\n  <tbody>\n    <tr>\n      <th>0</th>\n      <td>Поставщик_1</td>\n      <td>23</td>\n      <td>23.31.10.000</td>\n      <td>1</td>\n      <td>1</td>\n    </tr>\n    <tr>\n      <th>1</th>\n      <td>Поставщик_1</td>\n      <td>23</td>\n      <td>23.31.10.120</td>\n      <td>1</td>\n      <td>1</td>\n    </tr>\n    <tr>\n      <th>2</th>\n      <td>Поставщик_1</td>\n      <td>23</td>\n      <td>23.51.10.000</td>\n      <td>1</td>\n      <td>1</td>\n    </tr>\n    <tr>\n      <th>3</th>\n      <td>Поставщик_1</td>\n      <td>23</td>\n      <td>23.61.12.210</td>\n      <td>1</td>\n      <td>1</td>\n    </tr>\n    <tr>\n      <th>4</th>\n      <td>Поставщик_1</td>\n      <td>23</td>\n      <td>23.62.10.000</td>\n      <td>1</td>\n      <td>1</td>\n    </tr>\n    <tr>\n      <th>...</th>\n      <td>...</td>\n      <td>...</td>\n      <td>...</td>\n      <td>...</td>\n      <td>...</td>\n    </tr>\n    <tr>\n      <th>1642624</th>\n      <td>Поставщик_99999</td>\n      <td>74</td>\n      <td>71.12.39.114</td>\n      <td>1</td>\n      <td>1</td>\n    </tr>\n    <tr>\n      <th>1642625</th>\n      <td>Поставщик_99999</td>\n      <td>75</td>\n      <td>71.12.39.114</td>\n      <td>1</td>\n      <td>1</td>\n    </tr>\n    <tr>\n      <th>1642626</th>\n      <td>Поставщик_99999</td>\n      <td>77</td>\n      <td>71.12.39.119</td>\n      <td>0</td>\n      <td>2</td>\n    </tr>\n    <tr>\n      <th>1642627</th>\n      <td>Поставщик_99999</td>\n      <td>77</td>\n      <td>74.90.13.000</td>\n      <td>0</td>\n      <td>1</td>\n    </tr>\n    <tr>\n      <th>1642628</th>\n      <td>Поставщик_99999</td>\n      <td>86</td>\n      <td>72.19.15.000</td>\n      <td>1</td>\n      <td>1</td>\n    </tr>\n  </tbody>\n</table>\n<p>1642629 rows × 5 columns</p>\n</div>"
     },
     "execution_count": 3,
     "metadata": {},
     "output_type": "execute_result"
    }
   ],
   "source": [
    "df = df.drop(columns=[\"Unnamed: 0\"])\n",
    "df"
   ],
   "metadata": {
    "collapsed": false,
    "ExecuteTime": {
     "end_time": "2024-09-07T13:09:41.774852500Z",
     "start_time": "2024-09-07T13:09:41.705097700Z"
    }
   },
   "id": "cde6104d5f609482"
  },
  {
   "cell_type": "code",
   "execution_count": 4,
   "outputs": [],
   "source": [
    "df_items = pd.read_csv(\"C:\\\\Users\\\\bratk\\\\DataScience\\\\hackaton_RLT\\\\src\\\\df_with_embeddings\")"
   ],
   "metadata": {
    "collapsed": false,
    "ExecuteTime": {
     "end_time": "2024-09-07T13:10:23.445118300Z",
     "start_time": "2024-09-07T13:09:41.770855800Z"
    }
   },
   "id": "283f7e854b22b0e4"
  },
  {
   "cell_type": "code",
   "execution_count": 5,
   "outputs": [],
   "source": [
    "df_items = df_items.drop(columns=[\"Unnamed: 0.1\", \"Unnamed: 0\", \"item_name\"])"
   ],
   "metadata": {
    "collapsed": false,
    "ExecuteTime": {
     "end_time": "2024-09-07T13:10:24.027783700Z",
     "start_time": "2024-09-07T13:10:23.446119800Z"
    }
   },
   "id": "f4604c2af4eef171"
  },
  {
   "cell_type": "code",
   "execution_count": 6,
   "outputs": [
    {
     "data": {
      "text/plain": "           okpd2_code  embedding_0  embedding_1  embedding_2  embedding_3  \\\n0        29.32.30.390    -0.030550     0.044142     0.088174    -0.095492   \n1        29.32.30.132    -0.101913     0.146078    -0.087388    -0.146050   \n2        29.32.30.390    -0.134190     0.078557     0.092137    -0.113383   \n3        29.32.30.390    -0.081609     0.107156    -0.029594    -0.132391   \n4        29.32.30.390    -0.041932     0.089922    -0.005092    -0.144109   \n...               ...          ...          ...          ...          ...   \n3326939  32.99.53.190    -0.027499    -0.025616     0.121056     0.060640   \n3326940  32.99.53.190     0.024230    -0.145448     0.035590     0.042214   \n3326941  32.99.53.190     0.029743    -0.044397     0.043001     0.096596   \n3326942  32.99.53.190     0.030245    -0.022067     0.005487     0.098522   \n3326943  32.99.53.190     0.117341    -0.113946     0.014747     0.072702   \n\n         embedding_4  embedding_5  embedding_6  embedding_7  embedding_8  ...  \\\n0          -0.003121     0.084103     0.052140    -0.011526     0.060063  ...   \n1           0.094004    -0.011365     0.041022     0.024372     0.106426  ...   \n2           0.069181     0.104025     0.046042     0.002942     0.071089  ...   \n3           0.053961     0.052272     0.016727    -0.029837     0.065136  ...   \n4          -0.030656     0.042659     0.054375     0.018784     0.055190  ...   \n...              ...          ...          ...          ...          ...  ...   \n3326939     0.149666    -0.014492    -0.021161     0.035333     0.010027  ...   \n3326940     0.053629    -0.050293    -0.121016     0.035264     0.016450  ...   \n3326941     0.075311    -0.112517     0.066830     0.080299     0.109445  ...   \n3326942     0.014827    -0.094994     0.007494     0.059642     0.079039  ...   \n3326943     0.095686    -0.020894    -0.089134     0.056355     0.060033  ...   \n\n         embedding_40  embedding_41  embedding_42  embedding_43  embedding_44  \\\n0            0.019856      0.092533     -0.003701      0.047575     -0.119288   \n1           -0.015478     -0.010093     -0.060806      0.006682      0.040172   \n2           -0.003136     -0.070927      0.010735     -0.030390      0.007849   \n3            0.098706     -0.048271      0.034361     -0.029871     -0.001077   \n4            0.019787      0.074386      0.031919      0.002162     -0.035039   \n...               ...           ...           ...           ...           ...   \n3326939     -0.049448      0.041708     -0.049569     -0.060323     -0.094308   \n3326940      0.014646      0.049644     -0.071242      0.007376     -0.036168   \n3326941      0.031470      0.025454     -0.000764     -0.009774     -0.038763   \n3326942     -0.020284      0.018719      0.017162     -0.079488     -0.005173   \n3326943      0.031202      0.028454      0.006033     -0.039658      0.017654   \n\n         embedding_45  embedding_46  embedding_47  embedding_48  embedding_49  \n0           -0.040383     -0.032855      0.027140      0.004683      0.059783  \n1           -0.020474      0.000549      0.013239     -0.060412     -0.017059  \n2           -0.078535     -0.033735      0.050014     -0.011298      0.043738  \n3           -0.066073      0.034066     -0.028487     -0.022937     -0.041126  \n4            0.031511      0.004884      0.046071      0.002176      0.106296  \n...               ...           ...           ...           ...           ...  \n3326939     -0.034444     -0.000612     -0.042573     -0.023823     -0.036046  \n3326940     -0.002222     -0.046171     -0.053319      0.017402     -0.035957  \n3326941     -0.000650     -0.016358     -0.011641      0.053049      0.046733  \n3326942     -0.058286      0.119991     -0.074769      0.042813      0.060973  \n3326943     -0.091499      0.036193     -0.027024      0.037641      0.068237  \n\n[3326944 rows x 51 columns]",
      "text/html": "<div>\n<style scoped>\n    .dataframe tbody tr th:only-of-type {\n        vertical-align: middle;\n    }\n\n    .dataframe tbody tr th {\n        vertical-align: top;\n    }\n\n    .dataframe thead th {\n        text-align: right;\n    }\n</style>\n<table border=\"1\" class=\"dataframe\">\n  <thead>\n    <tr style=\"text-align: right;\">\n      <th></th>\n      <th>okpd2_code</th>\n      <th>embedding_0</th>\n      <th>embedding_1</th>\n      <th>embedding_2</th>\n      <th>embedding_3</th>\n      <th>embedding_4</th>\n      <th>embedding_5</th>\n      <th>embedding_6</th>\n      <th>embedding_7</th>\n      <th>embedding_8</th>\n      <th>...</th>\n      <th>embedding_40</th>\n      <th>embedding_41</th>\n      <th>embedding_42</th>\n      <th>embedding_43</th>\n      <th>embedding_44</th>\n      <th>embedding_45</th>\n      <th>embedding_46</th>\n      <th>embedding_47</th>\n      <th>embedding_48</th>\n      <th>embedding_49</th>\n    </tr>\n  </thead>\n  <tbody>\n    <tr>\n      <th>0</th>\n      <td>29.32.30.390</td>\n      <td>-0.030550</td>\n      <td>0.044142</td>\n      <td>0.088174</td>\n      <td>-0.095492</td>\n      <td>-0.003121</td>\n      <td>0.084103</td>\n      <td>0.052140</td>\n      <td>-0.011526</td>\n      <td>0.060063</td>\n      <td>...</td>\n      <td>0.019856</td>\n      <td>0.092533</td>\n      <td>-0.003701</td>\n      <td>0.047575</td>\n      <td>-0.119288</td>\n      <td>-0.040383</td>\n      <td>-0.032855</td>\n      <td>0.027140</td>\n      <td>0.004683</td>\n      <td>0.059783</td>\n    </tr>\n    <tr>\n      <th>1</th>\n      <td>29.32.30.132</td>\n      <td>-0.101913</td>\n      <td>0.146078</td>\n      <td>-0.087388</td>\n      <td>-0.146050</td>\n      <td>0.094004</td>\n      <td>-0.011365</td>\n      <td>0.041022</td>\n      <td>0.024372</td>\n      <td>0.106426</td>\n      <td>...</td>\n      <td>-0.015478</td>\n      <td>-0.010093</td>\n      <td>-0.060806</td>\n      <td>0.006682</td>\n      <td>0.040172</td>\n      <td>-0.020474</td>\n      <td>0.000549</td>\n      <td>0.013239</td>\n      <td>-0.060412</td>\n      <td>-0.017059</td>\n    </tr>\n    <tr>\n      <th>2</th>\n      <td>29.32.30.390</td>\n      <td>-0.134190</td>\n      <td>0.078557</td>\n      <td>0.092137</td>\n      <td>-0.113383</td>\n      <td>0.069181</td>\n      <td>0.104025</td>\n      <td>0.046042</td>\n      <td>0.002942</td>\n      <td>0.071089</td>\n      <td>...</td>\n      <td>-0.003136</td>\n      <td>-0.070927</td>\n      <td>0.010735</td>\n      <td>-0.030390</td>\n      <td>0.007849</td>\n      <td>-0.078535</td>\n      <td>-0.033735</td>\n      <td>0.050014</td>\n      <td>-0.011298</td>\n      <td>0.043738</td>\n    </tr>\n    <tr>\n      <th>3</th>\n      <td>29.32.30.390</td>\n      <td>-0.081609</td>\n      <td>0.107156</td>\n      <td>-0.029594</td>\n      <td>-0.132391</td>\n      <td>0.053961</td>\n      <td>0.052272</td>\n      <td>0.016727</td>\n      <td>-0.029837</td>\n      <td>0.065136</td>\n      <td>...</td>\n      <td>0.098706</td>\n      <td>-0.048271</td>\n      <td>0.034361</td>\n      <td>-0.029871</td>\n      <td>-0.001077</td>\n      <td>-0.066073</td>\n      <td>0.034066</td>\n      <td>-0.028487</td>\n      <td>-0.022937</td>\n      <td>-0.041126</td>\n    </tr>\n    <tr>\n      <th>4</th>\n      <td>29.32.30.390</td>\n      <td>-0.041932</td>\n      <td>0.089922</td>\n      <td>-0.005092</td>\n      <td>-0.144109</td>\n      <td>-0.030656</td>\n      <td>0.042659</td>\n      <td>0.054375</td>\n      <td>0.018784</td>\n      <td>0.055190</td>\n      <td>...</td>\n      <td>0.019787</td>\n      <td>0.074386</td>\n      <td>0.031919</td>\n      <td>0.002162</td>\n      <td>-0.035039</td>\n      <td>0.031511</td>\n      <td>0.004884</td>\n      <td>0.046071</td>\n      <td>0.002176</td>\n      <td>0.106296</td>\n    </tr>\n    <tr>\n      <th>...</th>\n      <td>...</td>\n      <td>...</td>\n      <td>...</td>\n      <td>...</td>\n      <td>...</td>\n      <td>...</td>\n      <td>...</td>\n      <td>...</td>\n      <td>...</td>\n      <td>...</td>\n      <td>...</td>\n      <td>...</td>\n      <td>...</td>\n      <td>...</td>\n      <td>...</td>\n      <td>...</td>\n      <td>...</td>\n      <td>...</td>\n      <td>...</td>\n      <td>...</td>\n      <td>...</td>\n    </tr>\n    <tr>\n      <th>3326939</th>\n      <td>32.99.53.190</td>\n      <td>-0.027499</td>\n      <td>-0.025616</td>\n      <td>0.121056</td>\n      <td>0.060640</td>\n      <td>0.149666</td>\n      <td>-0.014492</td>\n      <td>-0.021161</td>\n      <td>0.035333</td>\n      <td>0.010027</td>\n      <td>...</td>\n      <td>-0.049448</td>\n      <td>0.041708</td>\n      <td>-0.049569</td>\n      <td>-0.060323</td>\n      <td>-0.094308</td>\n      <td>-0.034444</td>\n      <td>-0.000612</td>\n      <td>-0.042573</td>\n      <td>-0.023823</td>\n      <td>-0.036046</td>\n    </tr>\n    <tr>\n      <th>3326940</th>\n      <td>32.99.53.190</td>\n      <td>0.024230</td>\n      <td>-0.145448</td>\n      <td>0.035590</td>\n      <td>0.042214</td>\n      <td>0.053629</td>\n      <td>-0.050293</td>\n      <td>-0.121016</td>\n      <td>0.035264</td>\n      <td>0.016450</td>\n      <td>...</td>\n      <td>0.014646</td>\n      <td>0.049644</td>\n      <td>-0.071242</td>\n      <td>0.007376</td>\n      <td>-0.036168</td>\n      <td>-0.002222</td>\n      <td>-0.046171</td>\n      <td>-0.053319</td>\n      <td>0.017402</td>\n      <td>-0.035957</td>\n    </tr>\n    <tr>\n      <th>3326941</th>\n      <td>32.99.53.190</td>\n      <td>0.029743</td>\n      <td>-0.044397</td>\n      <td>0.043001</td>\n      <td>0.096596</td>\n      <td>0.075311</td>\n      <td>-0.112517</td>\n      <td>0.066830</td>\n      <td>0.080299</td>\n      <td>0.109445</td>\n      <td>...</td>\n      <td>0.031470</td>\n      <td>0.025454</td>\n      <td>-0.000764</td>\n      <td>-0.009774</td>\n      <td>-0.038763</td>\n      <td>-0.000650</td>\n      <td>-0.016358</td>\n      <td>-0.011641</td>\n      <td>0.053049</td>\n      <td>0.046733</td>\n    </tr>\n    <tr>\n      <th>3326942</th>\n      <td>32.99.53.190</td>\n      <td>0.030245</td>\n      <td>-0.022067</td>\n      <td>0.005487</td>\n      <td>0.098522</td>\n      <td>0.014827</td>\n      <td>-0.094994</td>\n      <td>0.007494</td>\n      <td>0.059642</td>\n      <td>0.079039</td>\n      <td>...</td>\n      <td>-0.020284</td>\n      <td>0.018719</td>\n      <td>0.017162</td>\n      <td>-0.079488</td>\n      <td>-0.005173</td>\n      <td>-0.058286</td>\n      <td>0.119991</td>\n      <td>-0.074769</td>\n      <td>0.042813</td>\n      <td>0.060973</td>\n    </tr>\n    <tr>\n      <th>3326943</th>\n      <td>32.99.53.190</td>\n      <td>0.117341</td>\n      <td>-0.113946</td>\n      <td>0.014747</td>\n      <td>0.072702</td>\n      <td>0.095686</td>\n      <td>-0.020894</td>\n      <td>-0.089134</td>\n      <td>0.056355</td>\n      <td>0.060033</td>\n      <td>...</td>\n      <td>0.031202</td>\n      <td>0.028454</td>\n      <td>0.006033</td>\n      <td>-0.039658</td>\n      <td>0.017654</td>\n      <td>-0.091499</td>\n      <td>0.036193</td>\n      <td>-0.027024</td>\n      <td>0.037641</td>\n      <td>0.068237</td>\n    </tr>\n  </tbody>\n</table>\n<p>3326944 rows × 51 columns</p>\n</div>"
     },
     "execution_count": 6,
     "metadata": {},
     "output_type": "execute_result"
    }
   ],
   "source": [
    "df_items"
   ],
   "metadata": {
    "collapsed": false,
    "ExecuteTime": {
     "end_time": "2024-09-07T13:10:24.843680100Z",
     "start_time": "2024-09-07T13:10:24.036784400Z"
    }
   },
   "id": "f03072dffd6d89e0"
  },
  {
   "cell_type": "code",
   "execution_count": 7,
   "outputs": [],
   "source": [
    "df_items_filtered = df_items[df_items[\"okpd2_code\"].isin(df[\"okpd2_code\"])]"
   ],
   "metadata": {
    "collapsed": false,
    "ExecuteTime": {
     "end_time": "2024-09-07T13:10:25.633006100Z",
     "start_time": "2024-09-07T13:10:25.002681100Z"
    }
   },
   "id": "19b095b26ea1534d"
  },
  {
   "cell_type": "code",
   "execution_count": null,
   "outputs": [],
   "source": [],
   "metadata": {
    "collapsed": false
   },
   "id": "4dd3281f9ae2f2d4"
  },
  {
   "cell_type": "code",
   "execution_count": 8,
   "outputs": [
    {
     "data": {
      "text/plain": "           okpd2_code  embedding_0  embedding_1  embedding_2  embedding_3  \\\n0        29.32.30.390    -0.030550     0.044142     0.088174    -0.095492   \n1        29.32.30.132    -0.101913     0.146078    -0.087388    -0.146050   \n2        29.32.30.390    -0.134190     0.078557     0.092137    -0.113383   \n3        29.32.30.390    -0.081609     0.107156    -0.029594    -0.132391   \n4        29.32.30.390    -0.041932     0.089922    -0.005092    -0.144109   \n...               ...          ...          ...          ...          ...   \n3326939  32.99.53.190    -0.027499    -0.025616     0.121056     0.060640   \n3326940  32.99.53.190     0.024230    -0.145448     0.035590     0.042214   \n3326941  32.99.53.190     0.029743    -0.044397     0.043001     0.096596   \n3326942  32.99.53.190     0.030245    -0.022067     0.005487     0.098522   \n3326943  32.99.53.190     0.117341    -0.113946     0.014747     0.072702   \n\n         embedding_4  embedding_5  embedding_6  embedding_7  embedding_8  ...  \\\n0          -0.003121     0.084103     0.052140    -0.011526     0.060063  ...   \n1           0.094004    -0.011365     0.041022     0.024372     0.106426  ...   \n2           0.069181     0.104025     0.046042     0.002942     0.071089  ...   \n3           0.053961     0.052272     0.016727    -0.029837     0.065136  ...   \n4          -0.030656     0.042659     0.054375     0.018784     0.055190  ...   \n...              ...          ...          ...          ...          ...  ...   \n3326939     0.149666    -0.014492    -0.021161     0.035333     0.010027  ...   \n3326940     0.053629    -0.050293    -0.121016     0.035264     0.016450  ...   \n3326941     0.075311    -0.112517     0.066830     0.080299     0.109445  ...   \n3326942     0.014827    -0.094994     0.007494     0.059642     0.079039  ...   \n3326943     0.095686    -0.020894    -0.089134     0.056355     0.060033  ...   \n\n         embedding_40  embedding_41  embedding_42  embedding_43  embedding_44  \\\n0            0.019856      0.092533     -0.003701      0.047575     -0.119288   \n1           -0.015478     -0.010093     -0.060806      0.006682      0.040172   \n2           -0.003136     -0.070927      0.010735     -0.030390      0.007849   \n3            0.098706     -0.048271      0.034361     -0.029871     -0.001077   \n4            0.019787      0.074386      0.031919      0.002162     -0.035039   \n...               ...           ...           ...           ...           ...   \n3326939     -0.049448      0.041708     -0.049569     -0.060323     -0.094308   \n3326940      0.014646      0.049644     -0.071242      0.007376     -0.036168   \n3326941      0.031470      0.025454     -0.000764     -0.009774     -0.038763   \n3326942     -0.020284      0.018719      0.017162     -0.079488     -0.005173   \n3326943      0.031202      0.028454      0.006033     -0.039658      0.017654   \n\n         embedding_45  embedding_46  embedding_47  embedding_48  embedding_49  \n0           -0.040383     -0.032855      0.027140      0.004683      0.059783  \n1           -0.020474      0.000549      0.013239     -0.060412     -0.017059  \n2           -0.078535     -0.033735      0.050014     -0.011298      0.043738  \n3           -0.066073      0.034066     -0.028487     -0.022937     -0.041126  \n4            0.031511      0.004884      0.046071      0.002176      0.106296  \n...               ...           ...           ...           ...           ...  \n3326939     -0.034444     -0.000612     -0.042573     -0.023823     -0.036046  \n3326940     -0.002222     -0.046171     -0.053319      0.017402     -0.035957  \n3326941     -0.000650     -0.016358     -0.011641      0.053049      0.046733  \n3326942     -0.058286      0.119991     -0.074769      0.042813      0.060973  \n3326943     -0.091499      0.036193     -0.027024      0.037641      0.068237  \n\n[3326931 rows x 51 columns]",
      "text/html": "<div>\n<style scoped>\n    .dataframe tbody tr th:only-of-type {\n        vertical-align: middle;\n    }\n\n    .dataframe tbody tr th {\n        vertical-align: top;\n    }\n\n    .dataframe thead th {\n        text-align: right;\n    }\n</style>\n<table border=\"1\" class=\"dataframe\">\n  <thead>\n    <tr style=\"text-align: right;\">\n      <th></th>\n      <th>okpd2_code</th>\n      <th>embedding_0</th>\n      <th>embedding_1</th>\n      <th>embedding_2</th>\n      <th>embedding_3</th>\n      <th>embedding_4</th>\n      <th>embedding_5</th>\n      <th>embedding_6</th>\n      <th>embedding_7</th>\n      <th>embedding_8</th>\n      <th>...</th>\n      <th>embedding_40</th>\n      <th>embedding_41</th>\n      <th>embedding_42</th>\n      <th>embedding_43</th>\n      <th>embedding_44</th>\n      <th>embedding_45</th>\n      <th>embedding_46</th>\n      <th>embedding_47</th>\n      <th>embedding_48</th>\n      <th>embedding_49</th>\n    </tr>\n  </thead>\n  <tbody>\n    <tr>\n      <th>0</th>\n      <td>29.32.30.390</td>\n      <td>-0.030550</td>\n      <td>0.044142</td>\n      <td>0.088174</td>\n      <td>-0.095492</td>\n      <td>-0.003121</td>\n      <td>0.084103</td>\n      <td>0.052140</td>\n      <td>-0.011526</td>\n      <td>0.060063</td>\n      <td>...</td>\n      <td>0.019856</td>\n      <td>0.092533</td>\n      <td>-0.003701</td>\n      <td>0.047575</td>\n      <td>-0.119288</td>\n      <td>-0.040383</td>\n      <td>-0.032855</td>\n      <td>0.027140</td>\n      <td>0.004683</td>\n      <td>0.059783</td>\n    </tr>\n    <tr>\n      <th>1</th>\n      <td>29.32.30.132</td>\n      <td>-0.101913</td>\n      <td>0.146078</td>\n      <td>-0.087388</td>\n      <td>-0.146050</td>\n      <td>0.094004</td>\n      <td>-0.011365</td>\n      <td>0.041022</td>\n      <td>0.024372</td>\n      <td>0.106426</td>\n      <td>...</td>\n      <td>-0.015478</td>\n      <td>-0.010093</td>\n      <td>-0.060806</td>\n      <td>0.006682</td>\n      <td>0.040172</td>\n      <td>-0.020474</td>\n      <td>0.000549</td>\n      <td>0.013239</td>\n      <td>-0.060412</td>\n      <td>-0.017059</td>\n    </tr>\n    <tr>\n      <th>2</th>\n      <td>29.32.30.390</td>\n      <td>-0.134190</td>\n      <td>0.078557</td>\n      <td>0.092137</td>\n      <td>-0.113383</td>\n      <td>0.069181</td>\n      <td>0.104025</td>\n      <td>0.046042</td>\n      <td>0.002942</td>\n      <td>0.071089</td>\n      <td>...</td>\n      <td>-0.003136</td>\n      <td>-0.070927</td>\n      <td>0.010735</td>\n      <td>-0.030390</td>\n      <td>0.007849</td>\n      <td>-0.078535</td>\n      <td>-0.033735</td>\n      <td>0.050014</td>\n      <td>-0.011298</td>\n      <td>0.043738</td>\n    </tr>\n    <tr>\n      <th>3</th>\n      <td>29.32.30.390</td>\n      <td>-0.081609</td>\n      <td>0.107156</td>\n      <td>-0.029594</td>\n      <td>-0.132391</td>\n      <td>0.053961</td>\n      <td>0.052272</td>\n      <td>0.016727</td>\n      <td>-0.029837</td>\n      <td>0.065136</td>\n      <td>...</td>\n      <td>0.098706</td>\n      <td>-0.048271</td>\n      <td>0.034361</td>\n      <td>-0.029871</td>\n      <td>-0.001077</td>\n      <td>-0.066073</td>\n      <td>0.034066</td>\n      <td>-0.028487</td>\n      <td>-0.022937</td>\n      <td>-0.041126</td>\n    </tr>\n    <tr>\n      <th>4</th>\n      <td>29.32.30.390</td>\n      <td>-0.041932</td>\n      <td>0.089922</td>\n      <td>-0.005092</td>\n      <td>-0.144109</td>\n      <td>-0.030656</td>\n      <td>0.042659</td>\n      <td>0.054375</td>\n      <td>0.018784</td>\n      <td>0.055190</td>\n      <td>...</td>\n      <td>0.019787</td>\n      <td>0.074386</td>\n      <td>0.031919</td>\n      <td>0.002162</td>\n      <td>-0.035039</td>\n      <td>0.031511</td>\n      <td>0.004884</td>\n      <td>0.046071</td>\n      <td>0.002176</td>\n      <td>0.106296</td>\n    </tr>\n    <tr>\n      <th>...</th>\n      <td>...</td>\n      <td>...</td>\n      <td>...</td>\n      <td>...</td>\n      <td>...</td>\n      <td>...</td>\n      <td>...</td>\n      <td>...</td>\n      <td>...</td>\n      <td>...</td>\n      <td>...</td>\n      <td>...</td>\n      <td>...</td>\n      <td>...</td>\n      <td>...</td>\n      <td>...</td>\n      <td>...</td>\n      <td>...</td>\n      <td>...</td>\n      <td>...</td>\n      <td>...</td>\n    </tr>\n    <tr>\n      <th>3326939</th>\n      <td>32.99.53.190</td>\n      <td>-0.027499</td>\n      <td>-0.025616</td>\n      <td>0.121056</td>\n      <td>0.060640</td>\n      <td>0.149666</td>\n      <td>-0.014492</td>\n      <td>-0.021161</td>\n      <td>0.035333</td>\n      <td>0.010027</td>\n      <td>...</td>\n      <td>-0.049448</td>\n      <td>0.041708</td>\n      <td>-0.049569</td>\n      <td>-0.060323</td>\n      <td>-0.094308</td>\n      <td>-0.034444</td>\n      <td>-0.000612</td>\n      <td>-0.042573</td>\n      <td>-0.023823</td>\n      <td>-0.036046</td>\n    </tr>\n    <tr>\n      <th>3326940</th>\n      <td>32.99.53.190</td>\n      <td>0.024230</td>\n      <td>-0.145448</td>\n      <td>0.035590</td>\n      <td>0.042214</td>\n      <td>0.053629</td>\n      <td>-0.050293</td>\n      <td>-0.121016</td>\n      <td>0.035264</td>\n      <td>0.016450</td>\n      <td>...</td>\n      <td>0.014646</td>\n      <td>0.049644</td>\n      <td>-0.071242</td>\n      <td>0.007376</td>\n      <td>-0.036168</td>\n      <td>-0.002222</td>\n      <td>-0.046171</td>\n      <td>-0.053319</td>\n      <td>0.017402</td>\n      <td>-0.035957</td>\n    </tr>\n    <tr>\n      <th>3326941</th>\n      <td>32.99.53.190</td>\n      <td>0.029743</td>\n      <td>-0.044397</td>\n      <td>0.043001</td>\n      <td>0.096596</td>\n      <td>0.075311</td>\n      <td>-0.112517</td>\n      <td>0.066830</td>\n      <td>0.080299</td>\n      <td>0.109445</td>\n      <td>...</td>\n      <td>0.031470</td>\n      <td>0.025454</td>\n      <td>-0.000764</td>\n      <td>-0.009774</td>\n      <td>-0.038763</td>\n      <td>-0.000650</td>\n      <td>-0.016358</td>\n      <td>-0.011641</td>\n      <td>0.053049</td>\n      <td>0.046733</td>\n    </tr>\n    <tr>\n      <th>3326942</th>\n      <td>32.99.53.190</td>\n      <td>0.030245</td>\n      <td>-0.022067</td>\n      <td>0.005487</td>\n      <td>0.098522</td>\n      <td>0.014827</td>\n      <td>-0.094994</td>\n      <td>0.007494</td>\n      <td>0.059642</td>\n      <td>0.079039</td>\n      <td>...</td>\n      <td>-0.020284</td>\n      <td>0.018719</td>\n      <td>0.017162</td>\n      <td>-0.079488</td>\n      <td>-0.005173</td>\n      <td>-0.058286</td>\n      <td>0.119991</td>\n      <td>-0.074769</td>\n      <td>0.042813</td>\n      <td>0.060973</td>\n    </tr>\n    <tr>\n      <th>3326943</th>\n      <td>32.99.53.190</td>\n      <td>0.117341</td>\n      <td>-0.113946</td>\n      <td>0.014747</td>\n      <td>0.072702</td>\n      <td>0.095686</td>\n      <td>-0.020894</td>\n      <td>-0.089134</td>\n      <td>0.056355</td>\n      <td>0.060033</td>\n      <td>...</td>\n      <td>0.031202</td>\n      <td>0.028454</td>\n      <td>0.006033</td>\n      <td>-0.039658</td>\n      <td>0.017654</td>\n      <td>-0.091499</td>\n      <td>0.036193</td>\n      <td>-0.027024</td>\n      <td>0.037641</td>\n      <td>0.068237</td>\n    </tr>\n  </tbody>\n</table>\n<p>3326931 rows × 51 columns</p>\n</div>"
     },
     "execution_count": 8,
     "metadata": {},
     "output_type": "execute_result"
    }
   ],
   "source": [
    "df_items_filtered"
   ],
   "metadata": {
    "collapsed": false,
    "ExecuteTime": {
     "end_time": "2024-09-07T13:10:43.000016800Z",
     "start_time": "2024-09-07T13:10:42.193216600Z"
    }
   },
   "id": "5e62f375d9327fea"
  },
  {
   "cell_type": "code",
   "execution_count": 10,
   "outputs": [],
   "source": [
    "df_items_unique = df_items.drop_duplicates(subset=['okpd2_code'])"
   ],
   "metadata": {
    "collapsed": false,
    "ExecuteTime": {
     "end_time": "2024-09-07T13:12:56.587245100Z",
     "start_time": "2024-09-07T13:12:56.546906500Z"
    }
   },
   "id": "e5e854f47b2a6a72"
  },
  {
   "cell_type": "code",
   "execution_count": 99,
   "outputs": [],
   "source": [
    "df_items_unique.to_csv(\"items_data\")"
   ],
   "metadata": {
    "collapsed": false,
    "ExecuteTime": {
     "end_time": "2024-09-07T15:07:55.169702500Z",
     "start_time": "2024-09-07T15:07:54.839574700Z"
    }
   },
   "id": "2ba6b5235b5dda2c"
  },
  {
   "cell_type": "code",
   "execution_count": null,
   "outputs": [],
   "source": [],
   "metadata": {
    "collapsed": false
   },
   "id": "46a699043d49db31"
  },
  {
   "cell_type": "code",
   "execution_count": 104,
   "outputs": [
    {
     "data": {
      "text/plain": "           okpd2_code  embedding_0  embedding_1  embedding_2  embedding_3  \\\n0        29.32.30.390    -0.030550     0.044142     0.088174    -0.095492   \n1        29.32.30.132    -0.101913     0.146078    -0.087388    -0.146050   \n5        29.32.30.171     0.001983     0.123600     0.113801    -0.026596   \n12       29.32.30.181    -0.079319     0.087163     0.047883    -0.060714   \n16       29.32.30.250    -0.069721     0.118093    -0.108120    -0.118736   \n...               ...          ...          ...          ...          ...   \n3323828  21.20.10.223    -0.096934    -0.128175     0.003203    -0.027508   \n3324383  21.20.10.117    -0.107198    -0.153850    -0.033969    -0.024989   \n3324843  21.20.21.123    -0.135880    -0.124685    -0.061736    -0.020704   \n3324889  21.20.10.000     0.005264    -0.102707     0.028723    -0.106546   \n3326498  10.13.15.139    -0.010749    -0.179617    -0.009033     0.002876   \n\n         embedding_4  embedding_5  embedding_6  embedding_7  embedding_8  ...  \\\n0          -0.003121     0.084103     0.052140    -0.011526     0.060063  ...   \n1           0.094004    -0.011365     0.041022     0.024372     0.106426  ...   \n5           0.112318     0.063916     0.176068    -0.035743    -0.091407  ...   \n12          0.016559     0.007135     0.021319     0.014768     0.097290  ...   \n16          0.062450    -0.034980     0.048773     0.056463     0.036277  ...   \n...              ...          ...          ...          ...          ...  ...   \n3323828    -0.043766    -0.049671     0.130892    -0.009223    -0.021933  ...   \n3324383    -0.026069    -0.110030     0.122628    -0.009700    -0.037963  ...   \n3324843     0.003886    -0.129174     0.078883     0.003912    -0.038738  ...   \n3324889    -0.032143    -0.042456     0.087722     0.013360     0.007600  ...   \n3326498     0.029538     0.011442    -0.074234    -0.018845    -0.067329  ...   \n\n         embedding_40  embedding_41  embedding_42  embedding_43  embedding_44  \\\n0            0.019856      0.092533     -0.003701      0.047575     -0.119288   \n1           -0.015478     -0.010093     -0.060806      0.006682      0.040172   \n5           -0.011755     -0.040743     -0.027849     -0.037205      0.064504   \n12          -0.032726      0.070941     -0.030527      0.015836      0.027330   \n16          -0.020654     -0.024291     -0.073733     -0.020153      0.058840   \n...               ...           ...           ...           ...           ...   \n3323828      0.046608      0.044227      0.052197      0.032994      0.018027   \n3324383     -0.001620     -0.022685      0.007942     -0.029815      0.023350   \n3324843      0.057594      0.152443      0.038534      0.033170      0.037996   \n3324889      0.014455      0.000871      0.039919      0.001288      0.019925   \n3326498     -0.006793     -0.021793     -0.060133      0.012921      0.051062   \n\n         embedding_45  embedding_46  embedding_47  embedding_48  embedding_49  \n0           -0.040383     -0.032855      0.027140      0.004683      0.059783  \n1           -0.020474      0.000549      0.013239     -0.060412     -0.017059  \n5           -0.010576     -0.016540     -0.003244     -0.047492      0.013105  \n12           0.010317     -0.043781      0.047365     -0.054147      0.029655  \n16           0.046972      0.055343     -0.040363     -0.054743     -0.028836  \n...               ...           ...           ...           ...           ...  \n3323828      0.008720     -0.014150     -0.000419      0.117836      0.035970  \n3324383     -0.022553     -0.077379      0.013536      0.015561      0.056857  \n3324843     -0.042573     -0.051933     -0.021219      0.051301      0.015850  \n3324889     -0.040429     -0.070547     -0.029558      0.059920      0.044248  \n3326498      0.080749      0.078525      0.010695     -0.016855     -0.048273  \n\n[9327 rows x 51 columns]",
      "text/html": "<div>\n<style scoped>\n    .dataframe tbody tr th:only-of-type {\n        vertical-align: middle;\n    }\n\n    .dataframe tbody tr th {\n        vertical-align: top;\n    }\n\n    .dataframe thead th {\n        text-align: right;\n    }\n</style>\n<table border=\"1\" class=\"dataframe\">\n  <thead>\n    <tr style=\"text-align: right;\">\n      <th></th>\n      <th>okpd2_code</th>\n      <th>embedding_0</th>\n      <th>embedding_1</th>\n      <th>embedding_2</th>\n      <th>embedding_3</th>\n      <th>embedding_4</th>\n      <th>embedding_5</th>\n      <th>embedding_6</th>\n      <th>embedding_7</th>\n      <th>embedding_8</th>\n      <th>...</th>\n      <th>embedding_40</th>\n      <th>embedding_41</th>\n      <th>embedding_42</th>\n      <th>embedding_43</th>\n      <th>embedding_44</th>\n      <th>embedding_45</th>\n      <th>embedding_46</th>\n      <th>embedding_47</th>\n      <th>embedding_48</th>\n      <th>embedding_49</th>\n    </tr>\n  </thead>\n  <tbody>\n    <tr>\n      <th>0</th>\n      <td>29.32.30.390</td>\n      <td>-0.030550</td>\n      <td>0.044142</td>\n      <td>0.088174</td>\n      <td>-0.095492</td>\n      <td>-0.003121</td>\n      <td>0.084103</td>\n      <td>0.052140</td>\n      <td>-0.011526</td>\n      <td>0.060063</td>\n      <td>...</td>\n      <td>0.019856</td>\n      <td>0.092533</td>\n      <td>-0.003701</td>\n      <td>0.047575</td>\n      <td>-0.119288</td>\n      <td>-0.040383</td>\n      <td>-0.032855</td>\n      <td>0.027140</td>\n      <td>0.004683</td>\n      <td>0.059783</td>\n    </tr>\n    <tr>\n      <th>1</th>\n      <td>29.32.30.132</td>\n      <td>-0.101913</td>\n      <td>0.146078</td>\n      <td>-0.087388</td>\n      <td>-0.146050</td>\n      <td>0.094004</td>\n      <td>-0.011365</td>\n      <td>0.041022</td>\n      <td>0.024372</td>\n      <td>0.106426</td>\n      <td>...</td>\n      <td>-0.015478</td>\n      <td>-0.010093</td>\n      <td>-0.060806</td>\n      <td>0.006682</td>\n      <td>0.040172</td>\n      <td>-0.020474</td>\n      <td>0.000549</td>\n      <td>0.013239</td>\n      <td>-0.060412</td>\n      <td>-0.017059</td>\n    </tr>\n    <tr>\n      <th>5</th>\n      <td>29.32.30.171</td>\n      <td>0.001983</td>\n      <td>0.123600</td>\n      <td>0.113801</td>\n      <td>-0.026596</td>\n      <td>0.112318</td>\n      <td>0.063916</td>\n      <td>0.176068</td>\n      <td>-0.035743</td>\n      <td>-0.091407</td>\n      <td>...</td>\n      <td>-0.011755</td>\n      <td>-0.040743</td>\n      <td>-0.027849</td>\n      <td>-0.037205</td>\n      <td>0.064504</td>\n      <td>-0.010576</td>\n      <td>-0.016540</td>\n      <td>-0.003244</td>\n      <td>-0.047492</td>\n      <td>0.013105</td>\n    </tr>\n    <tr>\n      <th>12</th>\n      <td>29.32.30.181</td>\n      <td>-0.079319</td>\n      <td>0.087163</td>\n      <td>0.047883</td>\n      <td>-0.060714</td>\n      <td>0.016559</td>\n      <td>0.007135</td>\n      <td>0.021319</td>\n      <td>0.014768</td>\n      <td>0.097290</td>\n      <td>...</td>\n      <td>-0.032726</td>\n      <td>0.070941</td>\n      <td>-0.030527</td>\n      <td>0.015836</td>\n      <td>0.027330</td>\n      <td>0.010317</td>\n      <td>-0.043781</td>\n      <td>0.047365</td>\n      <td>-0.054147</td>\n      <td>0.029655</td>\n    </tr>\n    <tr>\n      <th>16</th>\n      <td>29.32.30.250</td>\n      <td>-0.069721</td>\n      <td>0.118093</td>\n      <td>-0.108120</td>\n      <td>-0.118736</td>\n      <td>0.062450</td>\n      <td>-0.034980</td>\n      <td>0.048773</td>\n      <td>0.056463</td>\n      <td>0.036277</td>\n      <td>...</td>\n      <td>-0.020654</td>\n      <td>-0.024291</td>\n      <td>-0.073733</td>\n      <td>-0.020153</td>\n      <td>0.058840</td>\n      <td>0.046972</td>\n      <td>0.055343</td>\n      <td>-0.040363</td>\n      <td>-0.054743</td>\n      <td>-0.028836</td>\n    </tr>\n    <tr>\n      <th>...</th>\n      <td>...</td>\n      <td>...</td>\n      <td>...</td>\n      <td>...</td>\n      <td>...</td>\n      <td>...</td>\n      <td>...</td>\n      <td>...</td>\n      <td>...</td>\n      <td>...</td>\n      <td>...</td>\n      <td>...</td>\n      <td>...</td>\n      <td>...</td>\n      <td>...</td>\n      <td>...</td>\n      <td>...</td>\n      <td>...</td>\n      <td>...</td>\n      <td>...</td>\n      <td>...</td>\n    </tr>\n    <tr>\n      <th>3323828</th>\n      <td>21.20.10.223</td>\n      <td>-0.096934</td>\n      <td>-0.128175</td>\n      <td>0.003203</td>\n      <td>-0.027508</td>\n      <td>-0.043766</td>\n      <td>-0.049671</td>\n      <td>0.130892</td>\n      <td>-0.009223</td>\n      <td>-0.021933</td>\n      <td>...</td>\n      <td>0.046608</td>\n      <td>0.044227</td>\n      <td>0.052197</td>\n      <td>0.032994</td>\n      <td>0.018027</td>\n      <td>0.008720</td>\n      <td>-0.014150</td>\n      <td>-0.000419</td>\n      <td>0.117836</td>\n      <td>0.035970</td>\n    </tr>\n    <tr>\n      <th>3324383</th>\n      <td>21.20.10.117</td>\n      <td>-0.107198</td>\n      <td>-0.153850</td>\n      <td>-0.033969</td>\n      <td>-0.024989</td>\n      <td>-0.026069</td>\n      <td>-0.110030</td>\n      <td>0.122628</td>\n      <td>-0.009700</td>\n      <td>-0.037963</td>\n      <td>...</td>\n      <td>-0.001620</td>\n      <td>-0.022685</td>\n      <td>0.007942</td>\n      <td>-0.029815</td>\n      <td>0.023350</td>\n      <td>-0.022553</td>\n      <td>-0.077379</td>\n      <td>0.013536</td>\n      <td>0.015561</td>\n      <td>0.056857</td>\n    </tr>\n    <tr>\n      <th>3324843</th>\n      <td>21.20.21.123</td>\n      <td>-0.135880</td>\n      <td>-0.124685</td>\n      <td>-0.061736</td>\n      <td>-0.020704</td>\n      <td>0.003886</td>\n      <td>-0.129174</td>\n      <td>0.078883</td>\n      <td>0.003912</td>\n      <td>-0.038738</td>\n      <td>...</td>\n      <td>0.057594</td>\n      <td>0.152443</td>\n      <td>0.038534</td>\n      <td>0.033170</td>\n      <td>0.037996</td>\n      <td>-0.042573</td>\n      <td>-0.051933</td>\n      <td>-0.021219</td>\n      <td>0.051301</td>\n      <td>0.015850</td>\n    </tr>\n    <tr>\n      <th>3324889</th>\n      <td>21.20.10.000</td>\n      <td>0.005264</td>\n      <td>-0.102707</td>\n      <td>0.028723</td>\n      <td>-0.106546</td>\n      <td>-0.032143</td>\n      <td>-0.042456</td>\n      <td>0.087722</td>\n      <td>0.013360</td>\n      <td>0.007600</td>\n      <td>...</td>\n      <td>0.014455</td>\n      <td>0.000871</td>\n      <td>0.039919</td>\n      <td>0.001288</td>\n      <td>0.019925</td>\n      <td>-0.040429</td>\n      <td>-0.070547</td>\n      <td>-0.029558</td>\n      <td>0.059920</td>\n      <td>0.044248</td>\n    </tr>\n    <tr>\n      <th>3326498</th>\n      <td>10.13.15.139</td>\n      <td>-0.010749</td>\n      <td>-0.179617</td>\n      <td>-0.009033</td>\n      <td>0.002876</td>\n      <td>0.029538</td>\n      <td>0.011442</td>\n      <td>-0.074234</td>\n      <td>-0.018845</td>\n      <td>-0.067329</td>\n      <td>...</td>\n      <td>-0.006793</td>\n      <td>-0.021793</td>\n      <td>-0.060133</td>\n      <td>0.012921</td>\n      <td>0.051062</td>\n      <td>0.080749</td>\n      <td>0.078525</td>\n      <td>0.010695</td>\n      <td>-0.016855</td>\n      <td>-0.048273</td>\n    </tr>\n  </tbody>\n</table>\n<p>9327 rows × 51 columns</p>\n</div>"
     },
     "execution_count": 104,
     "metadata": {},
     "output_type": "execute_result"
    }
   ],
   "source": [
    "df_items_unique"
   ],
   "metadata": {
    "collapsed": false,
    "ExecuteTime": {
     "end_time": "2024-09-07T15:23:53.130775500Z",
     "start_time": "2024-09-07T15:23:53.109760800Z"
    }
   },
   "id": "c3467c2ac9ecb082"
  },
  {
   "cell_type": "code",
   "execution_count": 12,
   "outputs": [],
   "source": [
    "df_result = pd.merge(df, df_items_unique, on=\"okpd2_code\", how=\"inner\")"
   ],
   "metadata": {
    "collapsed": false,
    "ExecuteTime": {
     "end_time": "2024-09-07T13:13:25.884256200Z",
     "start_time": "2024-09-07T13:13:25.077440Z"
    }
   },
   "id": "db5a63cb71500447"
  },
  {
   "cell_type": "code",
   "execution_count": 13,
   "outputs": [
    {
     "data": {
      "text/plain": "                 supplier  region_code    okpd2_code  win_count  \\\n0             Поставщик_1           23  23.31.10.000          1   \n1        Поставщик_101815           11  23.31.10.000          1   \n2        Поставщик_103354           60  23.31.10.000          1   \n3        Поставщик_103354           78  23.31.10.000          1   \n4         Поставщик_11468           76  23.31.10.000          1   \n...                   ...          ...           ...        ...   \n1642624   Поставщик_99032           86  20.51.10.000          2   \n1642625   Поставщик_99248           78  28.95.12.000          2   \n1642626   Поставщик_99493           72  14.19.43.125          1   \n1642627   Поставщик_99710           10  28.41.23.110          3   \n1642628   Поставщик_99978           24  20.51.14.130          3   \n\n         product_count  embedding_0  embedding_1  embedding_2  embedding_3  \\\n0                    1    -0.084131    -0.135017    -0.027169     0.126785   \n1                    1    -0.084131    -0.135017    -0.027169     0.126785   \n2                    1    -0.084131    -0.135017    -0.027169     0.126785   \n3                    1    -0.084131    -0.135017    -0.027169     0.126785   \n4                    1    -0.084131    -0.135017    -0.027169     0.126785   \n...                ...          ...          ...          ...          ...   \n1642624              2     0.016073    -0.009947     0.072370     0.093525   \n1642625              4    -0.030602    -0.060807    -0.012000     0.086548   \n1642626              1    -0.173276    -0.096090    -0.082795     0.003398   \n1642627              3    -0.075195     0.017919    -0.000670     0.093677   \n1642628              3     0.150206    -0.013433     0.020914    -0.054650   \n\n         embedding_4  ...  embedding_40  embedding_41  embedding_42  \\\n0          -0.048373  ...      0.029163     -0.001956      0.003781   \n1          -0.048373  ...      0.029163     -0.001956      0.003781   \n2          -0.048373  ...      0.029163     -0.001956      0.003781   \n3          -0.048373  ...      0.029163     -0.001956      0.003781   \n4          -0.048373  ...      0.029163     -0.001956      0.003781   \n...              ...  ...           ...           ...           ...   \n1642624     0.009080  ...      0.118118      0.057376     -0.035181   \n1642625    -0.060591  ...      0.024963      0.031688     -0.099188   \n1642626    -0.057788  ...     -0.061991      0.088766      0.000062   \n1642627    -0.044708  ...      0.025358      0.013077     -0.021526   \n1642628    -0.012314  ...     -0.032747      0.037987     -0.031489   \n\n         embedding_43  embedding_44  embedding_45  embedding_46  embedding_47  \\\n0            0.047525     -0.060765      0.023092      0.051529     -0.021981   \n1            0.047525     -0.060765      0.023092      0.051529     -0.021981   \n2            0.047525     -0.060765      0.023092      0.051529     -0.021981   \n3            0.047525     -0.060765      0.023092      0.051529     -0.021981   \n4            0.047525     -0.060765      0.023092      0.051529     -0.021981   \n...               ...           ...           ...           ...           ...   \n1642624      0.048378     -0.020099     -0.081942      0.002037     -0.019320   \n1642625     -0.001682      0.001445      0.034288     -0.087493     -0.042572   \n1642626     -0.037552     -0.103478      0.017357     -0.012888     -0.088315   \n1642627      0.016746      0.015993      0.017811      0.005215     -0.028595   \n1642628      0.013592     -0.046220     -0.013018     -0.072920     -0.031951   \n\n         embedding_48  embedding_49  \n0            0.064804      0.031139  \n1            0.064804      0.031139  \n2            0.064804      0.031139  \n3            0.064804      0.031139  \n4            0.064804      0.031139  \n...               ...           ...  \n1642624     -0.050048     -0.051197  \n1642625     -0.073339     -0.016558  \n1642626     -0.025194     -0.108631  \n1642627      0.026351      0.016843  \n1642628      0.078627     -0.041659  \n\n[1642629 rows x 55 columns]",
      "text/html": "<div>\n<style scoped>\n    .dataframe tbody tr th:only-of-type {\n        vertical-align: middle;\n    }\n\n    .dataframe tbody tr th {\n        vertical-align: top;\n    }\n\n    .dataframe thead th {\n        text-align: right;\n    }\n</style>\n<table border=\"1\" class=\"dataframe\">\n  <thead>\n    <tr style=\"text-align: right;\">\n      <th></th>\n      <th>supplier</th>\n      <th>region_code</th>\n      <th>okpd2_code</th>\n      <th>win_count</th>\n      <th>product_count</th>\n      <th>embedding_0</th>\n      <th>embedding_1</th>\n      <th>embedding_2</th>\n      <th>embedding_3</th>\n      <th>embedding_4</th>\n      <th>...</th>\n      <th>embedding_40</th>\n      <th>embedding_41</th>\n      <th>embedding_42</th>\n      <th>embedding_43</th>\n      <th>embedding_44</th>\n      <th>embedding_45</th>\n      <th>embedding_46</th>\n      <th>embedding_47</th>\n      <th>embedding_48</th>\n      <th>embedding_49</th>\n    </tr>\n  </thead>\n  <tbody>\n    <tr>\n      <th>0</th>\n      <td>Поставщик_1</td>\n      <td>23</td>\n      <td>23.31.10.000</td>\n      <td>1</td>\n      <td>1</td>\n      <td>-0.084131</td>\n      <td>-0.135017</td>\n      <td>-0.027169</td>\n      <td>0.126785</td>\n      <td>-0.048373</td>\n      <td>...</td>\n      <td>0.029163</td>\n      <td>-0.001956</td>\n      <td>0.003781</td>\n      <td>0.047525</td>\n      <td>-0.060765</td>\n      <td>0.023092</td>\n      <td>0.051529</td>\n      <td>-0.021981</td>\n      <td>0.064804</td>\n      <td>0.031139</td>\n    </tr>\n    <tr>\n      <th>1</th>\n      <td>Поставщик_101815</td>\n      <td>11</td>\n      <td>23.31.10.000</td>\n      <td>1</td>\n      <td>1</td>\n      <td>-0.084131</td>\n      <td>-0.135017</td>\n      <td>-0.027169</td>\n      <td>0.126785</td>\n      <td>-0.048373</td>\n      <td>...</td>\n      <td>0.029163</td>\n      <td>-0.001956</td>\n      <td>0.003781</td>\n      <td>0.047525</td>\n      <td>-0.060765</td>\n      <td>0.023092</td>\n      <td>0.051529</td>\n      <td>-0.021981</td>\n      <td>0.064804</td>\n      <td>0.031139</td>\n    </tr>\n    <tr>\n      <th>2</th>\n      <td>Поставщик_103354</td>\n      <td>60</td>\n      <td>23.31.10.000</td>\n      <td>1</td>\n      <td>1</td>\n      <td>-0.084131</td>\n      <td>-0.135017</td>\n      <td>-0.027169</td>\n      <td>0.126785</td>\n      <td>-0.048373</td>\n      <td>...</td>\n      <td>0.029163</td>\n      <td>-0.001956</td>\n      <td>0.003781</td>\n      <td>0.047525</td>\n      <td>-0.060765</td>\n      <td>0.023092</td>\n      <td>0.051529</td>\n      <td>-0.021981</td>\n      <td>0.064804</td>\n      <td>0.031139</td>\n    </tr>\n    <tr>\n      <th>3</th>\n      <td>Поставщик_103354</td>\n      <td>78</td>\n      <td>23.31.10.000</td>\n      <td>1</td>\n      <td>1</td>\n      <td>-0.084131</td>\n      <td>-0.135017</td>\n      <td>-0.027169</td>\n      <td>0.126785</td>\n      <td>-0.048373</td>\n      <td>...</td>\n      <td>0.029163</td>\n      <td>-0.001956</td>\n      <td>0.003781</td>\n      <td>0.047525</td>\n      <td>-0.060765</td>\n      <td>0.023092</td>\n      <td>0.051529</td>\n      <td>-0.021981</td>\n      <td>0.064804</td>\n      <td>0.031139</td>\n    </tr>\n    <tr>\n      <th>4</th>\n      <td>Поставщик_11468</td>\n      <td>76</td>\n      <td>23.31.10.000</td>\n      <td>1</td>\n      <td>1</td>\n      <td>-0.084131</td>\n      <td>-0.135017</td>\n      <td>-0.027169</td>\n      <td>0.126785</td>\n      <td>-0.048373</td>\n      <td>...</td>\n      <td>0.029163</td>\n      <td>-0.001956</td>\n      <td>0.003781</td>\n      <td>0.047525</td>\n      <td>-0.060765</td>\n      <td>0.023092</td>\n      <td>0.051529</td>\n      <td>-0.021981</td>\n      <td>0.064804</td>\n      <td>0.031139</td>\n    </tr>\n    <tr>\n      <th>...</th>\n      <td>...</td>\n      <td>...</td>\n      <td>...</td>\n      <td>...</td>\n      <td>...</td>\n      <td>...</td>\n      <td>...</td>\n      <td>...</td>\n      <td>...</td>\n      <td>...</td>\n      <td>...</td>\n      <td>...</td>\n      <td>...</td>\n      <td>...</td>\n      <td>...</td>\n      <td>...</td>\n      <td>...</td>\n      <td>...</td>\n      <td>...</td>\n      <td>...</td>\n      <td>...</td>\n    </tr>\n    <tr>\n      <th>1642624</th>\n      <td>Поставщик_99032</td>\n      <td>86</td>\n      <td>20.51.10.000</td>\n      <td>2</td>\n      <td>2</td>\n      <td>0.016073</td>\n      <td>-0.009947</td>\n      <td>0.072370</td>\n      <td>0.093525</td>\n      <td>0.009080</td>\n      <td>...</td>\n      <td>0.118118</td>\n      <td>0.057376</td>\n      <td>-0.035181</td>\n      <td>0.048378</td>\n      <td>-0.020099</td>\n      <td>-0.081942</td>\n      <td>0.002037</td>\n      <td>-0.019320</td>\n      <td>-0.050048</td>\n      <td>-0.051197</td>\n    </tr>\n    <tr>\n      <th>1642625</th>\n      <td>Поставщик_99248</td>\n      <td>78</td>\n      <td>28.95.12.000</td>\n      <td>2</td>\n      <td>4</td>\n      <td>-0.030602</td>\n      <td>-0.060807</td>\n      <td>-0.012000</td>\n      <td>0.086548</td>\n      <td>-0.060591</td>\n      <td>...</td>\n      <td>0.024963</td>\n      <td>0.031688</td>\n      <td>-0.099188</td>\n      <td>-0.001682</td>\n      <td>0.001445</td>\n      <td>0.034288</td>\n      <td>-0.087493</td>\n      <td>-0.042572</td>\n      <td>-0.073339</td>\n      <td>-0.016558</td>\n    </tr>\n    <tr>\n      <th>1642626</th>\n      <td>Поставщик_99493</td>\n      <td>72</td>\n      <td>14.19.43.125</td>\n      <td>1</td>\n      <td>1</td>\n      <td>-0.173276</td>\n      <td>-0.096090</td>\n      <td>-0.082795</td>\n      <td>0.003398</td>\n      <td>-0.057788</td>\n      <td>...</td>\n      <td>-0.061991</td>\n      <td>0.088766</td>\n      <td>0.000062</td>\n      <td>-0.037552</td>\n      <td>-0.103478</td>\n      <td>0.017357</td>\n      <td>-0.012888</td>\n      <td>-0.088315</td>\n      <td>-0.025194</td>\n      <td>-0.108631</td>\n    </tr>\n    <tr>\n      <th>1642627</th>\n      <td>Поставщик_99710</td>\n      <td>10</td>\n      <td>28.41.23.110</td>\n      <td>3</td>\n      <td>3</td>\n      <td>-0.075195</td>\n      <td>0.017919</td>\n      <td>-0.000670</td>\n      <td>0.093677</td>\n      <td>-0.044708</td>\n      <td>...</td>\n      <td>0.025358</td>\n      <td>0.013077</td>\n      <td>-0.021526</td>\n      <td>0.016746</td>\n      <td>0.015993</td>\n      <td>0.017811</td>\n      <td>0.005215</td>\n      <td>-0.028595</td>\n      <td>0.026351</td>\n      <td>0.016843</td>\n    </tr>\n    <tr>\n      <th>1642628</th>\n      <td>Поставщик_99978</td>\n      <td>24</td>\n      <td>20.51.14.130</td>\n      <td>3</td>\n      <td>3</td>\n      <td>0.150206</td>\n      <td>-0.013433</td>\n      <td>0.020914</td>\n      <td>-0.054650</td>\n      <td>-0.012314</td>\n      <td>...</td>\n      <td>-0.032747</td>\n      <td>0.037987</td>\n      <td>-0.031489</td>\n      <td>0.013592</td>\n      <td>-0.046220</td>\n      <td>-0.013018</td>\n      <td>-0.072920</td>\n      <td>-0.031951</td>\n      <td>0.078627</td>\n      <td>-0.041659</td>\n    </tr>\n  </tbody>\n</table>\n<p>1642629 rows × 55 columns</p>\n</div>"
     },
     "execution_count": 13,
     "metadata": {},
     "output_type": "execute_result"
    }
   ],
   "source": [
    "df_result"
   ],
   "metadata": {
    "collapsed": false,
    "ExecuteTime": {
     "end_time": "2024-09-07T13:13:28.163274700Z",
     "start_time": "2024-09-07T13:13:27.492009900Z"
    }
   },
   "id": "4728edfea8275c94"
  },
  {
   "cell_type": "code",
   "execution_count": 98,
   "outputs": [],
   "source": [
    "df_result.to_csv(\"main_data\")"
   ],
   "metadata": {
    "collapsed": false,
    "ExecuteTime": {
     "end_time": "2024-09-07T14:52:31.876524300Z",
     "start_time": "2024-09-07T14:51:36.997450700Z"
    }
   },
   "id": "bdc7dc74a467728e"
  },
  {
   "cell_type": "code",
   "execution_count": 19,
   "outputs": [],
   "source": [
    "df_features = df_result[[\"region_code\"]]"
   ],
   "metadata": {
    "collapsed": false,
    "ExecuteTime": {
     "end_time": "2024-09-07T13:45:44.704251200Z",
     "start_time": "2024-09-07T13:45:44.687095200Z"
    }
   },
   "id": "1df92ea2bcd2885a"
  },
  {
   "cell_type": "code",
   "execution_count": 33,
   "outputs": [],
   "source": [
    "df_emb = df_result.drop(columns=[\"supplier\", \"region_code\", \"okpd2_code\", \"win_count\", \"product_count\"])"
   ],
   "metadata": {
    "collapsed": false,
    "ExecuteTime": {
     "end_time": "2024-09-07T13:51:53.309647800Z",
     "start_time": "2024-09-07T13:51:53.153198600Z"
    }
   },
   "id": "2dfa2805eebd52b5"
  },
  {
   "cell_type": "code",
   "execution_count": null,
   "outputs": [],
   "source": [],
   "metadata": {
    "collapsed": false
   },
   "id": "4b446ab2f7bd67da"
  },
  {
   "cell_type": "code",
   "execution_count": 34,
   "outputs": [],
   "source": [
    "# Normalize features\n",
    "scaler = StandardScaler()\n",
    "df_features_scaled = scaler.fit_transform(df_features)"
   ],
   "metadata": {
    "collapsed": false,
    "ExecuteTime": {
     "end_time": "2024-09-07T13:52:50.223368200Z",
     "start_time": "2024-09-07T13:52:50.185172100Z"
    }
   },
   "id": "403b41111306345d"
  },
  {
   "cell_type": "code",
   "execution_count": 102,
   "outputs": [
    {
     "data": {
      "text/plain": "array([50.0897202])"
     },
     "execution_count": 102,
     "metadata": {},
     "output_type": "execute_result"
    }
   ],
   "source": [
    "scaler.mean_"
   ],
   "metadata": {
    "collapsed": false,
    "ExecuteTime": {
     "end_time": "2024-09-07T15:16:19.045500800Z",
     "start_time": "2024-09-07T15:16:19.033490400Z"
    }
   },
   "id": "411d271bc2f3776d"
  },
  {
   "cell_type": "code",
   "execution_count": 103,
   "outputs": [
    {
     "data": {
      "text/plain": "array([622.2098041])"
     },
     "execution_count": 103,
     "metadata": {},
     "output_type": "execute_result"
    }
   ],
   "source": [
    "scaler.var_"
   ],
   "metadata": {
    "collapsed": false,
    "ExecuteTime": {
     "end_time": "2024-09-07T15:16:28.317231Z",
     "start_time": "2024-09-07T15:16:28.296371100Z"
    }
   },
   "id": "69f3a793df57ff04"
  },
  {
   "cell_type": "code",
   "execution_count": 44,
   "outputs": [],
   "source": [
    "df_features_scaled_df = pd.DataFrame(df_features_scaled, columns=[\"region_code_scaled\"])"
   ],
   "metadata": {
    "collapsed": false,
    "ExecuteTime": {
     "end_time": "2024-09-07T13:58:55.428302800Z",
     "start_time": "2024-09-07T13:58:55.413293900Z"
    }
   },
   "id": "5012cb0b953268e1"
  },
  {
   "cell_type": "code",
   "execution_count": 45,
   "outputs": [],
   "source": [
    "df_combined_scaled = pd.concat([df_features_scaled_df, df_emb.reset_index(drop=True)], axis=1)"
   ],
   "metadata": {
    "collapsed": false,
    "ExecuteTime": {
     "end_time": "2024-09-07T13:59:06.793677200Z",
     "start_time": "2024-09-07T13:59:06.423790800Z"
    }
   },
   "id": "f998e4966ef4df6c"
  },
  {
   "cell_type": "code",
   "execution_count": 101,
   "outputs": [
    {
     "data": {
      "text/plain": "         embedding_0  embedding_1  embedding_2  embedding_3  embedding_4  \\\n0          -0.084131    -0.135017    -0.027169     0.126785    -0.048373   \n1          -0.084131    -0.135017    -0.027169     0.126785    -0.048373   \n2          -0.084131    -0.135017    -0.027169     0.126785    -0.048373   \n3          -0.084131    -0.135017    -0.027169     0.126785    -0.048373   \n4          -0.084131    -0.135017    -0.027169     0.126785    -0.048373   \n...              ...          ...          ...          ...          ...   \n1642624     0.016073    -0.009947     0.072370     0.093525     0.009080   \n1642625    -0.030602    -0.060807    -0.012000     0.086548    -0.060591   \n1642626    -0.173276    -0.096090    -0.082795     0.003398    -0.057788   \n1642627    -0.075195     0.017919    -0.000670     0.093677    -0.044708   \n1642628     0.150206    -0.013433     0.020914    -0.054650    -0.012314   \n\n         embedding_5  embedding_6  embedding_7  embedding_8  embedding_9  ...  \\\n0           0.142150    -0.093372    -0.026572     0.046552     0.027481  ...   \n1           0.142150    -0.093372    -0.026572     0.046552     0.027481  ...   \n2           0.142150    -0.093372    -0.026572     0.046552     0.027481  ...   \n3           0.142150    -0.093372    -0.026572     0.046552     0.027481  ...   \n4           0.142150    -0.093372    -0.026572     0.046552     0.027481  ...   \n...              ...          ...          ...          ...          ...  ...   \n1642624     0.043492     0.104642    -0.039351     0.098622    -0.133626  ...   \n1642625     0.090695    -0.051963    -0.066162     0.191461    -0.043750  ...   \n1642626     0.002602    -0.049343    -0.020483    -0.017495     0.007402  ...   \n1642627     0.089368    -0.086658    -0.066866     0.041329     0.064010  ...   \n1642628    -0.058271     0.057465     0.012595     0.082603    -0.060455  ...   \n\n         embedding_40  embedding_41  embedding_42  embedding_43  embedding_44  \\\n0            0.029163     -0.001956      0.003781      0.047525     -0.060765   \n1            0.029163     -0.001956      0.003781      0.047525     -0.060765   \n2            0.029163     -0.001956      0.003781      0.047525     -0.060765   \n3            0.029163     -0.001956      0.003781      0.047525     -0.060765   \n4            0.029163     -0.001956      0.003781      0.047525     -0.060765   \n...               ...           ...           ...           ...           ...   \n1642624      0.118118      0.057376     -0.035181      0.048378     -0.020099   \n1642625      0.024963      0.031688     -0.099188     -0.001682      0.001445   \n1642626     -0.061991      0.088766      0.000062     -0.037552     -0.103478   \n1642627      0.025358      0.013077     -0.021526      0.016746      0.015993   \n1642628     -0.032747      0.037987     -0.031489      0.013592     -0.046220   \n\n         embedding_45  embedding_46  embedding_47  embedding_48  embedding_49  \n0            0.023092      0.051529     -0.021981      0.064804      0.031139  \n1            0.023092      0.051529     -0.021981      0.064804      0.031139  \n2            0.023092      0.051529     -0.021981      0.064804      0.031139  \n3            0.023092      0.051529     -0.021981      0.064804      0.031139  \n4            0.023092      0.051529     -0.021981      0.064804      0.031139  \n...               ...           ...           ...           ...           ...  \n1642624     -0.081942      0.002037     -0.019320     -0.050048     -0.051197  \n1642625      0.034288     -0.087493     -0.042572     -0.073339     -0.016558  \n1642626      0.017357     -0.012888     -0.088315     -0.025194     -0.108631  \n1642627      0.017811      0.005215     -0.028595      0.026351      0.016843  \n1642628     -0.013018     -0.072920     -0.031951      0.078627     -0.041659  \n\n[1642629 rows x 50 columns]",
      "text/html": "<div>\n<style scoped>\n    .dataframe tbody tr th:only-of-type {\n        vertical-align: middle;\n    }\n\n    .dataframe tbody tr th {\n        vertical-align: top;\n    }\n\n    .dataframe thead th {\n        text-align: right;\n    }\n</style>\n<table border=\"1\" class=\"dataframe\">\n  <thead>\n    <tr style=\"text-align: right;\">\n      <th></th>\n      <th>embedding_0</th>\n      <th>embedding_1</th>\n      <th>embedding_2</th>\n      <th>embedding_3</th>\n      <th>embedding_4</th>\n      <th>embedding_5</th>\n      <th>embedding_6</th>\n      <th>embedding_7</th>\n      <th>embedding_8</th>\n      <th>embedding_9</th>\n      <th>...</th>\n      <th>embedding_40</th>\n      <th>embedding_41</th>\n      <th>embedding_42</th>\n      <th>embedding_43</th>\n      <th>embedding_44</th>\n      <th>embedding_45</th>\n      <th>embedding_46</th>\n      <th>embedding_47</th>\n      <th>embedding_48</th>\n      <th>embedding_49</th>\n    </tr>\n  </thead>\n  <tbody>\n    <tr>\n      <th>0</th>\n      <td>-0.084131</td>\n      <td>-0.135017</td>\n      <td>-0.027169</td>\n      <td>0.126785</td>\n      <td>-0.048373</td>\n      <td>0.142150</td>\n      <td>-0.093372</td>\n      <td>-0.026572</td>\n      <td>0.046552</td>\n      <td>0.027481</td>\n      <td>...</td>\n      <td>0.029163</td>\n      <td>-0.001956</td>\n      <td>0.003781</td>\n      <td>0.047525</td>\n      <td>-0.060765</td>\n      <td>0.023092</td>\n      <td>0.051529</td>\n      <td>-0.021981</td>\n      <td>0.064804</td>\n      <td>0.031139</td>\n    </tr>\n    <tr>\n      <th>1</th>\n      <td>-0.084131</td>\n      <td>-0.135017</td>\n      <td>-0.027169</td>\n      <td>0.126785</td>\n      <td>-0.048373</td>\n      <td>0.142150</td>\n      <td>-0.093372</td>\n      <td>-0.026572</td>\n      <td>0.046552</td>\n      <td>0.027481</td>\n      <td>...</td>\n      <td>0.029163</td>\n      <td>-0.001956</td>\n      <td>0.003781</td>\n      <td>0.047525</td>\n      <td>-0.060765</td>\n      <td>0.023092</td>\n      <td>0.051529</td>\n      <td>-0.021981</td>\n      <td>0.064804</td>\n      <td>0.031139</td>\n    </tr>\n    <tr>\n      <th>2</th>\n      <td>-0.084131</td>\n      <td>-0.135017</td>\n      <td>-0.027169</td>\n      <td>0.126785</td>\n      <td>-0.048373</td>\n      <td>0.142150</td>\n      <td>-0.093372</td>\n      <td>-0.026572</td>\n      <td>0.046552</td>\n      <td>0.027481</td>\n      <td>...</td>\n      <td>0.029163</td>\n      <td>-0.001956</td>\n      <td>0.003781</td>\n      <td>0.047525</td>\n      <td>-0.060765</td>\n      <td>0.023092</td>\n      <td>0.051529</td>\n      <td>-0.021981</td>\n      <td>0.064804</td>\n      <td>0.031139</td>\n    </tr>\n    <tr>\n      <th>3</th>\n      <td>-0.084131</td>\n      <td>-0.135017</td>\n      <td>-0.027169</td>\n      <td>0.126785</td>\n      <td>-0.048373</td>\n      <td>0.142150</td>\n      <td>-0.093372</td>\n      <td>-0.026572</td>\n      <td>0.046552</td>\n      <td>0.027481</td>\n      <td>...</td>\n      <td>0.029163</td>\n      <td>-0.001956</td>\n      <td>0.003781</td>\n      <td>0.047525</td>\n      <td>-0.060765</td>\n      <td>0.023092</td>\n      <td>0.051529</td>\n      <td>-0.021981</td>\n      <td>0.064804</td>\n      <td>0.031139</td>\n    </tr>\n    <tr>\n      <th>4</th>\n      <td>-0.084131</td>\n      <td>-0.135017</td>\n      <td>-0.027169</td>\n      <td>0.126785</td>\n      <td>-0.048373</td>\n      <td>0.142150</td>\n      <td>-0.093372</td>\n      <td>-0.026572</td>\n      <td>0.046552</td>\n      <td>0.027481</td>\n      <td>...</td>\n      <td>0.029163</td>\n      <td>-0.001956</td>\n      <td>0.003781</td>\n      <td>0.047525</td>\n      <td>-0.060765</td>\n      <td>0.023092</td>\n      <td>0.051529</td>\n      <td>-0.021981</td>\n      <td>0.064804</td>\n      <td>0.031139</td>\n    </tr>\n    <tr>\n      <th>...</th>\n      <td>...</td>\n      <td>...</td>\n      <td>...</td>\n      <td>...</td>\n      <td>...</td>\n      <td>...</td>\n      <td>...</td>\n      <td>...</td>\n      <td>...</td>\n      <td>...</td>\n      <td>...</td>\n      <td>...</td>\n      <td>...</td>\n      <td>...</td>\n      <td>...</td>\n      <td>...</td>\n      <td>...</td>\n      <td>...</td>\n      <td>...</td>\n      <td>...</td>\n      <td>...</td>\n    </tr>\n    <tr>\n      <th>1642624</th>\n      <td>0.016073</td>\n      <td>-0.009947</td>\n      <td>0.072370</td>\n      <td>0.093525</td>\n      <td>0.009080</td>\n      <td>0.043492</td>\n      <td>0.104642</td>\n      <td>-0.039351</td>\n      <td>0.098622</td>\n      <td>-0.133626</td>\n      <td>...</td>\n      <td>0.118118</td>\n      <td>0.057376</td>\n      <td>-0.035181</td>\n      <td>0.048378</td>\n      <td>-0.020099</td>\n      <td>-0.081942</td>\n      <td>0.002037</td>\n      <td>-0.019320</td>\n      <td>-0.050048</td>\n      <td>-0.051197</td>\n    </tr>\n    <tr>\n      <th>1642625</th>\n      <td>-0.030602</td>\n      <td>-0.060807</td>\n      <td>-0.012000</td>\n      <td>0.086548</td>\n      <td>-0.060591</td>\n      <td>0.090695</td>\n      <td>-0.051963</td>\n      <td>-0.066162</td>\n      <td>0.191461</td>\n      <td>-0.043750</td>\n      <td>...</td>\n      <td>0.024963</td>\n      <td>0.031688</td>\n      <td>-0.099188</td>\n      <td>-0.001682</td>\n      <td>0.001445</td>\n      <td>0.034288</td>\n      <td>-0.087493</td>\n      <td>-0.042572</td>\n      <td>-0.073339</td>\n      <td>-0.016558</td>\n    </tr>\n    <tr>\n      <th>1642626</th>\n      <td>-0.173276</td>\n      <td>-0.096090</td>\n      <td>-0.082795</td>\n      <td>0.003398</td>\n      <td>-0.057788</td>\n      <td>0.002602</td>\n      <td>-0.049343</td>\n      <td>-0.020483</td>\n      <td>-0.017495</td>\n      <td>0.007402</td>\n      <td>...</td>\n      <td>-0.061991</td>\n      <td>0.088766</td>\n      <td>0.000062</td>\n      <td>-0.037552</td>\n      <td>-0.103478</td>\n      <td>0.017357</td>\n      <td>-0.012888</td>\n      <td>-0.088315</td>\n      <td>-0.025194</td>\n      <td>-0.108631</td>\n    </tr>\n    <tr>\n      <th>1642627</th>\n      <td>-0.075195</td>\n      <td>0.017919</td>\n      <td>-0.000670</td>\n      <td>0.093677</td>\n      <td>-0.044708</td>\n      <td>0.089368</td>\n      <td>-0.086658</td>\n      <td>-0.066866</td>\n      <td>0.041329</td>\n      <td>0.064010</td>\n      <td>...</td>\n      <td>0.025358</td>\n      <td>0.013077</td>\n      <td>-0.021526</td>\n      <td>0.016746</td>\n      <td>0.015993</td>\n      <td>0.017811</td>\n      <td>0.005215</td>\n      <td>-0.028595</td>\n      <td>0.026351</td>\n      <td>0.016843</td>\n    </tr>\n    <tr>\n      <th>1642628</th>\n      <td>0.150206</td>\n      <td>-0.013433</td>\n      <td>0.020914</td>\n      <td>-0.054650</td>\n      <td>-0.012314</td>\n      <td>-0.058271</td>\n      <td>0.057465</td>\n      <td>0.012595</td>\n      <td>0.082603</td>\n      <td>-0.060455</td>\n      <td>...</td>\n      <td>-0.032747</td>\n      <td>0.037987</td>\n      <td>-0.031489</td>\n      <td>0.013592</td>\n      <td>-0.046220</td>\n      <td>-0.013018</td>\n      <td>-0.072920</td>\n      <td>-0.031951</td>\n      <td>0.078627</td>\n      <td>-0.041659</td>\n    </tr>\n  </tbody>\n</table>\n<p>1642629 rows × 50 columns</p>\n</div>"
     },
     "execution_count": 101,
     "metadata": {},
     "output_type": "execute_result"
    }
   ],
   "source": [
    "df_emb"
   ],
   "metadata": {
    "collapsed": false,
    "ExecuteTime": {
     "end_time": "2024-09-07T15:11:41.515220500Z",
     "start_time": "2024-09-07T15:11:41.316965400Z"
    }
   },
   "id": "6129d8af64cbd999"
  },
  {
   "cell_type": "code",
   "execution_count": 105,
   "outputs": [
    {
     "data": {
      "text/plain": "50"
     },
     "execution_count": 105,
     "metadata": {},
     "output_type": "execute_result"
    }
   ],
   "source": [
    "df_emb.shape[1]"
   ],
   "metadata": {
    "collapsed": false,
    "ExecuteTime": {
     "end_time": "2024-09-07T15:25:21.404495400Z",
     "start_time": "2024-09-07T15:25:21.398961300Z"
    }
   },
   "id": "a82b10c136ab792"
  },
  {
   "cell_type": "code",
   "execution_count": 100,
   "outputs": [],
   "source": [
    "df_emb.to_csv(\"emb_data\")"
   ],
   "metadata": {
    "collapsed": false,
    "ExecuteTime": {
     "end_time": "2024-09-07T15:11:41.310964Z",
     "start_time": "2024-09-07T15:10:49.422370300Z"
    }
   },
   "id": "d5cbb67b26f8cda2"
  },
  {
   "cell_type": "code",
   "execution_count": 46,
   "outputs": [
    {
     "data": {
      "text/plain": "         region_code_scaled  embedding_0  embedding_1  embedding_2  \\\n0                 -1.086016    -0.084131    -0.135017    -0.027169   \n1                 -1.567091    -0.084131    -0.135017    -0.027169   \n2                  0.397299    -0.084131    -0.135017    -0.027169   \n3                  1.118912    -0.084131    -0.135017    -0.027169   \n4                  1.038732    -0.084131    -0.135017    -0.027169   \n...                     ...          ...          ...          ...   \n1642624            1.439628     0.016073    -0.009947     0.072370   \n1642625            1.118912    -0.030602    -0.060807    -0.012000   \n1642626            0.878374    -0.173276    -0.096090    -0.082795   \n1642627           -1.607180    -0.075195     0.017919    -0.000670   \n1642628           -1.045926     0.150206    -0.013433     0.020914   \n\n         embedding_3  embedding_4  embedding_5  embedding_6  embedding_7  \\\n0           0.126785    -0.048373     0.142150    -0.093372    -0.026572   \n1           0.126785    -0.048373     0.142150    -0.093372    -0.026572   \n2           0.126785    -0.048373     0.142150    -0.093372    -0.026572   \n3           0.126785    -0.048373     0.142150    -0.093372    -0.026572   \n4           0.126785    -0.048373     0.142150    -0.093372    -0.026572   \n...              ...          ...          ...          ...          ...   \n1642624     0.093525     0.009080     0.043492     0.104642    -0.039351   \n1642625     0.086548    -0.060591     0.090695    -0.051963    -0.066162   \n1642626     0.003398    -0.057788     0.002602    -0.049343    -0.020483   \n1642627     0.093677    -0.044708     0.089368    -0.086658    -0.066866   \n1642628    -0.054650    -0.012314    -0.058271     0.057465     0.012595   \n\n         embedding_8  ...  embedding_40  embedding_41  embedding_42  \\\n0           0.046552  ...      0.029163     -0.001956      0.003781   \n1           0.046552  ...      0.029163     -0.001956      0.003781   \n2           0.046552  ...      0.029163     -0.001956      0.003781   \n3           0.046552  ...      0.029163     -0.001956      0.003781   \n4           0.046552  ...      0.029163     -0.001956      0.003781   \n...              ...  ...           ...           ...           ...   \n1642624     0.098622  ...      0.118118      0.057376     -0.035181   \n1642625     0.191461  ...      0.024963      0.031688     -0.099188   \n1642626    -0.017495  ...     -0.061991      0.088766      0.000062   \n1642627     0.041329  ...      0.025358      0.013077     -0.021526   \n1642628     0.082603  ...     -0.032747      0.037987     -0.031489   \n\n         embedding_43  embedding_44  embedding_45  embedding_46  embedding_47  \\\n0            0.047525     -0.060765      0.023092      0.051529     -0.021981   \n1            0.047525     -0.060765      0.023092      0.051529     -0.021981   \n2            0.047525     -0.060765      0.023092      0.051529     -0.021981   \n3            0.047525     -0.060765      0.023092      0.051529     -0.021981   \n4            0.047525     -0.060765      0.023092      0.051529     -0.021981   \n...               ...           ...           ...           ...           ...   \n1642624      0.048378     -0.020099     -0.081942      0.002037     -0.019320   \n1642625     -0.001682      0.001445      0.034288     -0.087493     -0.042572   \n1642626     -0.037552     -0.103478      0.017357     -0.012888     -0.088315   \n1642627      0.016746      0.015993      0.017811      0.005215     -0.028595   \n1642628      0.013592     -0.046220     -0.013018     -0.072920     -0.031951   \n\n         embedding_48  embedding_49  \n0            0.064804      0.031139  \n1            0.064804      0.031139  \n2            0.064804      0.031139  \n3            0.064804      0.031139  \n4            0.064804      0.031139  \n...               ...           ...  \n1642624     -0.050048     -0.051197  \n1642625     -0.073339     -0.016558  \n1642626     -0.025194     -0.108631  \n1642627      0.026351      0.016843  \n1642628      0.078627     -0.041659  \n\n[1642629 rows x 51 columns]",
      "text/html": "<div>\n<style scoped>\n    .dataframe tbody tr th:only-of-type {\n        vertical-align: middle;\n    }\n\n    .dataframe tbody tr th {\n        vertical-align: top;\n    }\n\n    .dataframe thead th {\n        text-align: right;\n    }\n</style>\n<table border=\"1\" class=\"dataframe\">\n  <thead>\n    <tr style=\"text-align: right;\">\n      <th></th>\n      <th>region_code_scaled</th>\n      <th>embedding_0</th>\n      <th>embedding_1</th>\n      <th>embedding_2</th>\n      <th>embedding_3</th>\n      <th>embedding_4</th>\n      <th>embedding_5</th>\n      <th>embedding_6</th>\n      <th>embedding_7</th>\n      <th>embedding_8</th>\n      <th>...</th>\n      <th>embedding_40</th>\n      <th>embedding_41</th>\n      <th>embedding_42</th>\n      <th>embedding_43</th>\n      <th>embedding_44</th>\n      <th>embedding_45</th>\n      <th>embedding_46</th>\n      <th>embedding_47</th>\n      <th>embedding_48</th>\n      <th>embedding_49</th>\n    </tr>\n  </thead>\n  <tbody>\n    <tr>\n      <th>0</th>\n      <td>-1.086016</td>\n      <td>-0.084131</td>\n      <td>-0.135017</td>\n      <td>-0.027169</td>\n      <td>0.126785</td>\n      <td>-0.048373</td>\n      <td>0.142150</td>\n      <td>-0.093372</td>\n      <td>-0.026572</td>\n      <td>0.046552</td>\n      <td>...</td>\n      <td>0.029163</td>\n      <td>-0.001956</td>\n      <td>0.003781</td>\n      <td>0.047525</td>\n      <td>-0.060765</td>\n      <td>0.023092</td>\n      <td>0.051529</td>\n      <td>-0.021981</td>\n      <td>0.064804</td>\n      <td>0.031139</td>\n    </tr>\n    <tr>\n      <th>1</th>\n      <td>-1.567091</td>\n      <td>-0.084131</td>\n      <td>-0.135017</td>\n      <td>-0.027169</td>\n      <td>0.126785</td>\n      <td>-0.048373</td>\n      <td>0.142150</td>\n      <td>-0.093372</td>\n      <td>-0.026572</td>\n      <td>0.046552</td>\n      <td>...</td>\n      <td>0.029163</td>\n      <td>-0.001956</td>\n      <td>0.003781</td>\n      <td>0.047525</td>\n      <td>-0.060765</td>\n      <td>0.023092</td>\n      <td>0.051529</td>\n      <td>-0.021981</td>\n      <td>0.064804</td>\n      <td>0.031139</td>\n    </tr>\n    <tr>\n      <th>2</th>\n      <td>0.397299</td>\n      <td>-0.084131</td>\n      <td>-0.135017</td>\n      <td>-0.027169</td>\n      <td>0.126785</td>\n      <td>-0.048373</td>\n      <td>0.142150</td>\n      <td>-0.093372</td>\n      <td>-0.026572</td>\n      <td>0.046552</td>\n      <td>...</td>\n      <td>0.029163</td>\n      <td>-0.001956</td>\n      <td>0.003781</td>\n      <td>0.047525</td>\n      <td>-0.060765</td>\n      <td>0.023092</td>\n      <td>0.051529</td>\n      <td>-0.021981</td>\n      <td>0.064804</td>\n      <td>0.031139</td>\n    </tr>\n    <tr>\n      <th>3</th>\n      <td>1.118912</td>\n      <td>-0.084131</td>\n      <td>-0.135017</td>\n      <td>-0.027169</td>\n      <td>0.126785</td>\n      <td>-0.048373</td>\n      <td>0.142150</td>\n      <td>-0.093372</td>\n      <td>-0.026572</td>\n      <td>0.046552</td>\n      <td>...</td>\n      <td>0.029163</td>\n      <td>-0.001956</td>\n      <td>0.003781</td>\n      <td>0.047525</td>\n      <td>-0.060765</td>\n      <td>0.023092</td>\n      <td>0.051529</td>\n      <td>-0.021981</td>\n      <td>0.064804</td>\n      <td>0.031139</td>\n    </tr>\n    <tr>\n      <th>4</th>\n      <td>1.038732</td>\n      <td>-0.084131</td>\n      <td>-0.135017</td>\n      <td>-0.027169</td>\n      <td>0.126785</td>\n      <td>-0.048373</td>\n      <td>0.142150</td>\n      <td>-0.093372</td>\n      <td>-0.026572</td>\n      <td>0.046552</td>\n      <td>...</td>\n      <td>0.029163</td>\n      <td>-0.001956</td>\n      <td>0.003781</td>\n      <td>0.047525</td>\n      <td>-0.060765</td>\n      <td>0.023092</td>\n      <td>0.051529</td>\n      <td>-0.021981</td>\n      <td>0.064804</td>\n      <td>0.031139</td>\n    </tr>\n    <tr>\n      <th>...</th>\n      <td>...</td>\n      <td>...</td>\n      <td>...</td>\n      <td>...</td>\n      <td>...</td>\n      <td>...</td>\n      <td>...</td>\n      <td>...</td>\n      <td>...</td>\n      <td>...</td>\n      <td>...</td>\n      <td>...</td>\n      <td>...</td>\n      <td>...</td>\n      <td>...</td>\n      <td>...</td>\n      <td>...</td>\n      <td>...</td>\n      <td>...</td>\n      <td>...</td>\n      <td>...</td>\n    </tr>\n    <tr>\n      <th>1642624</th>\n      <td>1.439628</td>\n      <td>0.016073</td>\n      <td>-0.009947</td>\n      <td>0.072370</td>\n      <td>0.093525</td>\n      <td>0.009080</td>\n      <td>0.043492</td>\n      <td>0.104642</td>\n      <td>-0.039351</td>\n      <td>0.098622</td>\n      <td>...</td>\n      <td>0.118118</td>\n      <td>0.057376</td>\n      <td>-0.035181</td>\n      <td>0.048378</td>\n      <td>-0.020099</td>\n      <td>-0.081942</td>\n      <td>0.002037</td>\n      <td>-0.019320</td>\n      <td>-0.050048</td>\n      <td>-0.051197</td>\n    </tr>\n    <tr>\n      <th>1642625</th>\n      <td>1.118912</td>\n      <td>-0.030602</td>\n      <td>-0.060807</td>\n      <td>-0.012000</td>\n      <td>0.086548</td>\n      <td>-0.060591</td>\n      <td>0.090695</td>\n      <td>-0.051963</td>\n      <td>-0.066162</td>\n      <td>0.191461</td>\n      <td>...</td>\n      <td>0.024963</td>\n      <td>0.031688</td>\n      <td>-0.099188</td>\n      <td>-0.001682</td>\n      <td>0.001445</td>\n      <td>0.034288</td>\n      <td>-0.087493</td>\n      <td>-0.042572</td>\n      <td>-0.073339</td>\n      <td>-0.016558</td>\n    </tr>\n    <tr>\n      <th>1642626</th>\n      <td>0.878374</td>\n      <td>-0.173276</td>\n      <td>-0.096090</td>\n      <td>-0.082795</td>\n      <td>0.003398</td>\n      <td>-0.057788</td>\n      <td>0.002602</td>\n      <td>-0.049343</td>\n      <td>-0.020483</td>\n      <td>-0.017495</td>\n      <td>...</td>\n      <td>-0.061991</td>\n      <td>0.088766</td>\n      <td>0.000062</td>\n      <td>-0.037552</td>\n      <td>-0.103478</td>\n      <td>0.017357</td>\n      <td>-0.012888</td>\n      <td>-0.088315</td>\n      <td>-0.025194</td>\n      <td>-0.108631</td>\n    </tr>\n    <tr>\n      <th>1642627</th>\n      <td>-1.607180</td>\n      <td>-0.075195</td>\n      <td>0.017919</td>\n      <td>-0.000670</td>\n      <td>0.093677</td>\n      <td>-0.044708</td>\n      <td>0.089368</td>\n      <td>-0.086658</td>\n      <td>-0.066866</td>\n      <td>0.041329</td>\n      <td>...</td>\n      <td>0.025358</td>\n      <td>0.013077</td>\n      <td>-0.021526</td>\n      <td>0.016746</td>\n      <td>0.015993</td>\n      <td>0.017811</td>\n      <td>0.005215</td>\n      <td>-0.028595</td>\n      <td>0.026351</td>\n      <td>0.016843</td>\n    </tr>\n    <tr>\n      <th>1642628</th>\n      <td>-1.045926</td>\n      <td>0.150206</td>\n      <td>-0.013433</td>\n      <td>0.020914</td>\n      <td>-0.054650</td>\n      <td>-0.012314</td>\n      <td>-0.058271</td>\n      <td>0.057465</td>\n      <td>0.012595</td>\n      <td>0.082603</td>\n      <td>...</td>\n      <td>-0.032747</td>\n      <td>0.037987</td>\n      <td>-0.031489</td>\n      <td>0.013592</td>\n      <td>-0.046220</td>\n      <td>-0.013018</td>\n      <td>-0.072920</td>\n      <td>-0.031951</td>\n      <td>0.078627</td>\n      <td>-0.041659</td>\n    </tr>\n  </tbody>\n</table>\n<p>1642629 rows × 51 columns</p>\n</div>"
     },
     "execution_count": 46,
     "metadata": {},
     "output_type": "execute_result"
    }
   ],
   "source": [
    "df_combined_scaled"
   ],
   "metadata": {
    "collapsed": false,
    "ExecuteTime": {
     "end_time": "2024-09-07T13:59:14.039685900Z",
     "start_time": "2024-09-07T13:59:13.447741300Z"
    }
   },
   "id": "5d7bb17ea41cc8aa"
  },
  {
   "cell_type": "code",
   "execution_count": 97,
   "outputs": [],
   "source": [
    "df_combined_scaled.to_csv(\"train_data\")"
   ],
   "metadata": {
    "collapsed": false,
    "ExecuteTime": {
     "end_time": "2024-09-07T14:39:51.542636900Z",
     "start_time": "2024-09-07T14:39:00.324918200Z"
    }
   },
   "id": "4f330b1dc59d2ced"
  },
  {
   "cell_type": "code",
   "execution_count": 212,
   "outputs": [
    {
     "ename": "KeyboardInterrupt",
     "evalue": "",
     "output_type": "error",
     "traceback": [
      "\u001B[1;31m---------------------------------------------------------------------------\u001B[0m",
      "\u001B[1;31mKeyboardInterrupt\u001B[0m                         Traceback (most recent call last)",
      "Cell \u001B[1;32mIn[212], line 2\u001B[0m\n\u001B[0;32m      1\u001B[0m knn \u001B[38;5;241m=\u001B[39m NearestNeighbors(n_neighbors\u001B[38;5;241m=\u001B[39m\u001B[38;5;241m12\u001B[39m, algorithm\u001B[38;5;241m=\u001B[39m\u001B[38;5;124m'\u001B[39m\u001B[38;5;124mauto\u001B[39m\u001B[38;5;124m'\u001B[39m)\n\u001B[1;32m----> 2\u001B[0m knn\u001B[38;5;241m.\u001B[39mfit(df_combined_scaled)\n",
      "File \u001B[1;32m~\\anaconda3\\Lib\\site-packages\\sklearn\\neighbors\\_unsupervised.py:176\u001B[0m, in \u001B[0;36mNearestNeighbors.fit\u001B[1;34m(self, X, y)\u001B[0m\n\u001B[0;32m    159\u001B[0m \u001B[38;5;250m\u001B[39m\u001B[38;5;124;03m\"\"\"Fit the nearest neighbors estimator from the training dataset.\u001B[39;00m\n\u001B[0;32m    160\u001B[0m \n\u001B[0;32m    161\u001B[0m \u001B[38;5;124;03mParameters\u001B[39;00m\n\u001B[1;32m   (...)\u001B[0m\n\u001B[0;32m    173\u001B[0m \u001B[38;5;124;03m    The fitted nearest neighbors estimator.\u001B[39;00m\n\u001B[0;32m    174\u001B[0m \u001B[38;5;124;03m\"\"\"\u001B[39;00m\n\u001B[0;32m    175\u001B[0m \u001B[38;5;28mself\u001B[39m\u001B[38;5;241m.\u001B[39m_validate_params()\n\u001B[1;32m--> 176\u001B[0m \u001B[38;5;28;01mreturn\u001B[39;00m \u001B[38;5;28mself\u001B[39m\u001B[38;5;241m.\u001B[39m_fit(X)\n",
      "File \u001B[1;32m~\\anaconda3\\Lib\\site-packages\\sklearn\\neighbors\\_base.py:491\u001B[0m, in \u001B[0;36mNeighborsBase._fit\u001B[1;34m(self, X, y)\u001B[0m\n\u001B[0;32m    489\u001B[0m \u001B[38;5;28;01melse\u001B[39;00m:\n\u001B[0;32m    490\u001B[0m     \u001B[38;5;28;01mif\u001B[39;00m \u001B[38;5;129;01mnot\u001B[39;00m \u001B[38;5;28misinstance\u001B[39m(X, (KDTree, BallTree, NeighborsBase)):\n\u001B[1;32m--> 491\u001B[0m         X \u001B[38;5;241m=\u001B[39m \u001B[38;5;28mself\u001B[39m\u001B[38;5;241m.\u001B[39m_validate_data(X, accept_sparse\u001B[38;5;241m=\u001B[39m\u001B[38;5;124m\"\u001B[39m\u001B[38;5;124mcsr\u001B[39m\u001B[38;5;124m\"\u001B[39m, order\u001B[38;5;241m=\u001B[39m\u001B[38;5;124m\"\u001B[39m\u001B[38;5;124mC\u001B[39m\u001B[38;5;124m\"\u001B[39m)\n\u001B[0;32m    493\u001B[0m \u001B[38;5;28mself\u001B[39m\u001B[38;5;241m.\u001B[39m_check_algorithm_metric()\n\u001B[0;32m    494\u001B[0m \u001B[38;5;28;01mif\u001B[39;00m \u001B[38;5;28mself\u001B[39m\u001B[38;5;241m.\u001B[39mmetric_params \u001B[38;5;129;01mis\u001B[39;00m \u001B[38;5;28;01mNone\u001B[39;00m:\n",
      "File \u001B[1;32m~\\anaconda3\\Lib\\site-packages\\sklearn\\base.py:565\u001B[0m, in \u001B[0;36mBaseEstimator._validate_data\u001B[1;34m(self, X, y, reset, validate_separately, **check_params)\u001B[0m\n\u001B[0;32m    563\u001B[0m     \u001B[38;5;28;01mraise\u001B[39;00m \u001B[38;5;167;01mValueError\u001B[39;00m(\u001B[38;5;124m\"\u001B[39m\u001B[38;5;124mValidation should be done on X, y or both.\u001B[39m\u001B[38;5;124m\"\u001B[39m)\n\u001B[0;32m    564\u001B[0m \u001B[38;5;28;01melif\u001B[39;00m \u001B[38;5;129;01mnot\u001B[39;00m no_val_X \u001B[38;5;129;01mand\u001B[39;00m no_val_y:\n\u001B[1;32m--> 565\u001B[0m     X \u001B[38;5;241m=\u001B[39m check_array(X, input_name\u001B[38;5;241m=\u001B[39m\u001B[38;5;124m\"\u001B[39m\u001B[38;5;124mX\u001B[39m\u001B[38;5;124m\"\u001B[39m, \u001B[38;5;241m*\u001B[39m\u001B[38;5;241m*\u001B[39mcheck_params)\n\u001B[0;32m    566\u001B[0m     out \u001B[38;5;241m=\u001B[39m X\n\u001B[0;32m    567\u001B[0m \u001B[38;5;28;01melif\u001B[39;00m no_val_X \u001B[38;5;129;01mand\u001B[39;00m \u001B[38;5;129;01mnot\u001B[39;00m no_val_y:\n",
      "File \u001B[1;32m~\\anaconda3\\Lib\\site-packages\\sklearn\\utils\\validation.py:879\u001B[0m, in \u001B[0;36mcheck_array\u001B[1;34m(array, accept_sparse, accept_large_sparse, dtype, order, copy, force_all_finite, ensure_2d, allow_nd, ensure_min_samples, ensure_min_features, estimator, input_name)\u001B[0m\n\u001B[0;32m    877\u001B[0m         array \u001B[38;5;241m=\u001B[39m xp\u001B[38;5;241m.\u001B[39mastype(array, dtype, copy\u001B[38;5;241m=\u001B[39m\u001B[38;5;28;01mFalse\u001B[39;00m)\n\u001B[0;32m    878\u001B[0m     \u001B[38;5;28;01melse\u001B[39;00m:\n\u001B[1;32m--> 879\u001B[0m         array \u001B[38;5;241m=\u001B[39m _asarray_with_order(array, order\u001B[38;5;241m=\u001B[39morder, dtype\u001B[38;5;241m=\u001B[39mdtype, xp\u001B[38;5;241m=\u001B[39mxp)\n\u001B[0;32m    880\u001B[0m \u001B[38;5;28;01mexcept\u001B[39;00m ComplexWarning \u001B[38;5;28;01mas\u001B[39;00m complex_warning:\n\u001B[0;32m    881\u001B[0m     \u001B[38;5;28;01mraise\u001B[39;00m \u001B[38;5;167;01mValueError\u001B[39;00m(\n\u001B[0;32m    882\u001B[0m         \u001B[38;5;124m\"\u001B[39m\u001B[38;5;124mComplex data not supported\u001B[39m\u001B[38;5;130;01m\\n\u001B[39;00m\u001B[38;5;132;01m{}\u001B[39;00m\u001B[38;5;130;01m\\n\u001B[39;00m\u001B[38;5;124m\"\u001B[39m\u001B[38;5;241m.\u001B[39mformat(array)\n\u001B[0;32m    883\u001B[0m     ) \u001B[38;5;28;01mfrom\u001B[39;00m \u001B[38;5;21;01mcomplex_warning\u001B[39;00m\n",
      "File \u001B[1;32m~\\anaconda3\\Lib\\site-packages\\sklearn\\utils\\_array_api.py:185\u001B[0m, in \u001B[0;36m_asarray_with_order\u001B[1;34m(array, dtype, order, copy, xp)\u001B[0m\n\u001B[0;32m    182\u001B[0m     xp, _ \u001B[38;5;241m=\u001B[39m get_namespace(array)\n\u001B[0;32m    183\u001B[0m \u001B[38;5;28;01mif\u001B[39;00m xp\u001B[38;5;241m.\u001B[39m\u001B[38;5;18m__name__\u001B[39m \u001B[38;5;129;01min\u001B[39;00m {\u001B[38;5;124m\"\u001B[39m\u001B[38;5;124mnumpy\u001B[39m\u001B[38;5;124m\"\u001B[39m, \u001B[38;5;124m\"\u001B[39m\u001B[38;5;124mnumpy.array_api\u001B[39m\u001B[38;5;124m\"\u001B[39m}:\n\u001B[0;32m    184\u001B[0m     \u001B[38;5;66;03m# Use NumPy API to support order\u001B[39;00m\n\u001B[1;32m--> 185\u001B[0m     array \u001B[38;5;241m=\u001B[39m numpy\u001B[38;5;241m.\u001B[39masarray(array, order\u001B[38;5;241m=\u001B[39morder, dtype\u001B[38;5;241m=\u001B[39mdtype)\n\u001B[0;32m    186\u001B[0m     \u001B[38;5;28;01mreturn\u001B[39;00m xp\u001B[38;5;241m.\u001B[39masarray(array, copy\u001B[38;5;241m=\u001B[39mcopy)\n\u001B[0;32m    187\u001B[0m \u001B[38;5;28;01melse\u001B[39;00m:\n",
      "File \u001B[1;32m~\\anaconda3\\Lib\\site-packages\\pandas\\core\\generic.py:2083\u001B[0m, in \u001B[0;36mNDFrame.__array__\u001B[1;34m(self, dtype)\u001B[0m\n\u001B[0;32m   2082\u001B[0m \u001B[38;5;28;01mdef\u001B[39;00m \u001B[38;5;21m__array__\u001B[39m(\u001B[38;5;28mself\u001B[39m, dtype: npt\u001B[38;5;241m.\u001B[39mDTypeLike \u001B[38;5;241m|\u001B[39m \u001B[38;5;28;01mNone\u001B[39;00m \u001B[38;5;241m=\u001B[39m \u001B[38;5;28;01mNone\u001B[39;00m) \u001B[38;5;241m-\u001B[39m\u001B[38;5;241m>\u001B[39m np\u001B[38;5;241m.\u001B[39mndarray:\n\u001B[1;32m-> 2083\u001B[0m     values \u001B[38;5;241m=\u001B[39m \u001B[38;5;28mself\u001B[39m\u001B[38;5;241m.\u001B[39m_values\n\u001B[0;32m   2084\u001B[0m     arr \u001B[38;5;241m=\u001B[39m np\u001B[38;5;241m.\u001B[39masarray(values, dtype\u001B[38;5;241m=\u001B[39mdtype)\n\u001B[0;32m   2085\u001B[0m     \u001B[38;5;28;01mif\u001B[39;00m (\n\u001B[0;32m   2086\u001B[0m         astype_is_view(values\u001B[38;5;241m.\u001B[39mdtype, arr\u001B[38;5;241m.\u001B[39mdtype)\n\u001B[0;32m   2087\u001B[0m         \u001B[38;5;129;01mand\u001B[39;00m using_copy_on_write()\n\u001B[0;32m   2088\u001B[0m         \u001B[38;5;129;01mand\u001B[39;00m \u001B[38;5;28mself\u001B[39m\u001B[38;5;241m.\u001B[39m_mgr\u001B[38;5;241m.\u001B[39mis_single_block\n\u001B[0;32m   2089\u001B[0m     ):\n\u001B[0;32m   2090\u001B[0m         \u001B[38;5;66;03m# Check if both conversions can be done without a copy\u001B[39;00m\n",
      "File \u001B[1;32m~\\anaconda3\\Lib\\site-packages\\pandas\\core\\frame.py:1046\u001B[0m, in \u001B[0;36mDataFrame._values\u001B[1;34m(self)\u001B[0m\n\u001B[0;32m   1044\u001B[0m blocks \u001B[38;5;241m=\u001B[39m mgr\u001B[38;5;241m.\u001B[39mblocks\n\u001B[0;32m   1045\u001B[0m \u001B[38;5;28;01mif\u001B[39;00m \u001B[38;5;28mlen\u001B[39m(blocks) \u001B[38;5;241m!=\u001B[39m \u001B[38;5;241m1\u001B[39m:\n\u001B[1;32m-> 1046\u001B[0m     \u001B[38;5;28;01mreturn\u001B[39;00m ensure_wrapped_if_datetimelike(\u001B[38;5;28mself\u001B[39m\u001B[38;5;241m.\u001B[39mvalues)\n\u001B[0;32m   1048\u001B[0m arr \u001B[38;5;241m=\u001B[39m blocks[\u001B[38;5;241m0\u001B[39m]\u001B[38;5;241m.\u001B[39mvalues\n\u001B[0;32m   1049\u001B[0m \u001B[38;5;28;01mif\u001B[39;00m arr\u001B[38;5;241m.\u001B[39mndim \u001B[38;5;241m==\u001B[39m \u001B[38;5;241m1\u001B[39m:\n\u001B[0;32m   1050\u001B[0m     \u001B[38;5;66;03m# non-2D ExtensionArray\u001B[39;00m\n",
      "File \u001B[1;32m~\\anaconda3\\Lib\\site-packages\\pandas\\core\\frame.py:12281\u001B[0m, in \u001B[0;36mDataFrame.values\u001B[1;34m(self)\u001B[0m\n\u001B[0;32m  12207\u001B[0m \u001B[38;5;129m@property\u001B[39m\n\u001B[0;32m  12208\u001B[0m \u001B[38;5;28;01mdef\u001B[39;00m \u001B[38;5;21mvalues\u001B[39m(\u001B[38;5;28mself\u001B[39m) \u001B[38;5;241m-\u001B[39m\u001B[38;5;241m>\u001B[39m np\u001B[38;5;241m.\u001B[39mndarray:\n\u001B[0;32m  12209\u001B[0m \u001B[38;5;250m    \u001B[39m\u001B[38;5;124;03m\"\"\"\u001B[39;00m\n\u001B[0;32m  12210\u001B[0m \u001B[38;5;124;03m    Return a Numpy representation of the DataFrame.\u001B[39;00m\n\u001B[0;32m  12211\u001B[0m \n\u001B[1;32m   (...)\u001B[0m\n\u001B[0;32m  12279\u001B[0m \u001B[38;5;124;03m           ['monkey', nan, None]], dtype=object)\u001B[39;00m\n\u001B[0;32m  12280\u001B[0m \u001B[38;5;124;03m    \"\"\"\u001B[39;00m\n\u001B[1;32m> 12281\u001B[0m     \u001B[38;5;28;01mreturn\u001B[39;00m \u001B[38;5;28mself\u001B[39m\u001B[38;5;241m.\u001B[39m_mgr\u001B[38;5;241m.\u001B[39mas_array()\n",
      "File \u001B[1;32m~\\anaconda3\\Lib\\site-packages\\pandas\\core\\internals\\managers.py:1656\u001B[0m, in \u001B[0;36mBlockManager.as_array\u001B[1;34m(self, dtype, copy, na_value)\u001B[0m\n\u001B[0;32m   1654\u001B[0m         arr\u001B[38;5;241m.\u001B[39mflags\u001B[38;5;241m.\u001B[39mwriteable \u001B[38;5;241m=\u001B[39m \u001B[38;5;28;01mFalse\u001B[39;00m\n\u001B[0;32m   1655\u001B[0m \u001B[38;5;28;01melse\u001B[39;00m:\n\u001B[1;32m-> 1656\u001B[0m     arr \u001B[38;5;241m=\u001B[39m \u001B[38;5;28mself\u001B[39m\u001B[38;5;241m.\u001B[39m_interleave(dtype\u001B[38;5;241m=\u001B[39mdtype, na_value\u001B[38;5;241m=\u001B[39mna_value)\n\u001B[0;32m   1657\u001B[0m     \u001B[38;5;66;03m# The underlying data was copied within _interleave, so no need\u001B[39;00m\n\u001B[0;32m   1658\u001B[0m     \u001B[38;5;66;03m# to further copy if copy=True or setting na_value\u001B[39;00m\n\u001B[0;32m   1660\u001B[0m \u001B[38;5;28;01mif\u001B[39;00m na_value \u001B[38;5;129;01mis\u001B[39;00m lib\u001B[38;5;241m.\u001B[39mno_default:\n",
      "File \u001B[1;32m~\\anaconda3\\Lib\\site-packages\\pandas\\core\\internals\\managers.py:1716\u001B[0m, in \u001B[0;36mBlockManager._interleave\u001B[1;34m(self, dtype, na_value)\u001B[0m\n\u001B[0;32m   1714\u001B[0m         arr \u001B[38;5;241m=\u001B[39m blk\u001B[38;5;241m.\u001B[39mget_values(dtype)\n\u001B[0;32m   1715\u001B[0m     result[rl\u001B[38;5;241m.\u001B[39mindexer] \u001B[38;5;241m=\u001B[39m arr\n\u001B[1;32m-> 1716\u001B[0m     itemmask[rl\u001B[38;5;241m.\u001B[39mindexer] \u001B[38;5;241m=\u001B[39m \u001B[38;5;241m1\u001B[39m\n\u001B[0;32m   1718\u001B[0m \u001B[38;5;28;01mif\u001B[39;00m \u001B[38;5;129;01mnot\u001B[39;00m itemmask\u001B[38;5;241m.\u001B[39mall():\n\u001B[0;32m   1719\u001B[0m     \u001B[38;5;28;01mraise\u001B[39;00m \u001B[38;5;167;01mAssertionError\u001B[39;00m(\u001B[38;5;124m\"\u001B[39m\u001B[38;5;124mSome items were not contained in blocks\u001B[39m\u001B[38;5;124m\"\u001B[39m)\n",
      "\u001B[1;31mKeyboardInterrupt\u001B[0m: "
     ]
    }
   ],
   "source": [
    "knn = NearestNeighbors(n_neighbors=12, algorithm='auto')\n",
    "knn.fit(df_combined_scaled)"
   ],
   "metadata": {
    "collapsed": false,
    "ExecuteTime": {
     "end_time": "2024-09-07T17:13:42.954398400Z",
     "start_time": "2024-09-07T17:04:43.657654200Z"
    }
   },
   "id": "22fac3647720f590"
  },
  {
   "cell_type": "code",
   "execution_count": 48,
   "outputs": [],
   "source": [],
   "metadata": {
    "collapsed": false,
    "ExecuteTime": {
     "end_time": "2024-09-07T14:01:41.209153Z",
     "start_time": "2024-09-07T14:01:41.192142600Z"
    }
   },
   "id": "d0ed0632a1f8e6d2"
  },
  {
   "cell_type": "code",
   "execution_count": 142,
   "outputs": [],
   "source": [
    "input_code = \"23.31.10.120\"\n",
    "input_embedding = df_items_unique[df_items_unique[\"okpd2_code\"] == input_code][[f\"embedding_{i}\" for i in range(df_emb.shape[1])]].values"
   ],
   "metadata": {
    "collapsed": false,
    "ExecuteTime": {
     "end_time": "2024-09-07T15:47:15.529417400Z",
     "start_time": "2024-09-07T15:47:15.496624300Z"
    }
   },
   "id": "327c945cf82fc6a7"
  },
  {
   "cell_type": "code",
   "execution_count": 143,
   "outputs": [
    {
     "data": {
      "text/plain": "array([[-2.01385210e-01, -1.01498130e-01,  3.88616420e-03,\n         1.47053760e-01,  1.20114580e-02,  9.64258700e-02,\n        -6.65774300e-02, -1.05749890e-01, -9.18628600e-03,\n         7.12101100e-02, -5.70386950e-02,  4.51884340e-02,\n         3.38557250e-02, -7.04941900e-02,  5.33835000e-02,\n         4.89738550e-02, -2.91873550e-02,  1.13227125e-02,\n         2.29657090e-02,  4.76342700e-02, -6.15244300e-03,\n        -5.09527470e-03,  3.54021820e-02,  4.32469500e-02,\n        -4.30680700e-02, -2.56552100e-02,  1.05078600e-04,\n        -1.19502530e-02, -3.04719280e-02,  4.65327400e-02,\n         6.03536370e-02, -6.52869600e-02,  5.96974100e-02,\n         4.73960900e-03,  4.73902560e-02, -7.08365140e-02,\n        -3.17584570e-02,  4.51608900e-02,  1.11677080e-02,\n         3.64699250e-02, -2.12767160e-03, -2.78802230e-02,\n         2.63814130e-02,  1.73942820e-02, -3.18495370e-02,\n        -3.20193170e-02,  2.06335060e-02, -2.25534300e-02,\n         6.87627800e-02,  5.55680840e-02]])"
     },
     "execution_count": 143,
     "metadata": {},
     "output_type": "execute_result"
    }
   ],
   "source": [
    "input_embedding"
   ],
   "metadata": {
    "collapsed": false,
    "ExecuteTime": {
     "end_time": "2024-09-07T15:47:17.183588600Z",
     "start_time": "2024-09-07T15:47:17.178784700Z"
    }
   },
   "id": "f68838ba3ae39b8d"
  },
  {
   "cell_type": "code",
   "execution_count": 144,
   "outputs": [
    {
     "data": {
      "text/plain": "array([[-2.01385210e-01, -1.01498130e-01,  3.88616420e-03,\n         1.47053760e-01,  1.20114580e-02,  9.64258700e-02,\n        -6.65774300e-02, -1.05749890e-01, -9.18628600e-03,\n         7.12101100e-02, -5.70386950e-02,  4.51884340e-02,\n         3.38557250e-02, -7.04941900e-02,  5.33835000e-02,\n         4.89738550e-02, -2.91873550e-02,  1.13227125e-02,\n         2.29657090e-02,  4.76342700e-02, -6.15244300e-03,\n        -5.09527470e-03,  3.54021820e-02,  4.32469500e-02,\n        -4.30680700e-02, -2.56552100e-02,  1.05078600e-04,\n        -1.19502530e-02, -3.04719280e-02,  4.65327400e-02,\n         6.03536370e-02, -6.52869600e-02,  5.96974100e-02,\n         4.73960900e-03,  4.73902560e-02, -7.08365140e-02,\n        -3.17584570e-02,  4.51608900e-02,  1.11677080e-02,\n         3.64699250e-02, -2.12767160e-03, -2.78802230e-02,\n         2.63814130e-02,  1.73942820e-02, -3.18495370e-02,\n        -3.20193170e-02,  2.06335060e-02, -2.25534300e-02,\n         6.87627800e-02,  5.55680840e-02]])"
     },
     "execution_count": 144,
     "metadata": {},
     "output_type": "execute_result"
    }
   ],
   "source": [
    "input_embedding"
   ],
   "metadata": {
    "collapsed": false,
    "ExecuteTime": {
     "end_time": "2024-09-07T15:47:17.201702100Z",
     "start_time": "2024-09-07T15:47:17.185595500Z"
    }
   },
   "id": "91d90d2ab030f559"
  },
  {
   "cell_type": "code",
   "execution_count": 145,
   "outputs": [
    {
     "name": "stderr",
     "output_type": "stream",
     "text": [
      "C:\\Users\\bratk\\anaconda3\\Lib\\site-packages\\sklearn\\base.py:439: UserWarning: X does not have valid feature names, but StandardScaler was fitted with feature names\n",
      "  warnings.warn(\n"
     ]
    },
    {
     "data": {
      "text/plain": "array([[0.63783654]])"
     },
     "execution_count": 145,
     "metadata": {},
     "output_type": "execute_result"
    }
   ],
   "source": [
    "input_region_code = 66 \n",
    "input_features = scaler.transform([[input_region_code]])\n",
    "input_features"
   ],
   "metadata": {
    "collapsed": false,
    "ExecuteTime": {
     "end_time": "2024-09-07T15:47:18.974599300Z",
     "start_time": "2024-09-07T15:47:18.965812400Z"
    }
   },
   "id": "958e99cb3489cba1"
  },
  {
   "cell_type": "code",
   "execution_count": 146,
   "outputs": [],
   "source": [
    "import numpy as np"
   ],
   "metadata": {
    "collapsed": false,
    "ExecuteTime": {
     "end_time": "2024-09-07T15:47:20.652492500Z",
     "start_time": "2024-09-07T15:47:20.650967500Z"
    }
   },
   "id": "452ab5bee51189ef"
  },
  {
   "cell_type": "code",
   "execution_count": 147,
   "outputs": [],
   "source": [
    "input_data = np.concatenate([input_features, input_embedding], axis=1)"
   ],
   "metadata": {
    "collapsed": false,
    "ExecuteTime": {
     "end_time": "2024-09-07T15:47:22.319629200Z",
     "start_time": "2024-09-07T15:47:22.317113800Z"
    }
   },
   "id": "a434af9fb8d4adcb"
  },
  {
   "cell_type": "code",
   "execution_count": 148,
   "outputs": [
    {
     "name": "stderr",
     "output_type": "stream",
     "text": [
      "C:\\Users\\bratk\\anaconda3\\Lib\\site-packages\\sklearn\\base.py:439: UserWarning: X does not have valid feature names, but NearestNeighbors was fitted with feature names\n",
      "  warnings.warn(\n"
     ]
    },
    {
     "data": {
      "text/plain": "119    Поставщик_116453\n110    Поставщик_116168\n72     Поставщик_106657\n145    Поставщик_124273\n79     Поставщик_108116\nName: supplier, dtype: object"
     },
     "execution_count": 148,
     "metadata": {},
     "output_type": "execute_result"
    }
   ],
   "source": [
    "# 4. Найти ближайших соседей\n",
    "distances, indices = knn.kneighbors(input_data)\n",
    "\n",
    "# 5. Получить поставщиков\n",
    "ranked_suppliers = df_result.iloc[indices[0]]['supplier']\n",
    "\n",
    "ranked_suppliers\n"
   ],
   "metadata": {
    "collapsed": false,
    "ExecuteTime": {
     "end_time": "2024-09-07T15:47:22.409122900Z",
     "start_time": "2024-09-07T15:47:22.321629200Z"
    }
   },
   "id": "b482c88ec674cd4e"
  },
  {
   "cell_type": "code",
   "execution_count": 76,
   "outputs": [
    {
     "name": "stdout",
     "output_type": "stream",
     "text": [
      "Поставщик_116453\n",
      "Поставщик_116168\n",
      "Поставщик_106657\n",
      "Поставщик_124273\n",
      "Поставщик_108116\n"
     ]
    }
   ],
   "source": [
    "for supplier in ranked_suppliers.values:\n",
    "    print(supplier)"
   ],
   "metadata": {
    "collapsed": false,
    "ExecuteTime": {
     "end_time": "2024-09-07T14:18:09.780931900Z",
     "start_time": "2024-09-07T14:18:09.764940700Z"
    }
   },
   "id": "133d48b694b6bca2"
  },
  {
   "cell_type": "code",
   "execution_count": 94,
   "outputs": [],
   "source": [
    "def get_first_category(input_code, input_region_code):\n",
    "    # Фильтруем строки по input_code и input_region_code, затем сортируем по убыванию is_win\n",
    "    result = df_result[(df_result[\"okpd2_code\"] == input_code) & (df_result[\"region_code\"] == input_region_code)]\n",
    "    \n",
    "    # Сортируем по убыванию is_win и выводим столбец supplier\n",
    "    sorted_result = result.sort_values(by=\"win_count\", ascending=False)[\"supplier\"]\n",
    "    \n",
    "    return sorted_result"
   ],
   "metadata": {
    "collapsed": false,
    "ExecuteTime": {
     "start_time": "2024-09-07T14:31:10.082460500Z"
    }
   },
   "id": "441c8eb2a3d3b2df"
  },
  {
   "cell_type": "code",
   "execution_count": 96,
   "outputs": [
    {
     "name": "stdout",
     "output_type": "stream",
     "text": [
      "Приоритет: 1, Поставщик:Поставщик_106657\n",
      "Приоритет: 2, Поставщик:Поставщик_128957\n",
      "Приоритет: 3, Поставщик:Поставщик_136763\n",
      "Приоритет: 4, Поставщик:Поставщик_144790\n",
      "Приоритет: 5, Поставщик:Поставщик_20470\n",
      "Приоритет: 6, Поставщик:Поставщик_108116\n",
      "Приоритет: 7, Поставщик:Поставщик_116453\n",
      "Приоритет: 8, Поставщик:Поставщик_95773\n",
      "Приоритет: 9, Поставщик:Поставщик_97700\n",
      "Приоритет: 10, Поставщик:Поставщик_116168\n",
      "Приоритет: 11, Поставщик:Поставщик_124273\n",
      "Приоритет: 12, Поставщик:Поставщик_126979\n",
      "Приоритет: 13, Поставщик:Поставщик_156253\n",
      "Приоритет: 14, Поставщик:Поставщик_31162\n",
      "Приоритет: 15, Поставщик:Поставщик_75051\n",
      "Приоритет: 16, Поставщик:Поставщик_97272\n"
     ]
    }
   ],
   "source": [
    "for i, supplier in enumerate(get_first_category(input_code, input_region_code)):\n",
    "    print(f\"Приоритет: {i+1}, Поставщик:{supplier}\")"
   ],
   "metadata": {
    "collapsed": false,
    "ExecuteTime": {
     "end_time": "2024-09-07T14:31:23.123643800Z",
     "start_time": "2024-09-07T14:31:23.039995700Z"
    }
   },
   "id": "9574b22b7c0f0577"
  },
  {
   "cell_type": "code",
   "execution_count": 135,
   "outputs": [],
   "source": [
    "def get_first_category(input_region_code, input_code):\n",
    "    # Фильтруем строки по input_code и input_region_code, затем сортируем по убыванию is_win\n",
    "    result = df_result[(df_result[\"okpd2_code\"] == input_code) & (df_result[\"region_code\"] == input_region_code)]\n",
    "\n",
    "    # Сортируем по убыванию is_win и выводим столбец supplier\n",
    "    sorted_result = result.sort_values(by=\"win_count\", ascending=False)[\"supplier\"]\n",
    "\n",
    "    return sorted_result"
   ],
   "metadata": {
    "collapsed": false,
    "ExecuteTime": {
     "end_time": "2024-09-07T15:45:57.716153900Z",
     "start_time": "2024-09-07T15:45:57.693142500Z"
    }
   },
   "id": "e41d4b80ff41f3a6"
  },
  {
   "cell_type": "code",
   "execution_count": 149,
   "outputs": [],
   "source": [
    "def get_second_category(input_region_code, input_code):\n",
    "    input_embedding = df_items_unique[df_items_unique[\"okpd2_code\"] == input_code][\n",
    "        [f\"embedding_{i}\" for i in range(df_emb.shape[1])]].values\n",
    "    input_features = scaler.transform([[input_region_code]])\n",
    "    input_data = np.concatenate([input_features, input_embedding], axis=1)\n",
    "    distances, indices = knn.kneighbors(input_data)\n",
    "\n",
    "    # 5. Получить поставщиков\n",
    "    ranked_suppliers = df_result.iloc[indices[0]]['supplier']\n",
    "\n",
    "    return ranked_suppliers"
   ],
   "metadata": {
    "collapsed": false,
    "ExecuteTime": {
     "end_time": "2024-09-07T15:47:58.432434700Z",
     "start_time": "2024-09-07T15:47:58.417919800Z"
    }
   },
   "id": "34c15fd020f71799"
  },
  {
   "cell_type": "code",
   "execution_count": 174,
   "outputs": [],
   "source": [
    "def valid(str_tool):\n",
    "    string_input = str_tool\n",
    "    sep = string_input.split(\"_\")\n",
    "    region, okpd2 = int(sep[0]), sep[1]\n",
    "    print(region, okpd2)\n",
    "    first_category = get_first_category(region, okpd2)\n",
    "    print(\"Категория №1:\")\n",
    "    exist = []\n",
    "    for i, supplier in enumerate(first_category):\n",
    "        print(f\"Приоритет: {i + 1}, Поставщик:{supplier}\")\n",
    "        exist.append(supplier)\n",
    "    print(\"Категория №2:\")\n",
    "    second_category = get_second_category(region, okpd2)\n",
    "    i = 1\n",
    "    for supplier in second_category:\n",
    "        if not supplier in exist:\n",
    "            print(f\"Приоритет: {i}, Поставщик:{supplier}\")\n",
    "            i += 1"
   ],
   "metadata": {
    "collapsed": false,
    "ExecuteTime": {
     "end_time": "2024-09-07T16:49:20.652319700Z",
     "start_time": "2024-09-07T16:49:20.629310600Z"
    }
   },
   "id": "a9ea68f75a6114e0"
  },
  {
   "cell_type": "code",
   "execution_count": null,
   "outputs": [],
   "source": [
    "# 70_23.31.10.120"
   ],
   "metadata": {
    "collapsed": false
   },
   "id": "7e67ac76882bb277"
  },
  {
   "cell_type": "code",
   "execution_count": 207,
   "outputs": [
    {
     "name": "stdout",
     "output_type": "stream",
     "text": [
      "69 23.31.10.120\n",
      "Категория №1:\n",
      "Приоритет: 1, Поставщик:Поставщик_98\n",
      "Приоритет: 2, Поставщик:Поставщик_38372\n",
      "Приоритет: 3, Поставщик:Поставщик_9098\n",
      "Приоритет: 4, Поставщик:Поставщик_91628\n",
      "Приоритет: 5, Поставщик:Поставщик_149257\n",
      "Приоритет: 6, Поставщик:Поставщик_43407\n",
      "Приоритет: 7, Поставщик:Поставщик_83686\n",
      "Категория №2:\n",
      "Приоритет: 1, Поставщик:Поставщик_175506\n",
      "Приоритет: 2, Поставщик:Поставщик_113841\n",
      "Приоритет: 3, Поставщик:Поставщик_141919\n"
     ]
    },
    {
     "name": "stderr",
     "output_type": "stream",
     "text": [
      "C:\\Users\\bratk\\anaconda3\\Lib\\site-packages\\sklearn\\base.py:439: UserWarning: X does not have valid feature names, but StandardScaler was fitted with feature names\n",
      "  warnings.warn(\n",
      "C:\\Users\\bratk\\anaconda3\\Lib\\site-packages\\sklearn\\base.py:439: UserWarning: X does not have valid feature names, but NearestNeighbors was fitted with feature names\n",
      "  warnings.warn(\n"
     ]
    }
   ],
   "source": [
    "valid(\"69_23.31.10.120\")\n"
   ],
   "metadata": {
    "collapsed": false,
    "ExecuteTime": {
     "end_time": "2024-09-07T17:03:44.820266400Z",
     "start_time": "2024-09-07T17:03:44.621664400Z"
    }
   },
   "id": "587fe13d612033a1"
  },
  {
   "cell_type": "code",
   "execution_count": 185,
   "outputs": [],
   "source": [
    "pn_lot = pd.read_csv(\"C:\\\\Users\\\\bratk\\\\DataScience\\\\hackaton_RLT\\\\data\\\\pn_lot\", index_col=None)"
   ],
   "metadata": {
    "collapsed": false,
    "ExecuteTime": {
     "end_time": "2024-09-07T16:58:09.233198700Z",
     "start_time": "2024-09-07T16:58:04.672711300Z"
    }
   },
   "id": "4dd19e45c81263ff"
  },
  {
   "cell_type": "code",
   "execution_count": 186,
   "outputs": [
    {
     "data": {
      "text/plain": "                        pn_lot  region_code    okpd2_code\n0         0176200005523001265_            1  43.21.10.000\n1         0176200005523001265_            1  43.21.10.000\n2         0176200005523001265_            1  43.21.10.000\n3         0176200005523001265_            1  43.21.10.000\n4         0176200005523001265_            1  43.21.10.000\n...                        ...          ...           ...\n10903206  0148200005423000273_           50  08.93.10.113\n10903207  0148200005423000272_           50  08.93.10.113\n10903208  0830500000223000647_           35  41.20.40.000\n10903209  0257100000123000125_           60  43.29.19.110\n10903210  0257100000123000098_           60  43.29.19.110\n\n[10903211 rows x 3 columns]",
      "text/html": "<div>\n<style scoped>\n    .dataframe tbody tr th:only-of-type {\n        vertical-align: middle;\n    }\n\n    .dataframe tbody tr th {\n        vertical-align: top;\n    }\n\n    .dataframe thead th {\n        text-align: right;\n    }\n</style>\n<table border=\"1\" class=\"dataframe\">\n  <thead>\n    <tr style=\"text-align: right;\">\n      <th></th>\n      <th>pn_lot</th>\n      <th>region_code</th>\n      <th>okpd2_code</th>\n    </tr>\n  </thead>\n  <tbody>\n    <tr>\n      <th>0</th>\n      <td>0176200005523001265_</td>\n      <td>1</td>\n      <td>43.21.10.000</td>\n    </tr>\n    <tr>\n      <th>1</th>\n      <td>0176200005523001265_</td>\n      <td>1</td>\n      <td>43.21.10.000</td>\n    </tr>\n    <tr>\n      <th>2</th>\n      <td>0176200005523001265_</td>\n      <td>1</td>\n      <td>43.21.10.000</td>\n    </tr>\n    <tr>\n      <th>3</th>\n      <td>0176200005523001265_</td>\n      <td>1</td>\n      <td>43.21.10.000</td>\n    </tr>\n    <tr>\n      <th>4</th>\n      <td>0176200005523001265_</td>\n      <td>1</td>\n      <td>43.21.10.000</td>\n    </tr>\n    <tr>\n      <th>...</th>\n      <td>...</td>\n      <td>...</td>\n      <td>...</td>\n    </tr>\n    <tr>\n      <th>10903206</th>\n      <td>0148200005423000273_</td>\n      <td>50</td>\n      <td>08.93.10.113</td>\n    </tr>\n    <tr>\n      <th>10903207</th>\n      <td>0148200005423000272_</td>\n      <td>50</td>\n      <td>08.93.10.113</td>\n    </tr>\n    <tr>\n      <th>10903208</th>\n      <td>0830500000223000647_</td>\n      <td>35</td>\n      <td>41.20.40.000</td>\n    </tr>\n    <tr>\n      <th>10903209</th>\n      <td>0257100000123000125_</td>\n      <td>60</td>\n      <td>43.29.19.110</td>\n    </tr>\n    <tr>\n      <th>10903210</th>\n      <td>0257100000123000098_</td>\n      <td>60</td>\n      <td>43.29.19.110</td>\n    </tr>\n  </tbody>\n</table>\n<p>10903211 rows × 3 columns</p>\n</div>"
     },
     "execution_count": 186,
     "metadata": {},
     "output_type": "execute_result"
    }
   ],
   "source": [
    "pn_lot = pn_lot.drop(columns=\"Unnamed: 0\")\n",
    "pn_lot"
   ],
   "metadata": {
    "collapsed": false,
    "ExecuteTime": {
     "end_time": "2024-09-07T16:58:09.461507300Z",
     "start_time": "2024-09-07T16:58:09.278198800Z"
    }
   },
   "id": "28f96918befaa51d"
  },
  {
   "cell_type": "code",
   "execution_count": 197,
   "outputs": [],
   "source": [
    "def from_pn_to_str(pn):\n",
    "    arr = pn_lot[pn_lot[\"pn_lot\"] == pn].values[0][1:]\n",
    "    return str(arr[0]) + \"_\" + str(arr[1])"
   ],
   "metadata": {
    "collapsed": false,
    "ExecuteTime": {
     "end_time": "2024-09-07T17:00:10.281841800Z",
     "start_time": "2024-09-07T17:00:10.261828400Z"
    }
   },
   "id": "47a05d0e689c57e6"
  },
  {
   "cell_type": "code",
   "execution_count": 205,
   "outputs": [
    {
     "data": {
      "text/plain": "'77_32.50.50.190'"
     },
     "execution_count": 205,
     "metadata": {},
     "output_type": "execute_result"
    }
   ],
   "source": [
    "from_pn_to_str(\"0173200001423000019_\")"
   ],
   "metadata": {
    "collapsed": false,
    "ExecuteTime": {
     "end_time": "2024-09-07T17:03:21.691237700Z",
     "start_time": "2024-09-07T17:03:21.684196300Z"
    }
   },
   "id": "52f8ced9cda75576"
  },
  {
   "cell_type": "code",
   "execution_count": 211,
   "outputs": [
    {
     "name": "stdout",
     "output_type": "stream",
     "text": [
      "2 45.20.21.223\n",
      "Категория №1:\n",
      "Приоритет: 1, Поставщик:Поставщик_118008\n",
      "Приоритет: 2, Поставщик:Поставщик_3586\n",
      "Приоритет: 3, Поставщик:Поставщик_94723\n",
      "Приоритет: 4, Поставщик:Поставщик_43798\n",
      "Приоритет: 5, Поставщик:Поставщик_100967\n",
      "Приоритет: 6, Поставщик:Поставщик_152252\n",
      "Приоритет: 7, Поставщик:Поставщик_164174\n",
      "Приоритет: 8, Поставщик:Поставщик_3939\n",
      "Приоритет: 9, Поставщик:Поставщик_9060\n",
      "Приоритет: 10, Поставщик:Поставщик_110725\n",
      "Категория №2:\n"
     ]
    },
    {
     "name": "stderr",
     "output_type": "stream",
     "text": [
      "C:\\Users\\bratk\\anaconda3\\Lib\\site-packages\\sklearn\\base.py:439: UserWarning: X does not have valid feature names, but StandardScaler was fitted with feature names\n",
      "  warnings.warn(\n",
      "C:\\Users\\bratk\\anaconda3\\Lib\\site-packages\\sklearn\\base.py:439: UserWarning: X does not have valid feature names, but NearestNeighbors was fitted with feature names\n",
      "  warnings.warn(\n"
     ]
    }
   ],
   "source": [
    "valid(from_pn_to_str(\"0101600002823000024_\"))"
   ],
   "metadata": {
    "collapsed": false,
    "ExecuteTime": {
     "end_time": "2024-09-07T17:04:27.832998400Z",
     "start_time": "2024-09-07T17:04:27.316371600Z"
    }
   },
   "id": "9f094985abc20c7c"
  },
  {
   "cell_type": "code",
   "execution_count": null,
   "outputs": [],
   "source": [],
   "metadata": {
    "collapsed": false
   },
   "id": "40474dc875e58319"
  }
 ],
 "metadata": {
  "kernelspec": {
   "display_name": "Python 3",
   "language": "python",
   "name": "python3"
  },
  "language_info": {
   "codemirror_mode": {
    "name": "ipython",
    "version": 2
   },
   "file_extension": ".py",
   "mimetype": "text/x-python",
   "name": "python",
   "nbconvert_exporter": "python",
   "pygments_lexer": "ipython2",
   "version": "2.7.6"
  }
 },
 "nbformat": 4,
 "nbformat_minor": 5
}
