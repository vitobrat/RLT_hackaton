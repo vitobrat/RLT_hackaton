{
 "cells": [
  {
   "cell_type": "code",
   "execution_count": 3,
   "id": "bc84d869-1311-480b-bf2b-b7d3031b09c4",
   "metadata": {
    "ExecuteTime": {
     "end_time": "2024-09-07T16:41:02.089192900Z",
     "start_time": "2024-09-07T16:41:01.247886Z"
    }
   },
   "outputs": [],
   "source": [
    "import pandas as pd"
   ]
  },
  {
   "cell_type": "code",
   "execution_count": 5,
   "id": "523c8f75-ae17-48fb-847e-31375b954894",
   "metadata": {
    "ExecuteTime": {
     "end_time": "2024-09-07T16:41:17.873909700Z",
     "start_time": "2024-09-07T16:41:10.941077500Z"
    }
   },
   "outputs": [],
   "source": [
    "df_intens = pd.read_csv(\"training_data_intens_spb_20240904.csv\",  on_bad_lines='skip', sep=\";\")"
   ]
  },
  {
   "cell_type": "code",
   "execution_count": 11,
   "id": "ea676f7f-c2d9-4e39-83e4-dc0fde0d7513",
   "metadata": {
    "ExecuteTime": {
     "end_time": "2024-09-07T16:44:24.700690100Z",
     "start_time": "2024-09-07T16:44:10.695223200Z"
    }
   },
   "outputs": [],
   "source": [
    "df_items = pd.read_csv(\"training_data_items_intens_spb_20240904.csv\",  on_bad_lines='skip', sep=\";\")"
   ]
  },
  {
   "cell_type": "code",
   "execution_count": 4,
   "outputs": [],
   "source": [
    "df_participants = pd.read_csv(\"training_participants_intens_spb_20240904.csv\",  on_bad_lines='skip', sep=\";\")"
   ],
   "metadata": {
    "collapsed": false,
    "ExecuteTime": {
     "end_time": "2024-09-07T16:41:08.853655Z",
     "start_time": "2024-09-07T16:41:06.440995900Z"
    }
   },
   "id": "448d77f45bfc4922"
  },
  {
   "cell_type": "code",
   "execution_count": 6,
   "outputs": [
    {
     "data": {
      "text/plain": "           fz                pn_lot  region_code           etp  \\\n0        44fz  0101500000323000120_            2         other   \n1        44fz  0101500000323000121_            2         other   \n2        44fz  0101500000323000122_            2         other   \n3        44fz  0101500000323000123_            2         other   \n4        44fz  0101500000323000124_            2         other   \n...       ...                   ...          ...           ...   \n2043948  44fz  0101300009223000049_            2  roseltorg.ru   \n2043949  44fz  0101300009223000050_            2  roseltorg.ru   \n2043950  44fz  0101300009223000051_            2  roseltorg.ru   \n2043951  44fz  0101300009223000052_            2  roseltorg.ru   \n2043952  44fz  0101300009223000053_            2  roseltorg.ru   \n\n        min_publish_date                                      purchase_name  \\\n0             2023-03-23  Благоустройство территорий в рамках реализации...   \n1             2023-03-16  Благоустройство территорий в рамках реализации...   \n2             2023-03-16  Выполнение работ по объекту: «Благоустройство ...   \n3             2023-03-17  Ремонт автомобильной дороги Мещегарово - Турна...   \n4             2023-03-17  Выполнение работ по объекту: «Благоустройство ...   \n...                  ...                                                ...   \n2043948       2023-11-22  Оказание медицинских услуг (предрейсовый и пос...   \n2043949       2023-11-23  Поставка горюче-смазочных материалов для нужд ...   \n2043950       2023-11-23  Выполнение работ по осуществлению технического...   \n2043951       2023-11-23  Оказание услуг по охране (физическая невооруже...   \n2043952       2023-11-28  Оказание услуг по опубликованию официальных пе...   \n\n         forsmallbiz     lot_price        customer  \n0              False  1.413309e+08  Заказчик_62607  \n1              False  1.638253e+08  Заказчик_75306  \n2              False  2.493504e+08  Заказчик_53676  \n3              False  6.558707e+07  Заказчик_74918  \n4              False  5.064959e+07  Заказчик_53676  \n...              ...           ...             ...  \n2043948         True  3.189264e+05  Заказчик_40166  \n2043949        False  5.603220e+05  Заказчик_40166  \n2043950         True  1.146935e+06  Заказчик_40166  \n2043951         True  6.117865e+05  Заказчик_40166  \n2043952        False  3.299856e+05  Заказчик_40166  \n\n[2043953 rows x 9 columns]",
      "text/html": "<div>\n<style scoped>\n    .dataframe tbody tr th:only-of-type {\n        vertical-align: middle;\n    }\n\n    .dataframe tbody tr th {\n        vertical-align: top;\n    }\n\n    .dataframe thead th {\n        text-align: right;\n    }\n</style>\n<table border=\"1\" class=\"dataframe\">\n  <thead>\n    <tr style=\"text-align: right;\">\n      <th></th>\n      <th>fz</th>\n      <th>pn_lot</th>\n      <th>region_code</th>\n      <th>etp</th>\n      <th>min_publish_date</th>\n      <th>purchase_name</th>\n      <th>forsmallbiz</th>\n      <th>lot_price</th>\n      <th>customer</th>\n    </tr>\n  </thead>\n  <tbody>\n    <tr>\n      <th>0</th>\n      <td>44fz</td>\n      <td>0101500000323000120_</td>\n      <td>2</td>\n      <td>other</td>\n      <td>2023-03-23</td>\n      <td>Благоустройство территорий в рамках реализации...</td>\n      <td>False</td>\n      <td>1.413309e+08</td>\n      <td>Заказчик_62607</td>\n    </tr>\n    <tr>\n      <th>1</th>\n      <td>44fz</td>\n      <td>0101500000323000121_</td>\n      <td>2</td>\n      <td>other</td>\n      <td>2023-03-16</td>\n      <td>Благоустройство территорий в рамках реализации...</td>\n      <td>False</td>\n      <td>1.638253e+08</td>\n      <td>Заказчик_75306</td>\n    </tr>\n    <tr>\n      <th>2</th>\n      <td>44fz</td>\n      <td>0101500000323000122_</td>\n      <td>2</td>\n      <td>other</td>\n      <td>2023-03-16</td>\n      <td>Выполнение работ по объекту: «Благоустройство ...</td>\n      <td>False</td>\n      <td>2.493504e+08</td>\n      <td>Заказчик_53676</td>\n    </tr>\n    <tr>\n      <th>3</th>\n      <td>44fz</td>\n      <td>0101500000323000123_</td>\n      <td>2</td>\n      <td>other</td>\n      <td>2023-03-17</td>\n      <td>Ремонт автомобильной дороги Мещегарово - Турна...</td>\n      <td>False</td>\n      <td>6.558707e+07</td>\n      <td>Заказчик_74918</td>\n    </tr>\n    <tr>\n      <th>4</th>\n      <td>44fz</td>\n      <td>0101500000323000124_</td>\n      <td>2</td>\n      <td>other</td>\n      <td>2023-03-17</td>\n      <td>Выполнение работ по объекту: «Благоустройство ...</td>\n      <td>False</td>\n      <td>5.064959e+07</td>\n      <td>Заказчик_53676</td>\n    </tr>\n    <tr>\n      <th>...</th>\n      <td>...</td>\n      <td>...</td>\n      <td>...</td>\n      <td>...</td>\n      <td>...</td>\n      <td>...</td>\n      <td>...</td>\n      <td>...</td>\n      <td>...</td>\n    </tr>\n    <tr>\n      <th>2043948</th>\n      <td>44fz</td>\n      <td>0101300009223000049_</td>\n      <td>2</td>\n      <td>roseltorg.ru</td>\n      <td>2023-11-22</td>\n      <td>Оказание медицинских услуг (предрейсовый и пос...</td>\n      <td>True</td>\n      <td>3.189264e+05</td>\n      <td>Заказчик_40166</td>\n    </tr>\n    <tr>\n      <th>2043949</th>\n      <td>44fz</td>\n      <td>0101300009223000050_</td>\n      <td>2</td>\n      <td>roseltorg.ru</td>\n      <td>2023-11-23</td>\n      <td>Поставка горюче-смазочных материалов для нужд ...</td>\n      <td>False</td>\n      <td>5.603220e+05</td>\n      <td>Заказчик_40166</td>\n    </tr>\n    <tr>\n      <th>2043950</th>\n      <td>44fz</td>\n      <td>0101300009223000051_</td>\n      <td>2</td>\n      <td>roseltorg.ru</td>\n      <td>2023-11-23</td>\n      <td>Выполнение работ по осуществлению технического...</td>\n      <td>True</td>\n      <td>1.146935e+06</td>\n      <td>Заказчик_40166</td>\n    </tr>\n    <tr>\n      <th>2043951</th>\n      <td>44fz</td>\n      <td>0101300009223000052_</td>\n      <td>2</td>\n      <td>roseltorg.ru</td>\n      <td>2023-11-23</td>\n      <td>Оказание услуг по охране (физическая невооруже...</td>\n      <td>True</td>\n      <td>6.117865e+05</td>\n      <td>Заказчик_40166</td>\n    </tr>\n    <tr>\n      <th>2043952</th>\n      <td>44fz</td>\n      <td>0101300009223000053_</td>\n      <td>2</td>\n      <td>roseltorg.ru</td>\n      <td>2023-11-28</td>\n      <td>Оказание услуг по опубликованию официальных пе...</td>\n      <td>False</td>\n      <td>3.299856e+05</td>\n      <td>Заказчик_40166</td>\n    </tr>\n  </tbody>\n</table>\n<p>2043953 rows × 9 columns</p>\n</div>"
     },
     "execution_count": 6,
     "metadata": {},
     "output_type": "execute_result"
    }
   ],
   "source": [
    "df_intens"
   ],
   "metadata": {
    "collapsed": false,
    "ExecuteTime": {
     "end_time": "2024-09-07T09:51:44.826879Z",
     "start_time": "2024-09-07T09:51:44.786655900Z"
    }
   },
   "id": "aa8915a30bc27a5b"
  },
  {
   "cell_type": "code",
   "execution_count": 7,
   "outputs": [],
   "source": [
    "df_intens = df_intens.dropna()"
   ],
   "metadata": {
    "collapsed": false,
    "ExecuteTime": {
     "end_time": "2024-09-07T09:51:45.270992500Z",
     "start_time": "2024-09-07T09:51:44.802884400Z"
    }
   },
   "id": "37f5d0d68c48b839"
  },
  {
   "cell_type": "code",
   "execution_count": 8,
   "outputs": [
    {
     "name": "stdout",
     "output_type": "stream",
     "text": [
      "<class 'pandas.core.frame.DataFrame'>\n",
      "Index: 2002991 entries, 0 to 2043952\n",
      "Data columns (total 9 columns):\n",
      " #   Column            Dtype  \n",
      "---  ------            -----  \n",
      " 0   fz                object \n",
      " 1   pn_lot            object \n",
      " 2   region_code       int64  \n",
      " 3   etp               object \n",
      " 4   min_publish_date  object \n",
      " 5   purchase_name     object \n",
      " 6   forsmallbiz       bool   \n",
      " 7   lot_price         float64\n",
      " 8   customer          object \n",
      "dtypes: bool(1), float64(1), int64(1), object(6)\n",
      "memory usage: 139.4+ MB\n"
     ]
    }
   ],
   "source": [
    "df_intens.info()"
   ],
   "metadata": {
    "collapsed": false,
    "ExecuteTime": {
     "end_time": "2024-09-07T09:51:45.288605Z",
     "start_time": "2024-09-07T09:51:45.274059800Z"
    }
   },
   "id": "c42bd213e41b0232"
  },
  {
   "cell_type": "code",
   "execution_count": 9,
   "outputs": [
    {
     "data": {
      "text/plain": "region_code\n77    170254\n78    126883\n23     81467\n50     76504\n54     66050\n       ...  \n85       740\n99       661\n82       589\n80       573\n81       368\nName: count, Length: 92, dtype: int64"
     },
     "execution_count": 9,
     "metadata": {},
     "output_type": "execute_result"
    }
   ],
   "source": [
    "df_intens[\"region_code\"].value_counts()"
   ],
   "metadata": {
    "collapsed": false,
    "ExecuteTime": {
     "end_time": "2024-09-07T09:51:45.361017700Z",
     "start_time": "2024-09-07T09:51:45.290610300Z"
    }
   },
   "id": "1e6624ada5469aa5"
  },
  {
   "cell_type": "code",
   "execution_count": 10,
   "outputs": [
    {
     "data": {
      "text/plain": "        region_code     lot_price\ncount  2.002991e+06  2.002991e+06\nmean   4.927745e+01  4.415112e+06\nstd    2.413776e+01  9.102492e+07\nmin    1.000000e+00  1.000000e-02\n25%    2.700000e+01  1.033064e+05\n50%    5.200000e+01  3.876230e+05\n75%    7.200000e+01  1.359902e+06\nmax    9.900000e+01  6.188891e+10",
      "text/html": "<div>\n<style scoped>\n    .dataframe tbody tr th:only-of-type {\n        vertical-align: middle;\n    }\n\n    .dataframe tbody tr th {\n        vertical-align: top;\n    }\n\n    .dataframe thead th {\n        text-align: right;\n    }\n</style>\n<table border=\"1\" class=\"dataframe\">\n  <thead>\n    <tr style=\"text-align: right;\">\n      <th></th>\n      <th>region_code</th>\n      <th>lot_price</th>\n    </tr>\n  </thead>\n  <tbody>\n    <tr>\n      <th>count</th>\n      <td>2.002991e+06</td>\n      <td>2.002991e+06</td>\n    </tr>\n    <tr>\n      <th>mean</th>\n      <td>4.927745e+01</td>\n      <td>4.415112e+06</td>\n    </tr>\n    <tr>\n      <th>std</th>\n      <td>2.413776e+01</td>\n      <td>9.102492e+07</td>\n    </tr>\n    <tr>\n      <th>min</th>\n      <td>1.000000e+00</td>\n      <td>1.000000e-02</td>\n    </tr>\n    <tr>\n      <th>25%</th>\n      <td>2.700000e+01</td>\n      <td>1.033064e+05</td>\n    </tr>\n    <tr>\n      <th>50%</th>\n      <td>5.200000e+01</td>\n      <td>3.876230e+05</td>\n    </tr>\n    <tr>\n      <th>75%</th>\n      <td>7.200000e+01</td>\n      <td>1.359902e+06</td>\n    </tr>\n    <tr>\n      <th>max</th>\n      <td>9.900000e+01</td>\n      <td>6.188891e+10</td>\n    </tr>\n  </tbody>\n</table>\n</div>"
     },
     "execution_count": 10,
     "metadata": {},
     "output_type": "execute_result"
    }
   ],
   "source": [
    "df_intens.describe()"
   ],
   "metadata": {
    "collapsed": false,
    "ExecuteTime": {
     "end_time": "2024-09-07T09:51:45.426276100Z",
     "start_time": "2024-09-07T09:51:45.306019900Z"
    }
   },
   "id": "be1c9afe7badecdf"
  },
  {
   "cell_type": "code",
   "execution_count": 11,
   "outputs": [
    {
     "data": {
      "text/plain": "customer            0.0\nlot_price           0.0\nforsmallbiz         0.0\npurchase_name       0.0\nmin_publish_date    0.0\netp                 0.0\nregion_code         0.0\npn_lot              0.0\ndtype: float64"
     },
     "execution_count": 11,
     "metadata": {},
     "output_type": "execute_result"
    }
   ],
   "source": [
    "(df_intens.isna().sum() * 100 / df_intens.shape[0]).sort_values()[-1:0:-1].head(14)"
   ],
   "metadata": {
    "collapsed": false,
    "ExecuteTime": {
     "end_time": "2024-09-07T09:51:45.709471400Z",
     "start_time": "2024-09-07T09:51:45.418259900Z"
    }
   },
   "id": "1821f0ea9f4a41f7"
  },
  {
   "cell_type": "markdown",
   "source": [
    "------------------------------------------------------"
   ],
   "metadata": {
    "collapsed": false
   },
   "id": "cd57ba4062124531"
  },
  {
   "cell_type": "code",
   "execution_count": 12,
   "outputs": [
    {
     "data": {
      "text/plain": "                       pn_lot                                 item_name  \\\n0        0303100015223000031_     Стакан в сборе ПН-40АЦ-2,5-40(433362)   \n1        0303100015223000031_          Колодки тормозные АЦ-2,5-40(131)   \n2        0303100015223000031_  Головка блока цилиндра АЦ-2,5-40(433362)   \n3        0303100015223000031_       Маховик с ободом ЯМЗАЦ-6,0-40(5557)   \n4        0303100015223000031_     Задвижка боковая ПН-40АЦ-3,0-40(4334)   \n...                       ...                                       ...   \n8095393  0302300030023000107_     Монитор пренатальный для плода/матери   \n8095394  0302300030023000114_          Крахмалы, кроме модифицированных   \n8095395  0302300030023000114_                             Ягоды сушеные   \n8095396  0302300030023000114_         Макаронные изделия в ассортименте   \n8095397  0302300030023000114_                                    Яблоки   \n\n           okpd2_code  \n0        29.32.30.390  \n1        29.32.30.132  \n2        29.32.30.390  \n3        29.32.30.390  \n4        29.32.30.390  \n...               ...  \n8095393  26.60.12.129  \n8095394  10.62.11.110  \n8095395  01.25.19.190  \n8095396  10.73.11.190  \n8095397  01.24.10.000  \n\n[8095398 rows x 3 columns]",
      "text/html": "<div>\n<style scoped>\n    .dataframe tbody tr th:only-of-type {\n        vertical-align: middle;\n    }\n\n    .dataframe tbody tr th {\n        vertical-align: top;\n    }\n\n    .dataframe thead th {\n        text-align: right;\n    }\n</style>\n<table border=\"1\" class=\"dataframe\">\n  <thead>\n    <tr style=\"text-align: right;\">\n      <th></th>\n      <th>pn_lot</th>\n      <th>item_name</th>\n      <th>okpd2_code</th>\n    </tr>\n  </thead>\n  <tbody>\n    <tr>\n      <th>0</th>\n      <td>0303100015223000031_</td>\n      <td>Стакан в сборе ПН-40АЦ-2,5-40(433362)</td>\n      <td>29.32.30.390</td>\n    </tr>\n    <tr>\n      <th>1</th>\n      <td>0303100015223000031_</td>\n      <td>Колодки тормозные АЦ-2,5-40(131)</td>\n      <td>29.32.30.132</td>\n    </tr>\n    <tr>\n      <th>2</th>\n      <td>0303100015223000031_</td>\n      <td>Головка блока цилиндра АЦ-2,5-40(433362)</td>\n      <td>29.32.30.390</td>\n    </tr>\n    <tr>\n      <th>3</th>\n      <td>0303100015223000031_</td>\n      <td>Маховик с ободом ЯМЗАЦ-6,0-40(5557)</td>\n      <td>29.32.30.390</td>\n    </tr>\n    <tr>\n      <th>4</th>\n      <td>0303100015223000031_</td>\n      <td>Задвижка боковая ПН-40АЦ-3,0-40(4334)</td>\n      <td>29.32.30.390</td>\n    </tr>\n    <tr>\n      <th>...</th>\n      <td>...</td>\n      <td>...</td>\n      <td>...</td>\n    </tr>\n    <tr>\n      <th>8095393</th>\n      <td>0302300030023000107_</td>\n      <td>Монитор пренатальный для плода/матери</td>\n      <td>26.60.12.129</td>\n    </tr>\n    <tr>\n      <th>8095394</th>\n      <td>0302300030023000114_</td>\n      <td>Крахмалы, кроме модифицированных</td>\n      <td>10.62.11.110</td>\n    </tr>\n    <tr>\n      <th>8095395</th>\n      <td>0302300030023000114_</td>\n      <td>Ягоды сушеные</td>\n      <td>01.25.19.190</td>\n    </tr>\n    <tr>\n      <th>8095396</th>\n      <td>0302300030023000114_</td>\n      <td>Макаронные изделия в ассортименте</td>\n      <td>10.73.11.190</td>\n    </tr>\n    <tr>\n      <th>8095397</th>\n      <td>0302300030023000114_</td>\n      <td>Яблоки</td>\n      <td>01.24.10.000</td>\n    </tr>\n  </tbody>\n</table>\n<p>8095398 rows × 3 columns</p>\n</div>"
     },
     "execution_count": 12,
     "metadata": {},
     "output_type": "execute_result"
    }
   ],
   "source": [
    "df_items"
   ],
   "metadata": {
    "collapsed": false,
    "ExecuteTime": {
     "end_time": "2024-09-07T09:51:45.718553300Z",
     "start_time": "2024-09-07T09:51:45.714469800Z"
    }
   },
   "id": "a2d25d9b80890180"
  },
  {
   "cell_type": "code",
   "execution_count": 13,
   "outputs": [],
   "source": [
    "df_items = df_items.dropna()"
   ],
   "metadata": {
    "collapsed": false,
    "ExecuteTime": {
     "end_time": "2024-09-07T09:51:46.645734800Z",
     "start_time": "2024-09-07T09:51:45.718553300Z"
    }
   },
   "id": "bc96c7245e477a24"
  },
  {
   "cell_type": "code",
   "execution_count": 14,
   "outputs": [
    {
     "data": {
      "text/plain": "                      pn_lot  \\\ncount                8092836   \nunique               2036617   \ntop     0809100000223000040_   \nfreq                   21322   \n\n                                                item_name    okpd2_code  \ncount                                             8092836       8092836  \nunique                                            3042939          9327  \ntop     Стент для коронарных артерий, выделяющий лекар...  21.20.23.110  \nfreq                                                59823        447271  ",
      "text/html": "<div>\n<style scoped>\n    .dataframe tbody tr th:only-of-type {\n        vertical-align: middle;\n    }\n\n    .dataframe tbody tr th {\n        vertical-align: top;\n    }\n\n    .dataframe thead th {\n        text-align: right;\n    }\n</style>\n<table border=\"1\" class=\"dataframe\">\n  <thead>\n    <tr style=\"text-align: right;\">\n      <th></th>\n      <th>pn_lot</th>\n      <th>item_name</th>\n      <th>okpd2_code</th>\n    </tr>\n  </thead>\n  <tbody>\n    <tr>\n      <th>count</th>\n      <td>8092836</td>\n      <td>8092836</td>\n      <td>8092836</td>\n    </tr>\n    <tr>\n      <th>unique</th>\n      <td>2036617</td>\n      <td>3042939</td>\n      <td>9327</td>\n    </tr>\n    <tr>\n      <th>top</th>\n      <td>0809100000223000040_</td>\n      <td>Стент для коронарных артерий, выделяющий лекар...</td>\n      <td>21.20.23.110</td>\n    </tr>\n    <tr>\n      <th>freq</th>\n      <td>21322</td>\n      <td>59823</td>\n      <td>447271</td>\n    </tr>\n  </tbody>\n</table>\n</div>"
     },
     "execution_count": 14,
     "metadata": {},
     "output_type": "execute_result"
    }
   ],
   "source": [
    "df_items.describe()"
   ],
   "metadata": {
    "collapsed": false,
    "ExecuteTime": {
     "end_time": "2024-09-07T09:51:53.418896900Z",
     "start_time": "2024-09-07T09:51:46.647734800Z"
    }
   },
   "id": "b376a24b008c8881"
  },
  {
   "cell_type": "code",
   "execution_count": 15,
   "outputs": [
    {
     "data": {
      "text/plain": "okpd2_code    0.0\nitem_name     0.0\ndtype: float64"
     },
     "execution_count": 15,
     "metadata": {},
     "output_type": "execute_result"
    }
   ],
   "source": [
    "(df_items.isna().sum() * 100 / df_items.shape[0]).sort_values()[-1:0:-1].head(14)"
   ],
   "metadata": {
    "collapsed": false,
    "ExecuteTime": {
     "end_time": "2024-09-07T09:51:54.058332200Z",
     "start_time": "2024-09-07T09:51:54.034901800Z"
    }
   },
   "id": "71ef7cbedf881876"
  },
  {
   "cell_type": "markdown",
   "source": [
    "---------------------------------------------"
   ],
   "metadata": {
    "collapsed": false
   },
   "id": "f69cb2a69ee63a26"
  },
  {
   "cell_type": "code",
   "execution_count": 16,
   "outputs": [
    {
     "data": {
      "text/plain": "                       pn_lot          supplier  is_winner\n0        0176200005523001265_  Поставщик_119511          0\n1        0376100006023000003_  Поставщик_107253          1\n2        0376100007623000014_  Поставщик_107253          1\n3        0318200034923000081_  Поставщик_107253          1\n4        0176300006323000035_  Поставщик_107253          1\n...                       ...               ...        ...\n2886910  0360300004623000002_  Поставщик_129607          1\n2886911  0171200001923002821_  Поставщик_129607          1\n2886912  0830500000223000647_  Поставщик_129607          1\n2886913  0257100000123000125_  Поставщик_129607          1\n2886914  0257100000123000098_  Поставщик_129607          1\n\n[2886915 rows x 3 columns]",
      "text/html": "<div>\n<style scoped>\n    .dataframe tbody tr th:only-of-type {\n        vertical-align: middle;\n    }\n\n    .dataframe tbody tr th {\n        vertical-align: top;\n    }\n\n    .dataframe thead th {\n        text-align: right;\n    }\n</style>\n<table border=\"1\" class=\"dataframe\">\n  <thead>\n    <tr style=\"text-align: right;\">\n      <th></th>\n      <th>pn_lot</th>\n      <th>supplier</th>\n      <th>is_winner</th>\n    </tr>\n  </thead>\n  <tbody>\n    <tr>\n      <th>0</th>\n      <td>0176200005523001265_</td>\n      <td>Поставщик_119511</td>\n      <td>0</td>\n    </tr>\n    <tr>\n      <th>1</th>\n      <td>0376100006023000003_</td>\n      <td>Поставщик_107253</td>\n      <td>1</td>\n    </tr>\n    <tr>\n      <th>2</th>\n      <td>0376100007623000014_</td>\n      <td>Поставщик_107253</td>\n      <td>1</td>\n    </tr>\n    <tr>\n      <th>3</th>\n      <td>0318200034923000081_</td>\n      <td>Поставщик_107253</td>\n      <td>1</td>\n    </tr>\n    <tr>\n      <th>4</th>\n      <td>0176300006323000035_</td>\n      <td>Поставщик_107253</td>\n      <td>1</td>\n    </tr>\n    <tr>\n      <th>...</th>\n      <td>...</td>\n      <td>...</td>\n      <td>...</td>\n    </tr>\n    <tr>\n      <th>2886910</th>\n      <td>0360300004623000002_</td>\n      <td>Поставщик_129607</td>\n      <td>1</td>\n    </tr>\n    <tr>\n      <th>2886911</th>\n      <td>0171200001923002821_</td>\n      <td>Поставщик_129607</td>\n      <td>1</td>\n    </tr>\n    <tr>\n      <th>2886912</th>\n      <td>0830500000223000647_</td>\n      <td>Поставщик_129607</td>\n      <td>1</td>\n    </tr>\n    <tr>\n      <th>2886913</th>\n      <td>0257100000123000125_</td>\n      <td>Поставщик_129607</td>\n      <td>1</td>\n    </tr>\n    <tr>\n      <th>2886914</th>\n      <td>0257100000123000098_</td>\n      <td>Поставщик_129607</td>\n      <td>1</td>\n    </tr>\n  </tbody>\n</table>\n<p>2886915 rows × 3 columns</p>\n</div>"
     },
     "execution_count": 16,
     "metadata": {},
     "output_type": "execute_result"
    }
   ],
   "source": [
    "df_participants"
   ],
   "metadata": {
    "collapsed": false,
    "ExecuteTime": {
     "end_time": "2024-09-07T09:51:54.070100700Z",
     "start_time": "2024-09-07T09:51:54.060329400Z"
    }
   },
   "id": "a3495b87639df8e6"
  },
  {
   "cell_type": "code",
   "execution_count": 17,
   "outputs": [
    {
     "data": {
      "text/plain": "          is_winner\ncount  2.886915e+06\nmean   7.153602e-01\nstd    4.512428e-01\nmin    0.000000e+00\n25%    0.000000e+00\n50%    1.000000e+00\n75%    1.000000e+00\nmax    1.000000e+00",
      "text/html": "<div>\n<style scoped>\n    .dataframe tbody tr th:only-of-type {\n        vertical-align: middle;\n    }\n\n    .dataframe tbody tr th {\n        vertical-align: top;\n    }\n\n    .dataframe thead th {\n        text-align: right;\n    }\n</style>\n<table border=\"1\" class=\"dataframe\">\n  <thead>\n    <tr style=\"text-align: right;\">\n      <th></th>\n      <th>is_winner</th>\n    </tr>\n  </thead>\n  <tbody>\n    <tr>\n      <th>count</th>\n      <td>2.886915e+06</td>\n    </tr>\n    <tr>\n      <th>mean</th>\n      <td>7.153602e-01</td>\n    </tr>\n    <tr>\n      <th>std</th>\n      <td>4.512428e-01</td>\n    </tr>\n    <tr>\n      <th>min</th>\n      <td>0.000000e+00</td>\n    </tr>\n    <tr>\n      <th>25%</th>\n      <td>0.000000e+00</td>\n    </tr>\n    <tr>\n      <th>50%</th>\n      <td>1.000000e+00</td>\n    </tr>\n    <tr>\n      <th>75%</th>\n      <td>1.000000e+00</td>\n    </tr>\n    <tr>\n      <th>max</th>\n      <td>1.000000e+00</td>\n    </tr>\n  </tbody>\n</table>\n</div>"
     },
     "execution_count": 17,
     "metadata": {},
     "output_type": "execute_result"
    }
   ],
   "source": [
    "df_participants.describe()"
   ],
   "metadata": {
    "collapsed": false,
    "ExecuteTime": {
     "end_time": "2024-09-07T09:51:54.194174600Z",
     "start_time": "2024-09-07T09:51:54.072101200Z"
    }
   },
   "id": "869b6c085035f7cc"
  },
  {
   "cell_type": "code",
   "execution_count": 18,
   "outputs": [
    {
     "data": {
      "text/plain": "is_winner    0.0\nsupplier     0.0\ndtype: float64"
     },
     "execution_count": 18,
     "metadata": {},
     "output_type": "execute_result"
    }
   ],
   "source": [
    "(df_participants.isna().sum() * 100 / df_participants.shape[0]).sort_values()[-1:0:-1].head(14)"
   ],
   "metadata": {
    "collapsed": false,
    "ExecuteTime": {
     "end_time": "2024-09-07T09:51:54.321915300Z",
     "start_time": "2024-09-07T09:51:54.131108600Z"
    }
   },
   "id": "947c638aadb0c29e"
  },
  {
   "cell_type": "code",
   "execution_count": 6,
   "outputs": [],
   "source": [
    "main_df = pd.merge(df_participants, df_intens, on=\"pn_lot\", how=\"inner\")"
   ],
   "metadata": {
    "collapsed": false,
    "ExecuteTime": {
     "end_time": "2024-09-07T16:41:28.201239200Z",
     "start_time": "2024-09-07T16:41:24.970658100Z"
    }
   },
   "id": "85409dbf55a324f9"
  },
  {
   "cell_type": "code",
   "execution_count": 7,
   "outputs": [
    {
     "data": {
      "text/plain": "                       pn_lot          supplier  is_winner    fz  region_code  \\\n0        0176200005523001265_  Поставщик_119511          0  44fz            1   \n1        0176200005523001265_  Поставщик_181737          1  44fz            1   \n2        0176200005523001265_    Поставщик_3470          0  44fz            1   \n3        0176200005523001265_   Поставщик_16918          0  44fz            1   \n4        0176200005523001265_  Поставщик_105251          0  44fz            1   \n...                       ...               ...        ...   ...          ...   \n2886910  0148200005423000273_   Поставщик_79103          1  44fz           50   \n2886911  0148200005423000272_   Поставщик_79103          1  44fz           50   \n2886912  0830500000223000647_  Поставщик_129607          1  44fz           35   \n2886913  0257100000123000125_  Поставщик_129607          1  44fz           60   \n2886914  0257100000123000098_  Поставщик_129607          1  44fz           60   \n\n                  etp min_publish_date  \\\n0        roseltorg.ru       2023-06-21   \n1        roseltorg.ru       2023-06-21   \n2        roseltorg.ru       2023-06-21   \n3        roseltorg.ru       2023-06-21   \n4        roseltorg.ru       2023-06-21   \n...               ...              ...   \n2886910         other       2023-05-05   \n2886911         other       2023-05-05   \n2886912         other       2023-03-15   \n2886913         other       2023-08-03   \n2886914         other       2023-05-26   \n\n                                             purchase_name  forsmallbiz  \\\n0        Выполнение работ по капитальному ремонту объек...         True   \n1        Выполнение работ по капитальному ремонту объек...         True   \n2        Выполнение работ по капитальному ремонту объек...         True   \n3        Выполнение работ по капитальному ремонту объек...         True   \n4        Выполнение работ по капитальному ремонту объек...         True   \n...                                                    ...          ...   \n2886910                   Поставка соли технической, лот 4        False   \n2886911                   Поставка соли технической, лот 6        False   \n2886912  Выполнение работ по капитальному ремонту (заме...        False   \n2886913  Выполнение работ по капитальному ремонту здани...        False   \n2886914  Выполнение работ по капитальному ремонту здани...        False   \n\n            lot_price        customer  \n0        2.183299e+06   Заказчик_6515  \n1        2.183299e+06   Заказчик_6515  \n2        2.183299e+06   Заказчик_6515  \n3        2.183299e+06   Заказчик_6515  \n4        2.183299e+06   Заказчик_6515  \n...               ...             ...  \n2886910  4.208938e+08  Заказчик_63738  \n2886911  4.208938e+08  Заказчик_63738  \n2886912  4.891010e+06  Заказчик_73643  \n2886913  3.088282e+06  Заказчик_53138  \n2886914  2.889455e+06  Заказчик_53138  \n\n[2886915 rows x 11 columns]",
      "text/html": "<div>\n<style scoped>\n    .dataframe tbody tr th:only-of-type {\n        vertical-align: middle;\n    }\n\n    .dataframe tbody tr th {\n        vertical-align: top;\n    }\n\n    .dataframe thead th {\n        text-align: right;\n    }\n</style>\n<table border=\"1\" class=\"dataframe\">\n  <thead>\n    <tr style=\"text-align: right;\">\n      <th></th>\n      <th>pn_lot</th>\n      <th>supplier</th>\n      <th>is_winner</th>\n      <th>fz</th>\n      <th>region_code</th>\n      <th>etp</th>\n      <th>min_publish_date</th>\n      <th>purchase_name</th>\n      <th>forsmallbiz</th>\n      <th>lot_price</th>\n      <th>customer</th>\n    </tr>\n  </thead>\n  <tbody>\n    <tr>\n      <th>0</th>\n      <td>0176200005523001265_</td>\n      <td>Поставщик_119511</td>\n      <td>0</td>\n      <td>44fz</td>\n      <td>1</td>\n      <td>roseltorg.ru</td>\n      <td>2023-06-21</td>\n      <td>Выполнение работ по капитальному ремонту объек...</td>\n      <td>True</td>\n      <td>2.183299e+06</td>\n      <td>Заказчик_6515</td>\n    </tr>\n    <tr>\n      <th>1</th>\n      <td>0176200005523001265_</td>\n      <td>Поставщик_181737</td>\n      <td>1</td>\n      <td>44fz</td>\n      <td>1</td>\n      <td>roseltorg.ru</td>\n      <td>2023-06-21</td>\n      <td>Выполнение работ по капитальному ремонту объек...</td>\n      <td>True</td>\n      <td>2.183299e+06</td>\n      <td>Заказчик_6515</td>\n    </tr>\n    <tr>\n      <th>2</th>\n      <td>0176200005523001265_</td>\n      <td>Поставщик_3470</td>\n      <td>0</td>\n      <td>44fz</td>\n      <td>1</td>\n      <td>roseltorg.ru</td>\n      <td>2023-06-21</td>\n      <td>Выполнение работ по капитальному ремонту объек...</td>\n      <td>True</td>\n      <td>2.183299e+06</td>\n      <td>Заказчик_6515</td>\n    </tr>\n    <tr>\n      <th>3</th>\n      <td>0176200005523001265_</td>\n      <td>Поставщик_16918</td>\n      <td>0</td>\n      <td>44fz</td>\n      <td>1</td>\n      <td>roseltorg.ru</td>\n      <td>2023-06-21</td>\n      <td>Выполнение работ по капитальному ремонту объек...</td>\n      <td>True</td>\n      <td>2.183299e+06</td>\n      <td>Заказчик_6515</td>\n    </tr>\n    <tr>\n      <th>4</th>\n      <td>0176200005523001265_</td>\n      <td>Поставщик_105251</td>\n      <td>0</td>\n      <td>44fz</td>\n      <td>1</td>\n      <td>roseltorg.ru</td>\n      <td>2023-06-21</td>\n      <td>Выполнение работ по капитальному ремонту объек...</td>\n      <td>True</td>\n      <td>2.183299e+06</td>\n      <td>Заказчик_6515</td>\n    </tr>\n    <tr>\n      <th>...</th>\n      <td>...</td>\n      <td>...</td>\n      <td>...</td>\n      <td>...</td>\n      <td>...</td>\n      <td>...</td>\n      <td>...</td>\n      <td>...</td>\n      <td>...</td>\n      <td>...</td>\n      <td>...</td>\n    </tr>\n    <tr>\n      <th>2886910</th>\n      <td>0148200005423000273_</td>\n      <td>Поставщик_79103</td>\n      <td>1</td>\n      <td>44fz</td>\n      <td>50</td>\n      <td>other</td>\n      <td>2023-05-05</td>\n      <td>Поставка соли технической, лот 4</td>\n      <td>False</td>\n      <td>4.208938e+08</td>\n      <td>Заказчик_63738</td>\n    </tr>\n    <tr>\n      <th>2886911</th>\n      <td>0148200005423000272_</td>\n      <td>Поставщик_79103</td>\n      <td>1</td>\n      <td>44fz</td>\n      <td>50</td>\n      <td>other</td>\n      <td>2023-05-05</td>\n      <td>Поставка соли технической, лот 6</td>\n      <td>False</td>\n      <td>4.208938e+08</td>\n      <td>Заказчик_63738</td>\n    </tr>\n    <tr>\n      <th>2886912</th>\n      <td>0830500000223000647_</td>\n      <td>Поставщик_129607</td>\n      <td>1</td>\n      <td>44fz</td>\n      <td>35</td>\n      <td>other</td>\n      <td>2023-03-15</td>\n      <td>Выполнение работ по капитальному ремонту (заме...</td>\n      <td>False</td>\n      <td>4.891010e+06</td>\n      <td>Заказчик_73643</td>\n    </tr>\n    <tr>\n      <th>2886913</th>\n      <td>0257100000123000125_</td>\n      <td>Поставщик_129607</td>\n      <td>1</td>\n      <td>44fz</td>\n      <td>60</td>\n      <td>other</td>\n      <td>2023-08-03</td>\n      <td>Выполнение работ по капитальному ремонту здани...</td>\n      <td>False</td>\n      <td>3.088282e+06</td>\n      <td>Заказчик_53138</td>\n    </tr>\n    <tr>\n      <th>2886914</th>\n      <td>0257100000123000098_</td>\n      <td>Поставщик_129607</td>\n      <td>1</td>\n      <td>44fz</td>\n      <td>60</td>\n      <td>other</td>\n      <td>2023-05-26</td>\n      <td>Выполнение работ по капитальному ремонту здани...</td>\n      <td>False</td>\n      <td>2.889455e+06</td>\n      <td>Заказчик_53138</td>\n    </tr>\n  </tbody>\n</table>\n<p>2886915 rows × 11 columns</p>\n</div>"
     },
     "execution_count": 7,
     "metadata": {},
     "output_type": "execute_result"
    }
   ],
   "source": [
    "main_df"
   ],
   "metadata": {
    "collapsed": false,
    "ExecuteTime": {
     "end_time": "2024-09-07T16:41:28.220081800Z",
     "start_time": "2024-09-07T16:41:28.209238800Z"
    }
   },
   "id": "bb1e983a87f4531d"
  },
  {
   "cell_type": "code",
   "execution_count": 8,
   "outputs": [],
   "source": [
    "main_df = main_df[[\"pn_lot\", \"supplier\", \"is_winner\", \"region_code\"]]"
   ],
   "metadata": {
    "collapsed": false,
    "ExecuteTime": {
     "end_time": "2024-09-07T16:43:58.410472Z",
     "start_time": "2024-09-07T16:43:58.301726900Z"
    }
   },
   "id": "d0b3414c7fa5985c"
  },
  {
   "cell_type": "code",
   "execution_count": 9,
   "outputs": [
    {
     "data": {
      "text/plain": "                       pn_lot          supplier  is_winner  region_code\n0        0176200005523001265_  Поставщик_119511          0            1\n1        0176200005523001265_  Поставщик_181737          1            1\n2        0176200005523001265_    Поставщик_3470          0            1\n3        0176200005523001265_   Поставщик_16918          0            1\n4        0176200005523001265_  Поставщик_105251          0            1\n...                       ...               ...        ...          ...\n2886910  0148200005423000273_   Поставщик_79103          1           50\n2886911  0148200005423000272_   Поставщик_79103          1           50\n2886912  0830500000223000647_  Поставщик_129607          1           35\n2886913  0257100000123000125_  Поставщик_129607          1           60\n2886914  0257100000123000098_  Поставщик_129607          1           60\n\n[2886915 rows x 4 columns]",
      "text/html": "<div>\n<style scoped>\n    .dataframe tbody tr th:only-of-type {\n        vertical-align: middle;\n    }\n\n    .dataframe tbody tr th {\n        vertical-align: top;\n    }\n\n    .dataframe thead th {\n        text-align: right;\n    }\n</style>\n<table border=\"1\" class=\"dataframe\">\n  <thead>\n    <tr style=\"text-align: right;\">\n      <th></th>\n      <th>pn_lot</th>\n      <th>supplier</th>\n      <th>is_winner</th>\n      <th>region_code</th>\n    </tr>\n  </thead>\n  <tbody>\n    <tr>\n      <th>0</th>\n      <td>0176200005523001265_</td>\n      <td>Поставщик_119511</td>\n      <td>0</td>\n      <td>1</td>\n    </tr>\n    <tr>\n      <th>1</th>\n      <td>0176200005523001265_</td>\n      <td>Поставщик_181737</td>\n      <td>1</td>\n      <td>1</td>\n    </tr>\n    <tr>\n      <th>2</th>\n      <td>0176200005523001265_</td>\n      <td>Поставщик_3470</td>\n      <td>0</td>\n      <td>1</td>\n    </tr>\n    <tr>\n      <th>3</th>\n      <td>0176200005523001265_</td>\n      <td>Поставщик_16918</td>\n      <td>0</td>\n      <td>1</td>\n    </tr>\n    <tr>\n      <th>4</th>\n      <td>0176200005523001265_</td>\n      <td>Поставщик_105251</td>\n      <td>0</td>\n      <td>1</td>\n    </tr>\n    <tr>\n      <th>...</th>\n      <td>...</td>\n      <td>...</td>\n      <td>...</td>\n      <td>...</td>\n    </tr>\n    <tr>\n      <th>2886910</th>\n      <td>0148200005423000273_</td>\n      <td>Поставщик_79103</td>\n      <td>1</td>\n      <td>50</td>\n    </tr>\n    <tr>\n      <th>2886911</th>\n      <td>0148200005423000272_</td>\n      <td>Поставщик_79103</td>\n      <td>1</td>\n      <td>50</td>\n    </tr>\n    <tr>\n      <th>2886912</th>\n      <td>0830500000223000647_</td>\n      <td>Поставщик_129607</td>\n      <td>1</td>\n      <td>35</td>\n    </tr>\n    <tr>\n      <th>2886913</th>\n      <td>0257100000123000125_</td>\n      <td>Поставщик_129607</td>\n      <td>1</td>\n      <td>60</td>\n    </tr>\n    <tr>\n      <th>2886914</th>\n      <td>0257100000123000098_</td>\n      <td>Поставщик_129607</td>\n      <td>1</td>\n      <td>60</td>\n    </tr>\n  </tbody>\n</table>\n<p>2886915 rows × 4 columns</p>\n</div>"
     },
     "execution_count": 9,
     "metadata": {},
     "output_type": "execute_result"
    }
   ],
   "source": [
    "main_df"
   ],
   "metadata": {
    "collapsed": false,
    "ExecuteTime": {
     "end_time": "2024-09-07T16:43:59.353838100Z",
     "start_time": "2024-09-07T16:43:59.343867800Z"
    }
   },
   "id": "76ef564175142e35"
  },
  {
   "cell_type": "code",
   "execution_count": 12,
   "outputs": [],
   "source": [
    "main_df = pd.merge(main_df, df_items, on=\"pn_lot\", how=\"inner\")"
   ],
   "metadata": {
    "collapsed": false,
    "ExecuteTime": {
     "end_time": "2024-09-07T16:44:29.701779Z",
     "start_time": "2024-09-07T16:44:24.703710700Z"
    }
   },
   "id": "e40781e112350aeb"
  },
  {
   "cell_type": "code",
   "execution_count": 13,
   "outputs": [
    {
     "data": {
      "text/plain": "                        pn_lot          supplier  is_winner  region_code  \\\n0         0176200005523001265_  Поставщик_119511          0            1   \n1         0176200005523001265_  Поставщик_181737          1            1   \n2         0176200005523001265_    Поставщик_3470          0            1   \n3         0176200005523001265_   Поставщик_16918          0            1   \n4         0176200005523001265_  Поставщик_105251          0            1   \n...                        ...               ...        ...          ...   \n10903206  0148200005423000273_   Поставщик_79103          1           50   \n10903207  0148200005423000272_   Поставщик_79103          1           50   \n10903208  0830500000223000647_  Поставщик_129607          1           35   \n10903209  0257100000123000125_  Поставщик_129607          1           60   \n10903210  0257100000123000098_  Поставщик_129607          1           60   \n\n                                                  item_name    okpd2_code  \n0                                   Работы электромонтажные  43.21.10.000  \n1                                   Работы электромонтажные  43.21.10.000  \n2                                   Работы электромонтажные  43.21.10.000  \n3                                   Работы электромонтажные  43.21.10.000  \n4                                   Работы электромонтажные  43.21.10.000  \n...                                                     ...           ...  \n10903206                           Соль молотая техническая  08.93.10.113  \n10903207                           Соль молотая техническая  08.93.10.113  \n10903208  Выполнение работ по капитальному ремонту объек...  41.20.40.000  \n10903209  Выполнение работ по капитальному ремонту здани...  43.29.19.110  \n10903210  Выполнение работ по капитальному ремонту здани...  43.29.19.110  \n\n[10903211 rows x 6 columns]",
      "text/html": "<div>\n<style scoped>\n    .dataframe tbody tr th:only-of-type {\n        vertical-align: middle;\n    }\n\n    .dataframe tbody tr th {\n        vertical-align: top;\n    }\n\n    .dataframe thead th {\n        text-align: right;\n    }\n</style>\n<table border=\"1\" class=\"dataframe\">\n  <thead>\n    <tr style=\"text-align: right;\">\n      <th></th>\n      <th>pn_lot</th>\n      <th>supplier</th>\n      <th>is_winner</th>\n      <th>region_code</th>\n      <th>item_name</th>\n      <th>okpd2_code</th>\n    </tr>\n  </thead>\n  <tbody>\n    <tr>\n      <th>0</th>\n      <td>0176200005523001265_</td>\n      <td>Поставщик_119511</td>\n      <td>0</td>\n      <td>1</td>\n      <td>Работы электромонтажные</td>\n      <td>43.21.10.000</td>\n    </tr>\n    <tr>\n      <th>1</th>\n      <td>0176200005523001265_</td>\n      <td>Поставщик_181737</td>\n      <td>1</td>\n      <td>1</td>\n      <td>Работы электромонтажные</td>\n      <td>43.21.10.000</td>\n    </tr>\n    <tr>\n      <th>2</th>\n      <td>0176200005523001265_</td>\n      <td>Поставщик_3470</td>\n      <td>0</td>\n      <td>1</td>\n      <td>Работы электромонтажные</td>\n      <td>43.21.10.000</td>\n    </tr>\n    <tr>\n      <th>3</th>\n      <td>0176200005523001265_</td>\n      <td>Поставщик_16918</td>\n      <td>0</td>\n      <td>1</td>\n      <td>Работы электромонтажные</td>\n      <td>43.21.10.000</td>\n    </tr>\n    <tr>\n      <th>4</th>\n      <td>0176200005523001265_</td>\n      <td>Поставщик_105251</td>\n      <td>0</td>\n      <td>1</td>\n      <td>Работы электромонтажные</td>\n      <td>43.21.10.000</td>\n    </tr>\n    <tr>\n      <th>...</th>\n      <td>...</td>\n      <td>...</td>\n      <td>...</td>\n      <td>...</td>\n      <td>...</td>\n      <td>...</td>\n    </tr>\n    <tr>\n      <th>10903206</th>\n      <td>0148200005423000273_</td>\n      <td>Поставщик_79103</td>\n      <td>1</td>\n      <td>50</td>\n      <td>Соль молотая техническая</td>\n      <td>08.93.10.113</td>\n    </tr>\n    <tr>\n      <th>10903207</th>\n      <td>0148200005423000272_</td>\n      <td>Поставщик_79103</td>\n      <td>1</td>\n      <td>50</td>\n      <td>Соль молотая техническая</td>\n      <td>08.93.10.113</td>\n    </tr>\n    <tr>\n      <th>10903208</th>\n      <td>0830500000223000647_</td>\n      <td>Поставщик_129607</td>\n      <td>1</td>\n      <td>35</td>\n      <td>Выполнение работ по капитальному ремонту объек...</td>\n      <td>41.20.40.000</td>\n    </tr>\n    <tr>\n      <th>10903209</th>\n      <td>0257100000123000125_</td>\n      <td>Поставщик_129607</td>\n      <td>1</td>\n      <td>60</td>\n      <td>Выполнение работ по капитальному ремонту здани...</td>\n      <td>43.29.19.110</td>\n    </tr>\n    <tr>\n      <th>10903210</th>\n      <td>0257100000123000098_</td>\n      <td>Поставщик_129607</td>\n      <td>1</td>\n      <td>60</td>\n      <td>Выполнение работ по капитальному ремонту здани...</td>\n      <td>43.29.19.110</td>\n    </tr>\n  </tbody>\n</table>\n<p>10903211 rows × 6 columns</p>\n</div>"
     },
     "execution_count": 13,
     "metadata": {},
     "output_type": "execute_result"
    }
   ],
   "source": [
    "main_df"
   ],
   "metadata": {
    "collapsed": false,
    "ExecuteTime": {
     "end_time": "2024-09-07T16:44:29.715029700Z",
     "start_time": "2024-09-07T16:44:29.702777600Z"
    }
   },
   "id": "56542513da603702"
  },
  {
   "cell_type": "code",
   "execution_count": 25,
   "outputs": [],
   "source": [
    "main_df = main_df.drop(columns=\"item_name\")"
   ],
   "metadata": {
    "collapsed": false,
    "ExecuteTime": {
     "end_time": "2024-09-07T09:52:04.766246900Z",
     "start_time": "2024-09-07T09:52:04.484706900Z"
    }
   },
   "id": "d8f685b92b2c4bec"
  },
  {
   "cell_type": "code",
   "execution_count": 14,
   "outputs": [
    {
     "data": {
      "text/plain": "                        pn_lot  region_code    okpd2_code\n0         0176200005523001265_            1  43.21.10.000\n1         0176200005523001265_            1  43.21.10.000\n2         0176200005523001265_            1  43.21.10.000\n3         0176200005523001265_            1  43.21.10.000\n4         0176200005523001265_            1  43.21.10.000\n...                        ...          ...           ...\n10903206  0148200005423000273_           50  08.93.10.113\n10903207  0148200005423000272_           50  08.93.10.113\n10903208  0830500000223000647_           35  41.20.40.000\n10903209  0257100000123000125_           60  43.29.19.110\n10903210  0257100000123000098_           60  43.29.19.110\n\n[10903211 rows x 3 columns]",
      "text/html": "<div>\n<style scoped>\n    .dataframe tbody tr th:only-of-type {\n        vertical-align: middle;\n    }\n\n    .dataframe tbody tr th {\n        vertical-align: top;\n    }\n\n    .dataframe thead th {\n        text-align: right;\n    }\n</style>\n<table border=\"1\" class=\"dataframe\">\n  <thead>\n    <tr style=\"text-align: right;\">\n      <th></th>\n      <th>pn_lot</th>\n      <th>region_code</th>\n      <th>okpd2_code</th>\n    </tr>\n  </thead>\n  <tbody>\n    <tr>\n      <th>0</th>\n      <td>0176200005523001265_</td>\n      <td>1</td>\n      <td>43.21.10.000</td>\n    </tr>\n    <tr>\n      <th>1</th>\n      <td>0176200005523001265_</td>\n      <td>1</td>\n      <td>43.21.10.000</td>\n    </tr>\n    <tr>\n      <th>2</th>\n      <td>0176200005523001265_</td>\n      <td>1</td>\n      <td>43.21.10.000</td>\n    </tr>\n    <tr>\n      <th>3</th>\n      <td>0176200005523001265_</td>\n      <td>1</td>\n      <td>43.21.10.000</td>\n    </tr>\n    <tr>\n      <th>4</th>\n      <td>0176200005523001265_</td>\n      <td>1</td>\n      <td>43.21.10.000</td>\n    </tr>\n    <tr>\n      <th>...</th>\n      <td>...</td>\n      <td>...</td>\n      <td>...</td>\n    </tr>\n    <tr>\n      <th>10903206</th>\n      <td>0148200005423000273_</td>\n      <td>50</td>\n      <td>08.93.10.113</td>\n    </tr>\n    <tr>\n      <th>10903207</th>\n      <td>0148200005423000272_</td>\n      <td>50</td>\n      <td>08.93.10.113</td>\n    </tr>\n    <tr>\n      <th>10903208</th>\n      <td>0830500000223000647_</td>\n      <td>35</td>\n      <td>41.20.40.000</td>\n    </tr>\n    <tr>\n      <th>10903209</th>\n      <td>0257100000123000125_</td>\n      <td>60</td>\n      <td>43.29.19.110</td>\n    </tr>\n    <tr>\n      <th>10903210</th>\n      <td>0257100000123000098_</td>\n      <td>60</td>\n      <td>43.29.19.110</td>\n    </tr>\n  </tbody>\n</table>\n<p>10903211 rows × 3 columns</p>\n</div>"
     },
     "execution_count": 14,
     "metadata": {},
     "output_type": "execute_result"
    }
   ],
   "source": [
    "main_df = main_df[[\"pn_lot\", \"region_code\", \"okpd2_code\"]]\n",
    "main_df"
   ],
   "metadata": {
    "collapsed": false,
    "ExecuteTime": {
     "end_time": "2024-09-07T16:44:52.649971900Z",
     "start_time": "2024-09-07T16:44:52.527643400Z"
    }
   },
   "id": "fa94c5197b62c5ea"
  },
  {
   "cell_type": "code",
   "execution_count": 15,
   "outputs": [],
   "source": [
    "main_df.to_csv(\"pn_lot\")"
   ],
   "metadata": {
    "collapsed": false,
    "ExecuteTime": {
     "end_time": "2024-09-07T16:46:00.017202Z",
     "start_time": "2024-09-07T16:45:45.508977600Z"
    }
   },
   "id": "29188b7c01d6a753"
  },
  {
   "cell_type": "code",
   "execution_count": 27,
   "outputs": [],
   "source": [
    "result_df = main_df.groupby(['supplier', 'region_code', 'okpd2_code']).agg(\n",
    "    win_count=('is_winner', lambda x: (x == 1).sum()),  # Count wins\n",
    "    product_count=('okpd2_code', 'size')  # Count total products\n",
    ").reset_index()"
   ],
   "metadata": {
    "collapsed": false,
    "ExecuteTime": {
     "end_time": "2024-09-07T09:53:53.361210500Z",
     "start_time": "2024-09-07T09:52:04.777483300Z"
    }
   },
   "id": "6b20066b22b813c4"
  },
  {
   "cell_type": "code",
   "execution_count": 28,
   "outputs": [
    {
     "data": {
      "text/plain": "                supplier  region_code    okpd2_code  win_count  product_count\n0            Поставщик_1           23  23.31.10.000          1              1\n1            Поставщик_1           23  23.31.10.120          1              1\n2            Поставщик_1           23  23.51.10.000          1              1\n3            Поставщик_1           23  23.61.12.210          1              1\n4            Поставщик_1           23  23.62.10.000          1              1\n...                  ...          ...           ...        ...            ...\n1642624  Поставщик_99999           74  71.12.39.114          1              1\n1642625  Поставщик_99999           75  71.12.39.114          1              1\n1642626  Поставщик_99999           77  71.12.39.119          0              2\n1642627  Поставщик_99999           77  74.90.13.000          0              1\n1642628  Поставщик_99999           86  72.19.15.000          1              1\n\n[1642629 rows x 5 columns]",
      "text/html": "<div>\n<style scoped>\n    .dataframe tbody tr th:only-of-type {\n        vertical-align: middle;\n    }\n\n    .dataframe tbody tr th {\n        vertical-align: top;\n    }\n\n    .dataframe thead th {\n        text-align: right;\n    }\n</style>\n<table border=\"1\" class=\"dataframe\">\n  <thead>\n    <tr style=\"text-align: right;\">\n      <th></th>\n      <th>supplier</th>\n      <th>region_code</th>\n      <th>okpd2_code</th>\n      <th>win_count</th>\n      <th>product_count</th>\n    </tr>\n  </thead>\n  <tbody>\n    <tr>\n      <th>0</th>\n      <td>Поставщик_1</td>\n      <td>23</td>\n      <td>23.31.10.000</td>\n      <td>1</td>\n      <td>1</td>\n    </tr>\n    <tr>\n      <th>1</th>\n      <td>Поставщик_1</td>\n      <td>23</td>\n      <td>23.31.10.120</td>\n      <td>1</td>\n      <td>1</td>\n    </tr>\n    <tr>\n      <th>2</th>\n      <td>Поставщик_1</td>\n      <td>23</td>\n      <td>23.51.10.000</td>\n      <td>1</td>\n      <td>1</td>\n    </tr>\n    <tr>\n      <th>3</th>\n      <td>Поставщик_1</td>\n      <td>23</td>\n      <td>23.61.12.210</td>\n      <td>1</td>\n      <td>1</td>\n    </tr>\n    <tr>\n      <th>4</th>\n      <td>Поставщик_1</td>\n      <td>23</td>\n      <td>23.62.10.000</td>\n      <td>1</td>\n      <td>1</td>\n    </tr>\n    <tr>\n      <th>...</th>\n      <td>...</td>\n      <td>...</td>\n      <td>...</td>\n      <td>...</td>\n      <td>...</td>\n    </tr>\n    <tr>\n      <th>1642624</th>\n      <td>Поставщик_99999</td>\n      <td>74</td>\n      <td>71.12.39.114</td>\n      <td>1</td>\n      <td>1</td>\n    </tr>\n    <tr>\n      <th>1642625</th>\n      <td>Поставщик_99999</td>\n      <td>75</td>\n      <td>71.12.39.114</td>\n      <td>1</td>\n      <td>1</td>\n    </tr>\n    <tr>\n      <th>1642626</th>\n      <td>Поставщик_99999</td>\n      <td>77</td>\n      <td>71.12.39.119</td>\n      <td>0</td>\n      <td>2</td>\n    </tr>\n    <tr>\n      <th>1642627</th>\n      <td>Поставщик_99999</td>\n      <td>77</td>\n      <td>74.90.13.000</td>\n      <td>0</td>\n      <td>1</td>\n    </tr>\n    <tr>\n      <th>1642628</th>\n      <td>Поставщик_99999</td>\n      <td>86</td>\n      <td>72.19.15.000</td>\n      <td>1</td>\n      <td>1</td>\n    </tr>\n  </tbody>\n</table>\n<p>1642629 rows × 5 columns</p>\n</div>"
     },
     "execution_count": 28,
     "metadata": {},
     "output_type": "execute_result"
    }
   ],
   "source": [
    "result_df"
   ],
   "metadata": {
    "collapsed": false,
    "ExecuteTime": {
     "end_time": "2024-09-07T09:53:53.375498700Z",
     "start_time": "2024-09-07T09:53:53.360211Z"
    }
   },
   "id": "a5781a8128b9e9ec"
  },
  {
   "cell_type": "code",
   "execution_count": 35,
   "outputs": [],
   "source": [
    "result_df.to_csv(\"data_result\")"
   ],
   "metadata": {
    "collapsed": false,
    "ExecuteTime": {
     "end_time": "2024-09-07T11:25:00.218761900Z",
     "start_time": "2024-09-07T11:24:57.516076200Z"
    }
   },
   "id": "d974d7eab2502062"
  },
  {
   "cell_type": "code",
   "execution_count": 30,
   "outputs": [],
   "source": [
    "item_description_df = df_items[[\"item_name\", \"okpd2_code\"]] "
   ],
   "metadata": {
    "collapsed": false,
    "ExecuteTime": {
     "end_time": "2024-09-07T09:55:26.865899800Z",
     "start_time": "2024-09-07T09:55:26.556397Z"
    }
   },
   "id": "f57b60aeaed6447d"
  },
  {
   "cell_type": "code",
   "execution_count": 31,
   "outputs": [
    {
     "data": {
      "text/plain": "                                        item_name    okpd2_code\n0           Стакан в сборе ПН-40АЦ-2,5-40(433362)  29.32.30.390\n1                Колодки тормозные АЦ-2,5-40(131)  29.32.30.132\n2        Головка блока цилиндра АЦ-2,5-40(433362)  29.32.30.390\n3             Маховик с ободом ЯМЗАЦ-6,0-40(5557)  29.32.30.390\n4           Задвижка боковая ПН-40АЦ-3,0-40(4334)  29.32.30.390\n...                                           ...           ...\n8095393     Монитор пренатальный для плода/матери  26.60.12.129\n8095394          Крахмалы, кроме модифицированных  10.62.11.110\n8095395                             Ягоды сушеные  01.25.19.190\n8095396         Макаронные изделия в ассортименте  10.73.11.190\n8095397                                    Яблоки  01.24.10.000\n\n[8092836 rows x 2 columns]",
      "text/html": "<div>\n<style scoped>\n    .dataframe tbody tr th:only-of-type {\n        vertical-align: middle;\n    }\n\n    .dataframe tbody tr th {\n        vertical-align: top;\n    }\n\n    .dataframe thead th {\n        text-align: right;\n    }\n</style>\n<table border=\"1\" class=\"dataframe\">\n  <thead>\n    <tr style=\"text-align: right;\">\n      <th></th>\n      <th>item_name</th>\n      <th>okpd2_code</th>\n    </tr>\n  </thead>\n  <tbody>\n    <tr>\n      <th>0</th>\n      <td>Стакан в сборе ПН-40АЦ-2,5-40(433362)</td>\n      <td>29.32.30.390</td>\n    </tr>\n    <tr>\n      <th>1</th>\n      <td>Колодки тормозные АЦ-2,5-40(131)</td>\n      <td>29.32.30.132</td>\n    </tr>\n    <tr>\n      <th>2</th>\n      <td>Головка блока цилиндра АЦ-2,5-40(433362)</td>\n      <td>29.32.30.390</td>\n    </tr>\n    <tr>\n      <th>3</th>\n      <td>Маховик с ободом ЯМЗАЦ-6,0-40(5557)</td>\n      <td>29.32.30.390</td>\n    </tr>\n    <tr>\n      <th>4</th>\n      <td>Задвижка боковая ПН-40АЦ-3,0-40(4334)</td>\n      <td>29.32.30.390</td>\n    </tr>\n    <tr>\n      <th>...</th>\n      <td>...</td>\n      <td>...</td>\n    </tr>\n    <tr>\n      <th>8095393</th>\n      <td>Монитор пренатальный для плода/матери</td>\n      <td>26.60.12.129</td>\n    </tr>\n    <tr>\n      <th>8095394</th>\n      <td>Крахмалы, кроме модифицированных</td>\n      <td>10.62.11.110</td>\n    </tr>\n    <tr>\n      <th>8095395</th>\n      <td>Ягоды сушеные</td>\n      <td>01.25.19.190</td>\n    </tr>\n    <tr>\n      <th>8095396</th>\n      <td>Макаронные изделия в ассортименте</td>\n      <td>10.73.11.190</td>\n    </tr>\n    <tr>\n      <th>8095397</th>\n      <td>Яблоки</td>\n      <td>01.24.10.000</td>\n    </tr>\n  </tbody>\n</table>\n<p>8092836 rows × 2 columns</p>\n</div>"
     },
     "execution_count": 31,
     "metadata": {},
     "output_type": "execute_result"
    }
   ],
   "source": [
    "item_description_df"
   ],
   "metadata": {
    "collapsed": false,
    "ExecuteTime": {
     "end_time": "2024-09-07T09:55:27.981850300Z",
     "start_time": "2024-09-07T09:55:27.968631700Z"
    }
   },
   "id": "97a66189b819808e"
  },
  {
   "cell_type": "code",
   "execution_count": 32,
   "outputs": [],
   "source": [
    "item_description_df = item_description_df.drop_duplicates()"
   ],
   "metadata": {
    "collapsed": false,
    "ExecuteTime": {
     "end_time": "2024-09-07T09:55:38.924900600Z",
     "start_time": "2024-09-07T09:55:33.311074200Z"
    }
   },
   "id": "cfefd96d0835acb7"
  },
  {
   "cell_type": "code",
   "execution_count": 33,
   "outputs": [
    {
     "data": {
      "text/plain": "                                                 item_name    okpd2_code\n0                    Стакан в сборе ПН-40АЦ-2,5-40(433362)  29.32.30.390\n1                         Колодки тормозные АЦ-2,5-40(131)  29.32.30.132\n2                 Головка блока цилиндра АЦ-2,5-40(433362)  29.32.30.390\n3                      Маховик с ободом ЯМЗАЦ-6,0-40(5557)  29.32.30.390\n4                    Задвижка боковая ПН-40АЦ-3,0-40(4334)  29.32.30.390\n...                                                    ...           ...\n8095341  Модель для катетеризации мужского мочевого пузыря  32.99.53.190\n8095342            Набор муляжей ран для судебной медицины  32.99.53.190\n8095343  Интерактивный тренажерный комплекс для эндоскопии  32.99.53.190\n8095344  Интерактивный лапароскопический тренажер для о...  32.99.53.190\n8095345  Тренажер для отработки навыков внутримышечных ...  32.99.53.190\n\n[3326944 rows x 2 columns]",
      "text/html": "<div>\n<style scoped>\n    .dataframe tbody tr th:only-of-type {\n        vertical-align: middle;\n    }\n\n    .dataframe tbody tr th {\n        vertical-align: top;\n    }\n\n    .dataframe thead th {\n        text-align: right;\n    }\n</style>\n<table border=\"1\" class=\"dataframe\">\n  <thead>\n    <tr style=\"text-align: right;\">\n      <th></th>\n      <th>item_name</th>\n      <th>okpd2_code</th>\n    </tr>\n  </thead>\n  <tbody>\n    <tr>\n      <th>0</th>\n      <td>Стакан в сборе ПН-40АЦ-2,5-40(433362)</td>\n      <td>29.32.30.390</td>\n    </tr>\n    <tr>\n      <th>1</th>\n      <td>Колодки тормозные АЦ-2,5-40(131)</td>\n      <td>29.32.30.132</td>\n    </tr>\n    <tr>\n      <th>2</th>\n      <td>Головка блока цилиндра АЦ-2,5-40(433362)</td>\n      <td>29.32.30.390</td>\n    </tr>\n    <tr>\n      <th>3</th>\n      <td>Маховик с ободом ЯМЗАЦ-6,0-40(5557)</td>\n      <td>29.32.30.390</td>\n    </tr>\n    <tr>\n      <th>4</th>\n      <td>Задвижка боковая ПН-40АЦ-3,0-40(4334)</td>\n      <td>29.32.30.390</td>\n    </tr>\n    <tr>\n      <th>...</th>\n      <td>...</td>\n      <td>...</td>\n    </tr>\n    <tr>\n      <th>8095341</th>\n      <td>Модель для катетеризации мужского мочевого пузыря</td>\n      <td>32.99.53.190</td>\n    </tr>\n    <tr>\n      <th>8095342</th>\n      <td>Набор муляжей ран для судебной медицины</td>\n      <td>32.99.53.190</td>\n    </tr>\n    <tr>\n      <th>8095343</th>\n      <td>Интерактивный тренажерный комплекс для эндоскопии</td>\n      <td>32.99.53.190</td>\n    </tr>\n    <tr>\n      <th>8095344</th>\n      <td>Интерактивный лапароскопический тренажер для о...</td>\n      <td>32.99.53.190</td>\n    </tr>\n    <tr>\n      <th>8095345</th>\n      <td>Тренажер для отработки навыков внутримышечных ...</td>\n      <td>32.99.53.190</td>\n    </tr>\n  </tbody>\n</table>\n<p>3326944 rows × 2 columns</p>\n</div>"
     },
     "execution_count": 33,
     "metadata": {},
     "output_type": "execute_result"
    }
   ],
   "source": [
    "item_description_df"
   ],
   "metadata": {
    "collapsed": false,
    "ExecuteTime": {
     "end_time": "2024-09-07T09:55:38.932981900Z",
     "start_time": "2024-09-07T09:55:38.925902Z"
    }
   },
   "id": "86e98cd4e54b440e"
  },
  {
   "cell_type": "code",
   "execution_count": 34,
   "outputs": [],
   "source": [
    "item_description_df.to_csv(\"data_items\")"
   ],
   "metadata": {
    "collapsed": false,
    "ExecuteTime": {
     "end_time": "2024-09-07T09:57:22.586666600Z",
     "start_time": "2024-09-07T09:57:14.798922400Z"
    }
   },
   "id": "34eb06e372804e8b"
  },
  {
   "cell_type": "code",
   "execution_count": null,
   "outputs": [],
   "source": [],
   "metadata": {
    "collapsed": false
   },
   "id": "5956d1902ac61e45"
  }
 ],
 "metadata": {
  "kernelspec": {
   "display_name": "Python 3 (ipykernel)",
   "language": "python",
   "name": "python3"
  },
  "language_info": {
   "codemirror_mode": {
    "name": "ipython",
    "version": 3
   },
   "file_extension": ".py",
   "mimetype": "text/x-python",
   "name": "python",
   "nbconvert_exporter": "python",
   "pygments_lexer": "ipython3",
   "version": "3.11.7"
  }
 },
 "nbformat": 4,
 "nbformat_minor": 5
}
