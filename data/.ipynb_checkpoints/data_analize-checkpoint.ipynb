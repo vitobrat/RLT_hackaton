{
 "cells": [
  {
   "cell_type": "code",
   "execution_count": 1,
   "id": "bc84d869-1311-480b-bf2b-b7d3031b09c4",
   "metadata": {
    "ExecuteTime": {
     "end_time": "2024-09-07T07:37:40.873064800Z",
     "start_time": "2024-09-07T07:37:40.143567600Z"
    }
   },
   "outputs": [],
   "source": [
    "import pandas as pd"
   ]
  },
  {
   "cell_type": "code",
   "execution_count": 8,
   "id": "523c8f75-ae17-48fb-847e-31375b954894",
   "metadata": {
    "ExecuteTime": {
     "end_time": "2024-09-07T07:48:32.627709Z",
     "start_time": "2024-09-07T07:48:26.401810900Z"
    }
   },
   "outputs": [],
   "source": [
    "df_main = pd.read_csv(\"training_data_intens_spb_20240904.csv\",  on_bad_lines='skip')"
   ]
  },
  {
   "cell_type": "code",
   "execution_count": 5,
   "id": "ea676f7f-c2d9-4e39-83e4-dc0fde0d7513",
   "metadata": {
    "ExecuteTime": {
     "end_time": "2024-09-07T07:47:23.505526300Z",
     "start_time": "2024-09-07T07:47:05.242952200Z"
    }
   },
   "outputs": [],
   "source": [
    "df_items = pd.read_csv(\"training_data_items_intens_spb_20240904.csv\",  on_bad_lines='skip')"
   ]
  },
  {
   "cell_type": "code",
   "execution_count": 6,
   "outputs": [],
   "source": [
    "df_participants = pd.read_csv(\"training_participants_intens_spb_20240904.csv\",  on_bad_lines='skip')"
   ],
   "metadata": {
    "collapsed": false,
    "ExecuteTime": {
     "end_time": "2024-09-07T07:48:09.437198900Z",
     "start_time": "2024-09-07T07:48:06.617715900Z"
    }
   },
   "id": "448d77f45bfc4922"
  },
  {
   "cell_type": "code",
   "execution_count": 9,
   "outputs": [
    {
     "data": {
      "text/plain": "        fz;pn_lot;region_code;etp;min_publish_date;purchase_name;forsmallbiz;lot_price;customer\n0        44fz;0101500000323000120_;02;other;2023-03-23;...                                     \n1        44fz;0101500000323000121_;02;other;2023-03-16;...                                     \n2        44fz;0101500000323000123_;02;other;2023-03-17;...                                     \n3        44fz;0101500000323000127_;02;other;2023-03-22;...                                     \n4        44fz;0101500000323000130_;02;other;2023-03-24;...                                     \n...                                                    ...                                     \n1633400  44fz;0101300009223000049_;02;roseltorg.ru;2023...                                     \n1633401  44fz;0101300009223000050_;02;roseltorg.ru;2023...                                     \n1633402  44fz;0101300009223000051_;02;roseltorg.ru;2023...                                     \n1633403  44fz;0101300009223000052_;02;roseltorg.ru;2023...                                     \n1633404  44fz;0101300009223000053_;02;roseltorg.ru;2023...                                     \n\n[1633405 rows x 1 columns]",
      "text/html": "<div>\n<style scoped>\n    .dataframe tbody tr th:only-of-type {\n        vertical-align: middle;\n    }\n\n    .dataframe tbody tr th {\n        vertical-align: top;\n    }\n\n    .dataframe thead th {\n        text-align: right;\n    }\n</style>\n<table border=\"1\" class=\"dataframe\">\n  <thead>\n    <tr style=\"text-align: right;\">\n      <th></th>\n      <th>fz;pn_lot;region_code;etp;min_publish_date;purchase_name;forsmallbiz;lot_price;customer</th>\n    </tr>\n  </thead>\n  <tbody>\n    <tr>\n      <th>0</th>\n      <td>44fz;0101500000323000120_;02;other;2023-03-23;...</td>\n    </tr>\n    <tr>\n      <th>1</th>\n      <td>44fz;0101500000323000121_;02;other;2023-03-16;...</td>\n    </tr>\n    <tr>\n      <th>2</th>\n      <td>44fz;0101500000323000123_;02;other;2023-03-17;...</td>\n    </tr>\n    <tr>\n      <th>3</th>\n      <td>44fz;0101500000323000127_;02;other;2023-03-22;...</td>\n    </tr>\n    <tr>\n      <th>4</th>\n      <td>44fz;0101500000323000130_;02;other;2023-03-24;...</td>\n    </tr>\n    <tr>\n      <th>...</th>\n      <td>...</td>\n    </tr>\n    <tr>\n      <th>1633400</th>\n      <td>44fz;0101300009223000049_;02;roseltorg.ru;2023...</td>\n    </tr>\n    <tr>\n      <th>1633401</th>\n      <td>44fz;0101300009223000050_;02;roseltorg.ru;2023...</td>\n    </tr>\n    <tr>\n      <th>1633402</th>\n      <td>44fz;0101300009223000051_;02;roseltorg.ru;2023...</td>\n    </tr>\n    <tr>\n      <th>1633403</th>\n      <td>44fz;0101300009223000052_;02;roseltorg.ru;2023...</td>\n    </tr>\n    <tr>\n      <th>1633404</th>\n      <td>44fz;0101300009223000053_;02;roseltorg.ru;2023...</td>\n    </tr>\n  </tbody>\n</table>\n<p>1633405 rows × 1 columns</p>\n</div>"
     },
     "execution_count": 9,
     "metadata": {},
     "output_type": "execute_result"
    }
   ],
   "source": [
    "df_main"
   ],
   "metadata": {
    "collapsed": false,
    "ExecuteTime": {
     "end_time": "2024-09-07T07:48:34.708218400Z",
     "start_time": "2024-09-07T07:48:34.650138500Z"
    }
   },
   "id": "aa8915a30bc27a5b"
  },
  {
   "cell_type": "code",
   "execution_count": 11,
   "outputs": [
    {
     "name": "stdout",
     "output_type": "stream",
     "text": [
      "       fz;pn_lot;region_code;etp;min_publish_date;purchase_name;forsmallbiz;lot_price;customer\n",
      "count                                             1633405                                     \n",
      "unique                                            1633405                                     \n",
      "top     44fz;0101500000323000120_;02;other;2023-03-23;...                                     \n",
      "freq                                                    1                                     \n"
     ]
    }
   ],
   "source": [
    "print(df_main.describe())"
   ],
   "metadata": {
    "collapsed": false,
    "ExecuteTime": {
     "end_time": "2024-09-07T07:50:32.467133400Z",
     "start_time": "2024-09-07T07:50:32.081790Z"
    }
   },
   "id": "be1c9afe7badecdf"
  },
  {
   "cell_type": "code",
   "execution_count": null,
   "outputs": [],
   "source": [],
   "metadata": {
    "collapsed": false
   },
   "id": "a2d25d9b80890180"
  }
 ],
 "metadata": {
  "kernelspec": {
   "display_name": "Python 3 (ipykernel)",
   "language": "python",
   "name": "python3"
  },
  "language_info": {
   "codemirror_mode": {
    "name": "ipython",
    "version": 3
   },
   "file_extension": ".py",
   "mimetype": "text/x-python",
   "name": "python",
   "nbconvert_exporter": "python",
   "pygments_lexer": "ipython3",
   "version": "3.11.7"
  }
 },
 "nbformat": 4,
 "nbformat_minor": 5
}
